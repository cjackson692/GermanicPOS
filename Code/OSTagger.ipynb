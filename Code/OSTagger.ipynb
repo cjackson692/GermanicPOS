{
  "nbformat": 4,
  "nbformat_minor": 0,
  "metadata": {
    "colab": {
      "provenance": [],
      "gpuType": "T4"
    },
    "kernelspec": {
      "name": "python3",
      "display_name": "Python 3"
    },
    "language_info": {
      "name": "python"
    },
    "accelerator": "GPU"
  },
  "cells": [
    {
      "cell_type": "code",
      "source": [
        "import torch\n",
        "import torch.nn as nn\n",
        "import torch.optim as optim\n",
        "import spacy\n",
        "import numpy as np\n",
        "import time\n",
        "import random\n",
        "from collections import Counter\n",
        "from sklearn.model_selection import train_test_split\n",
        "from torch.utils.data import TensorDataset, DataLoader\n",
        "import tensorflow as tf\n",
        "import matplotlib.pyplot as plt\n",
        "import math\n",
        "import pandas as pd"
      ],
      "metadata": {
        "id": "VMGp9ag-BtMj"
      },
      "execution_count": null,
      "outputs": []
    },
    {
      "cell_type": "code",
      "source": [
        "if torch.cuda.is_available():\n",
        "    device = torch.device(\"cuda\")\n",
        "    print('Script is running with GPU')\n",
        "else:\n",
        "  device = torch.device(\"cpu\")\n",
        "  print('Script is running WITHOUT GPU')"
      ],
      "metadata": {
        "colab": {
          "base_uri": "https://localhost:8080/"
        },
        "id": "4jNr589HBv7n",
        "outputId": "bef6b3b2-1938-4b1f-df82-7f73d6f4f33d"
      },
      "execution_count": null,
      "outputs": [
        {
          "output_type": "stream",
          "name": "stdout",
          "text": [
            "Script is running with GPU\n"
          ]
        }
      ]
    },
    {
      "cell_type": "code",
      "source": [
        "sents = list(np.load('OS_sents.npy', allow_pickle=True))\n",
        "tags = list(np.load('OS_tags_minimal.npy', allow_pickle=True))\n",
        "problems = []"
      ],
      "metadata": {
        "id": "vSGKKyomByIn"
      },
      "execution_count": null,
      "outputs": []
    },
    {
      "cell_type": "code",
      "source": [
        "usable_sents = []\n",
        "usable_tags = []\n",
        "for idx, sent in enumerate(sents):\n",
        "  tempsent = []\n",
        "  temptags = []\n",
        "  for i, word in enumerate(sent):\n",
        "    if tags[idx][i] != 'PUNCT':\n",
        "      tempsent.append(word)\n",
        "      temptags.append(tags[idx][i])\n",
        "  usable_sents.append(tempsent)\n",
        "  usable_tags.append(temptags)"
      ],
      "metadata": {
        "id": "0245tm7Z0rpj"
      },
      "execution_count": null,
      "outputs": []
    },
    {
      "cell_type": "code",
      "source": [
        "#for idx, sent in enumerate(sents):\n",
        "#  sent.insert(0, 'start')\n",
        "#  sent.append('stop')\n",
        "#  sents[idx] = sent\n",
        "#for idx, sent in enumerate(tags):\n",
        "#  sent.insert(0, 'start')\n",
        "#  sent.append('stop')\n",
        "#  tags[idx] = sent\n",
        "#for idx, sent in enumerate(tags):\n",
        "#  if 'XX' in sent:\n",
        "#    problems.append(idx)"
      ],
      "metadata": {
        "id": "Qhb9N3rAB6YM"
      },
      "execution_count": null,
      "outputs": []
    },
    {
      "cell_type": "code",
      "source": [
        "rawwords = []\n",
        "for sent in sents:\n",
        "  for word in sent:\n",
        "    rawwords.append(word)\n",
        "\n",
        "rawtags = []\n",
        "for sequence in usable_tags:\n",
        "  for tag in sequence:\n",
        "    rawtags.append(tag)"
      ],
      "metadata": {
        "id": "M-UuX3k4CRRU"
      },
      "execution_count": null,
      "outputs": []
    },
    {
      "cell_type": "code",
      "source": [
        "len(sents)"
      ],
      "metadata": {
        "colab": {
          "base_uri": "https://localhost:8080/"
        },
        "id": "uQx5zgwTEDIK",
        "outputId": "73560855-3d23-4197-927e-72cb17b9358b"
      },
      "execution_count": null,
      "outputs": [
        {
          "output_type": "execute_result",
          "data": {
            "text/plain": [
              "3549"
            ]
          },
          "metadata": {},
          "execution_count": 8
        }
      ]
    },
    {
      "cell_type": "code",
      "source": [
        "allwords = list(set(rawwords))\n",
        "alltags = list(set(rawtags))"
      ],
      "metadata": {
        "id": "XldbNrfKCT7U"
      },
      "execution_count": null,
      "outputs": []
    },
    {
      "cell_type": "code",
      "source": [
        "alltags"
      ],
      "metadata": {
        "colab": {
          "base_uri": "https://localhost:8080/"
        },
        "id": "HF5aSEvs1zaJ",
        "outputId": "3e7a5168-73b2-4216-c3c3-4ca3023e4bca"
      },
      "execution_count": null,
      "outputs": [
        {
          "output_type": "execute_result",
          "data": {
            "text/plain": [
              "['Q',\n",
              " 'D',\n",
              " 'NUM',\n",
              " 'ADJ',\n",
              " 'NEG',\n",
              " 'ADV',\n",
              " 'CONJ',\n",
              " 'N',\n",
              " 'start',\n",
              " 'C',\n",
              " 'WH',\n",
              " 'PRO',\n",
              " 'VB',\n",
              " 'INTJ',\n",
              " 'PART',\n",
              " 'P',\n",
              " 'stop',\n",
              " 'PRO$',\n",
              " 'XX']"
            ]
          },
          "metadata": {},
          "execution_count": 10
        }
      ]
    },
    {
      "cell_type": "code",
      "source": [
        "charsents = []\n",
        "for sent in usable_sents:\n",
        "  charsent = []\n",
        "  for word in sent:\n",
        "    if word == 'start':\n",
        "      charsent.append([word])\n",
        "    elif word == 'stop':\n",
        "      charsent.append([word])\n",
        "    else:\n",
        "      charsent.append(['$']+list(word.lower())+['%'])\n",
        "  charsents.append(charsent)"
      ],
      "metadata": {
        "id": "kYufKWN53fMr"
      },
      "execution_count": null,
      "outputs": []
    },
    {
      "cell_type": "code",
      "source": [
        "len(usable_sents)"
      ],
      "metadata": {
        "colab": {
          "base_uri": "https://localhost:8080/"
        },
        "id": "WOkI7MNr3umy",
        "outputId": "e9ec69d4-b97f-490c-958c-408711fa45c2"
      },
      "execution_count": null,
      "outputs": [
        {
          "output_type": "execute_result",
          "data": {
            "text/plain": [
              "3549"
            ]
          },
          "metadata": {},
          "execution_count": 12
        }
      ]
    },
    {
      "cell_type": "code",
      "source": [
        "len(charsents)"
      ],
      "metadata": {
        "colab": {
          "base_uri": "https://localhost:8080/"
        },
        "id": "QqYfzWslEGc2",
        "outputId": "b2ecc51f-bf42-45f2-c133-a3ad20a0f521"
      },
      "execution_count": null,
      "outputs": [
        {
          "output_type": "execute_result",
          "data": {
            "text/plain": [
              "3549"
            ]
          },
          "metadata": {},
          "execution_count": 13
        }
      ]
    },
    {
      "cell_type": "code",
      "source": [
        "allchars = []\n",
        "for sent in charsents:\n",
        "  for word in sent:\n",
        "    for char in word:\n",
        "      allchars.append(char)"
      ],
      "metadata": {
        "id": "KqWNdpNJ43Cw"
      },
      "execution_count": null,
      "outputs": []
    },
    {
      "cell_type": "code",
      "source": [
        "allchars = list(set(allchars))"
      ],
      "metadata": {
        "id": "arR3WNd05v5I"
      },
      "execution_count": null,
      "outputs": []
    },
    {
      "cell_type": "code",
      "source": [
        "allchars"
      ],
      "metadata": {
        "colab": {
          "base_uri": "https://localhost:8080/"
        },
        "id": "UvOx8HZu5xnU",
        "outputId": "2ecf2399-232d-4711-9d1d-18f32b35178f"
      },
      "execution_count": null,
      "outputs": [
        {
          "output_type": "execute_result",
          "data": {
            "text/plain": [
              "['o',\n",
              " 'v',\n",
              " 's',\n",
              " 'd',\n",
              " 'm',\n",
              " 'e',\n",
              " 'đ',\n",
              " '%',\n",
              " 'g',\n",
              " 'p',\n",
              " 'r',\n",
              " 'l',\n",
              " 'start',\n",
              " 't',\n",
              " 'q',\n",
              " 'i',\n",
              " 'c',\n",
              " 'b',\n",
              " 'k',\n",
              " 'f',\n",
              " 'h',\n",
              " 'u',\n",
              " 'a',\n",
              " 'stop',\n",
              " '$',\n",
              " 'ƀ',\n",
              " 'n',\n",
              " 'z',\n",
              " 'y']"
            ]
          },
          "metadata": {},
          "execution_count": 16
        }
      ]
    },
    {
      "cell_type": "code",
      "source": [
        "word_tokenizer = {word: idx+1 for idx, word in enumerate(allwords)}\n",
        "word_decoder = {idx+1: word for idx, word in enumerate(allwords)}\n",
        "tag_tokenizer = {tag: idx+1 for idx, tag in enumerate(alltags)}\n",
        "tag_decoder = {idx+1: tag for idx, tag in enumerate(alltags)}\n",
        "char_tokenizer = {char: idx+1 for idx, char in enumerate(allchars)}\n",
        "char_decoder = {idx+1: char for idx, char in enumerate(allchars)}\n",
        "\n",
        "def tokenize_sent(sentences, tokenizer):\n",
        "  indexed_sentences = []\n",
        "  for sentence in sentences:\n",
        "    indexed_sentence = [tokenizer[word] for word in sentence]\n",
        "    indexed_sentences.append(indexed_sentence)\n",
        "  return indexed_sentences\n",
        "\n",
        "def tokenize_word(sentences, tokenizer):\n",
        "  indexed_sentences = []\n",
        "  for sentence in sentences:\n",
        "    indexed_words = []\n",
        "    for word in sentence:\n",
        "      indexed_word = [tokenizer[char] for char in word]\n",
        "      indexed_words.append(indexed_word)\n",
        "    indexed_sentences.append(indexed_words)\n",
        "  return indexed_sentences\n",
        "\n",
        "encsents = tokenize_sent(usable_sents, word_tokenizer)\n",
        "enctags = tokenize_sent(usable_tags, tag_tokenizer)\n",
        "encchars = tokenize_word(charsents, char_tokenizer)"
      ],
      "metadata": {
        "id": "0lHYaW1mCXNC"
      },
      "execution_count": null,
      "outputs": []
    },
    {
      "cell_type": "code",
      "source": [
        "encchars[0]"
      ],
      "metadata": {
        "colab": {
          "base_uri": "https://localhost:8080/"
        },
        "id": "7q6BvtJC5sd-",
        "outputId": "1b54a5e5-1a54-454f-96b8-5f732d7305e3"
      },
      "execution_count": null,
      "outputs": [
        {
          "output_type": "execute_result",
          "data": {
            "text/plain": [
              "[[13],\n",
              " [25, 5, 23, 27, 6, 9, 23, 8],\n",
              " [25, 22, 22, 23, 11, 1, 27, 8],\n",
              " [25, 14, 21, 6, 8],\n",
              " [25, 3, 16, 23, 8],\n",
              " [25, 16, 11, 1, 8],\n",
              " [25, 5, 1, 4, 8],\n",
              " [25, 9, 6, 3, 10, 1, 27, 8],\n",
              " [25, 14, 21, 23, 14, 8],\n",
              " [25, 3, 16, 23, 8],\n",
              " [25, 22, 22, 1, 11, 4, 8],\n",
              " [25, 9, 1, 4, 6, 3, 8],\n",
              " [25, 22, 22, 16, 3, 6, 23, 27, 8],\n",
              " [25, 18, 16, 9, 22, 27, 27, 22, 27, 8],\n",
              " [25, 11, 6, 17, 19, 6, 23, 27, 8],\n",
              " [25, 14, 21, 23, 14, 8],\n",
              " [25, 9, 16, 11, 22, 27, 16, 8],\n",
              " [25, 14, 21, 23, 14, 8],\n",
              " [25, 14, 21, 16, 6, 8],\n",
              " [25, 11, 16, 17, 6, 1, 8],\n",
              " [25, 17, 11, 16, 3, 14, 8],\n",
              " [25, 22, 27, 4, 23, 11, 8],\n",
              " [25, 5, 23, 27, 17, 22, 27, 27, 6, 23, 8],\n",
              " [25, 5, 23, 11, 16, 14, 21, 23, 8],\n",
              " [25, 9, 16, 20, 11, 22, 5, 16, 4, 23, 8],\n",
              " [25, 5, 16, 4, 8],\n",
              " [25, 22, 22, 1, 11, 4, 22, 27, 8],\n",
              " [25, 6, 27, 4, 16, 8],\n",
              " [25, 5, 16, 4, 8],\n",
              " [25, 22, 22, 6, 11, 17, 22, 27, 8],\n",
              " [24]]"
            ]
          },
          "metadata": {},
          "execution_count": 18
        }
      ]
    },
    {
      "cell_type": "code",
      "source": [
        "padsents, padtags, padchars1 = [], [], []\n",
        "\n",
        "maxlen = max(len(sublist) for sublist in encsents)\n",
        "for sublist in encsents:\n",
        "  while len(sublist) < maxlen:\n",
        "    sublist = sublist + [0]\n",
        "    if len(sublist) == maxlen:\n",
        "      break\n",
        "    sublist = [0] + sublist\n",
        "  padsents.append(sublist)\n",
        "\n",
        "allenctags = []\n",
        "maxlen = max(len(sublist) for sublist in enctags)\n",
        "for sublist in enctags:\n",
        "  for i in sublist:\n",
        "    allenctags.append(i)\n",
        "  while len(sublist) < maxlen:\n",
        "    sublist = sublist + [0]\n",
        "    if len(sublist) == maxlen:\n",
        "      break\n",
        "    sublist = [0] + sublist\n",
        "  padtags.append(sublist)\n",
        "\n",
        "maxlen = max(len(sublist) for sublist in encchars)\n",
        "for sublist in encchars:\n",
        "  while len(sublist) < maxlen:\n",
        "    sublist = sublist + [[0]]\n",
        "    if len(sublist) == maxlen:\n",
        "      break\n",
        "    sublist = [[0]] + sublist\n",
        "  padchars1.append(sublist)"
      ],
      "metadata": {
        "id": "y-RUarDSoU7C"
      },
      "execution_count": null,
      "outputs": []
    },
    {
      "cell_type": "code",
      "source": [
        "padchars1[0]"
      ],
      "metadata": {
        "colab": {
          "base_uri": "https://localhost:8080/"
        },
        "id": "quhirQzt6fpz",
        "outputId": "40185f2e-577d-4f72-a3f7-057f9bdc7c2a"
      },
      "execution_count": null,
      "outputs": [
        {
          "output_type": "execute_result",
          "data": {
            "text/plain": [
              "[[0],\n",
              " [0],\n",
              " [0],\n",
              " [0],\n",
              " [0],\n",
              " [0],\n",
              " [0],\n",
              " [0],\n",
              " [0],\n",
              " [0],\n",
              " [0],\n",
              " [0],\n",
              " [0],\n",
              " [0],\n",
              " [0],\n",
              " [0],\n",
              " [0],\n",
              " [0],\n",
              " [0],\n",
              " [0],\n",
              " [0],\n",
              " [0],\n",
              " [0],\n",
              " [13],\n",
              " [25, 5, 23, 27, 6, 9, 23, 8],\n",
              " [25, 22, 22, 23, 11, 1, 27, 8],\n",
              " [25, 14, 21, 6, 8],\n",
              " [25, 3, 16, 23, 8],\n",
              " [25, 16, 11, 1, 8],\n",
              " [25, 5, 1, 4, 8],\n",
              " [25, 9, 6, 3, 10, 1, 27, 8],\n",
              " [25, 14, 21, 23, 14, 8],\n",
              " [25, 3, 16, 23, 8],\n",
              " [25, 22, 22, 1, 11, 4, 8],\n",
              " [25, 9, 1, 4, 6, 3, 8],\n",
              " [25, 22, 22, 16, 3, 6, 23, 27, 8],\n",
              " [25, 18, 16, 9, 22, 27, 27, 22, 27, 8],\n",
              " [25, 11, 6, 17, 19, 6, 23, 27, 8],\n",
              " [25, 14, 21, 23, 14, 8],\n",
              " [25, 9, 16, 11, 22, 27, 16, 8],\n",
              " [25, 14, 21, 23, 14, 8],\n",
              " [25, 14, 21, 16, 6, 8],\n",
              " [25, 11, 16, 17, 6, 1, 8],\n",
              " [25, 17, 11, 16, 3, 14, 8],\n",
              " [25, 22, 27, 4, 23, 11, 8],\n",
              " [25, 5, 23, 27, 17, 22, 27, 27, 6, 23, 8],\n",
              " [25, 5, 23, 11, 16, 14, 21, 23, 8],\n",
              " [25, 9, 16, 20, 11, 22, 5, 16, 4, 23, 8],\n",
              " [25, 5, 16, 4, 8],\n",
              " [25, 22, 22, 1, 11, 4, 22, 27, 8],\n",
              " [25, 6, 27, 4, 16, 8],\n",
              " [25, 5, 16, 4, 8],\n",
              " [25, 22, 22, 6, 11, 17, 22, 27, 8],\n",
              " [24],\n",
              " [0],\n",
              " [0],\n",
              " [0],\n",
              " [0],\n",
              " [0],\n",
              " [0],\n",
              " [0],\n",
              " [0],\n",
              " [0],\n",
              " [0],\n",
              " [0],\n",
              " [0],\n",
              " [0],\n",
              " [0],\n",
              " [0],\n",
              " [0],\n",
              " [0],\n",
              " [0],\n",
              " [0],\n",
              " [0],\n",
              " [0],\n",
              " [0],\n",
              " [0],\n",
              " [0]]"
            ]
          },
          "metadata": {},
          "execution_count": 20
        }
      ]
    },
    {
      "cell_type": "code",
      "source": [
        "padchars = []\n",
        "maxlen_char = 0\n",
        "for sent in padchars1:\n",
        "  for sublist in sent:\n",
        "    if len(sublist) > maxlen_char:\n",
        "      maxlen_char = len(sublist)\n",
        "for sent in padchars1:\n",
        "  temp = []\n",
        "  for sublist in sent:\n",
        "    while len(sublist) < maxlen_char:\n",
        "      sublist = sublist + [0]\n",
        "      if len(sublist) == maxlen_char:\n",
        "        break\n",
        "      sublist = [0] + sublist\n",
        "    temp.append(sublist)\n",
        "  padchars.append(temp)\n"
      ],
      "metadata": {
        "id": "eZP6uUmf6_ns"
      },
      "execution_count": null,
      "outputs": []
    },
    {
      "cell_type": "code",
      "source": [
        "maxlen_char"
      ],
      "metadata": {
        "colab": {
          "base_uri": "https://localhost:8080/"
        },
        "id": "DfBL5ZQpDoSx",
        "outputId": "c0b09ada-f766-47a5-8b40-ff6304b62337"
      },
      "execution_count": null,
      "outputs": [
        {
          "output_type": "execute_result",
          "data": {
            "text/plain": [
              "17"
            ]
          },
          "metadata": {},
          "execution_count": 22
        }
      ]
    },
    {
      "cell_type": "code",
      "source": [
        "for i in range(len(padchars)):\n",
        "  for j in range(len(padchars[i])):\n",
        "    if len(padchars[i][j]) != maxlen_char:\n",
        "      print(i, j)"
      ],
      "metadata": {
        "id": "U0myTdIb7Ngf"
      },
      "execution_count": null,
      "outputs": []
    },
    {
      "cell_type": "code",
      "source": [
        "len(padchars[179][60])"
      ],
      "metadata": {
        "colab": {
          "base_uri": "https://localhost:8080/"
        },
        "id": "PcEyKYK-DV2l",
        "outputId": "dc9a8698-6463-41c0-cedd-35548abc494d"
      },
      "execution_count": null,
      "outputs": [
        {
          "output_type": "execute_result",
          "data": {
            "text/plain": [
              "17"
            ]
          },
          "metadata": {},
          "execution_count": 24
        }
      ]
    },
    {
      "cell_type": "code",
      "source": [
        "tag_mask = []\n",
        "for seq in padtags:\n",
        "  mask = [1]*len(seq)\n",
        "  for idx, tag in enumerate(seq):\n",
        "    if tag == tag_tokenizer['XX']:\n",
        "      mask[idx] = 0\n",
        "    if tag == tag_tokenizer['start']:\n",
        "      mask[idx] = 0\n",
        "    if tag == tag_tokenizer['stop']:\n",
        "      mask[idx] = 0\n",
        "  tag_mask.append(mask)"
      ],
      "metadata": {
        "id": "8JbQFWsZnZHC"
      },
      "execution_count": null,
      "outputs": []
    },
    {
      "cell_type": "code",
      "source": [
        "pad_tags_mask = []\n",
        "for i in range(len(padtags)):\n",
        "  pad_tags_mask.append([padtags[i], tag_mask[i]])\n",
        "\n",
        "pad_sents_chars = []\n",
        "for i in range(len(padsents)):\n",
        "  pad_sents_chars.append([padsents[i], padchars[i]])"
      ],
      "metadata": {
        "id": "4Y4f1bH1nbpt"
      },
      "execution_count": null,
      "outputs": []
    },
    {
      "cell_type": "code",
      "source": [
        "X1_test, X1_train, X2_test, X2_train, y_test, y_train = train_test_split(padsents, padchars, pad_tags_mask, test_size=0.8)\n",
        "X1_train_tensor = torch.tensor(X1_train, dtype=torch.long).to(device)\n",
        "y_train_tensor = torch.tensor(y_train, dtype=torch.long).to(device)\n",
        "X1_test_tensor = torch.tensor(X1_test, dtype=torch.long).to(device)\n",
        "y_test_tensor = torch.tensor(y_test, dtype=torch.long).to(device)\n",
        "X2_train_tensor = torch.tensor(X2_train, dtype=torch.long).to(device)\n",
        "X2_test_tensor = torch.tensor(X2_test, dtype=torch.long).to(device)\n",
        "train_dataset = TensorDataset(X1_train_tensor, X2_train_tensor, y_train_tensor)\n",
        "test_dataset = TensorDataset(X1_test_tensor, X2_test_tensor, y_test_tensor)\n",
        "batch_size = 64\n",
        "train_loader = DataLoader(train_dataset, batch_size=batch_size)\n",
        "test_loader = DataLoader(test_dataset, batch_size=batch_size)"
      ],
      "metadata": {
        "id": "icJ63bniCpuy"
      },
      "execution_count": null,
      "outputs": []
    },
    {
      "cell_type": "code",
      "source": [
        "#torch.save(train_loader, 'OSTrain.pth')\n",
        "#torch.save(test_loader, 'OSTest.pth')"
      ],
      "metadata": {
        "id": "eM-yLrO1Ct4g"
      },
      "execution_count": null,
      "outputs": []
    },
    {
      "cell_type": "code",
      "source": [
        "#train_loader = torch.load('OSTrain.pth', map_location=device)\n",
        "#test_loader = torch.load('OSTest.pth', map_location=device)"
      ],
      "metadata": {
        "id": "BAOUciJCC5e2"
      },
      "execution_count": null,
      "outputs": []
    },
    {
      "cell_type": "code",
      "source": [
        "print(X1_train_tensor.size())\n",
        "print(X2_train_tensor.size())\n",
        "print(y_train_tensor.size())\n",
        "print(X1_test_tensor.size())\n",
        "print(X2_test_tensor.size())\n",
        "print(y_test_tensor.size())"
      ],
      "metadata": {
        "id": "mhBXG2t4C-TU",
        "colab": {
          "base_uri": "https://localhost:8080/"
        },
        "outputId": "705a65aa-20f3-490e-cbb9-2e31f7ace143"
      },
      "execution_count": null,
      "outputs": [
        {
          "output_type": "stream",
          "name": "stdout",
          "text": [
            "torch.Size([2840, 78])\n",
            "torch.Size([2840, 78, 17])\n",
            "torch.Size([2840, 2, 78])\n",
            "torch.Size([709, 78])\n",
            "torch.Size([709, 78, 17])\n",
            "torch.Size([709, 2, 78])\n"
          ]
        }
      ]
    },
    {
      "cell_type": "code",
      "source": [
        "def calculate_class_weights(y):\n",
        "    unique_classes, class_counts = np.unique(y, return_counts=True)\n",
        "    print(unique_classes)\n",
        "    print(class_counts)\n",
        "    total_samples = len(y)-(3549*2)\n",
        "    class_weights = []\n",
        "    class_weights.append(1)\n",
        "\n",
        "    for class_label, class_count in zip(unique_classes, class_counts):\n",
        "        class_weight = math.log(total_samples / (class_count))\n",
        "        if class_count == 3549:\n",
        "          class_weight = 1\n",
        "        class_weights.append(class_weight)\n",
        "\n",
        "    class_weights = torch.tensor(class_weights, dtype=torch.float32).to(device)\n",
        "\n",
        "    return class_weights"
      ],
      "metadata": {
        "id": "xjGkYL1YIfbj"
      },
      "execution_count": null,
      "outputs": []
    },
    {
      "cell_type": "code",
      "source": [
        "alltags"
      ],
      "metadata": {
        "colab": {
          "base_uri": "https://localhost:8080/"
        },
        "id": "RQ18NL2fJ-hB",
        "outputId": "a0bbd3f3-febd-4ab9-ade6-3686fe5a7cb8"
      },
      "execution_count": null,
      "outputs": [
        {
          "output_type": "execute_result",
          "data": {
            "text/plain": [
              "['Q',\n",
              " 'D',\n",
              " 'NUM',\n",
              " 'ADJ',\n",
              " 'NEG',\n",
              " 'ADV',\n",
              " 'CONJ',\n",
              " 'N',\n",
              " 'start',\n",
              " 'C',\n",
              " 'WH',\n",
              " 'PRO',\n",
              " 'VB',\n",
              " 'INTJ',\n",
              " 'PART',\n",
              " 'P',\n",
              " 'stop',\n",
              " 'PRO$',\n",
              " 'XX']"
            ]
          },
          "metadata": {},
          "execution_count": 32
        }
      ]
    },
    {
      "cell_type": "code",
      "source": [
        "unique_classes, class_counts = np.unique(allenctags, return_counts=True)\n",
        "print(len(unique_classes))\n",
        "print(class_counts)"
      ],
      "metadata": {
        "colab": {
          "base_uri": "https://localhost:8080/"
        },
        "id": "TrJcjVrUKOKW",
        "outputId": "e940e3a2-87bc-4bde-d184-8829e625cbc1"
      },
      "execution_count": null,
      "outputs": [
        {
          "output_type": "stream",
          "name": "stdout",
          "text": [
            "19\n",
            "[  805  3509   225  3167   608  4655  1112 11823  3549  1398   177  4447\n",
            "  8728     7    53  3809  3549  1551   106]\n"
          ]
        }
      ]
    },
    {
      "cell_type": "code",
      "source": [
        "list(set(allenctags))"
      ],
      "metadata": {
        "colab": {
          "base_uri": "https://localhost:8080/"
        },
        "id": "RxnpVPW9KZkG",
        "outputId": "61b408db-92d5-45f3-daa4-c611e3a67991"
      },
      "execution_count": null,
      "outputs": [
        {
          "output_type": "execute_result",
          "data": {
            "text/plain": [
              "[1, 2, 3, 4, 5, 6, 7, 8, 9, 10, 11, 12, 13, 14, 15, 16, 17, 18, 19]"
            ]
          },
          "metadata": {},
          "execution_count": 34
        }
      ]
    },
    {
      "cell_type": "code",
      "source": [
        "tag_decoder"
      ],
      "metadata": {
        "colab": {
          "base_uri": "https://localhost:8080/"
        },
        "id": "QYdPJBpOLNp3",
        "outputId": "24c2789a-19b6-4985-cf8d-c0b5333dd4db"
      },
      "execution_count": null,
      "outputs": [
        {
          "output_type": "execute_result",
          "data": {
            "text/plain": [
              "{1: 'Q',\n",
              " 2: 'D',\n",
              " 3: 'NUM',\n",
              " 4: 'ADJ',\n",
              " 5: 'NEG',\n",
              " 6: 'ADV',\n",
              " 7: 'CONJ',\n",
              " 8: 'N',\n",
              " 9: 'start',\n",
              " 10: 'C',\n",
              " 11: 'WH',\n",
              " 12: 'PRO',\n",
              " 13: 'VB',\n",
              " 14: 'INTJ',\n",
              " 15: 'PART',\n",
              " 16: 'P',\n",
              " 17: 'stop',\n",
              " 18: 'PRO$',\n",
              " 19: 'XX'}"
            ]
          },
          "metadata": {},
          "execution_count": 35
        }
      ]
    },
    {
      "cell_type": "code",
      "source": [
        "class_weights = calculate_class_weights(allenctags)\n",
        "print(\"Class weights:\", class_weights)\n",
        "print(len(class_weights))\n",
        "print(len(alltags)+1)"
      ],
      "metadata": {
        "colab": {
          "base_uri": "https://localhost:8080/"
        },
        "id": "HgAnNWiuIgjw",
        "outputId": "e4534f7c-f6ca-499b-cab6-6422a4c3ff25"
      },
      "execution_count": null,
      "outputs": [
        {
          "output_type": "stream",
          "name": "stdout",
          "text": [
            "[ 1  2  3  4  5  6  7  8  9 10 11 12 13 14 15 16 17 18 19]\n",
            "[  805  3509   225  3167   608  4655  1112 11823  3549  1398   177  4447\n",
            "  8728     7    53  3809  3549  1551   106]\n",
            "Class weights: tensor([1.0000, 4.0495, 2.5772, 5.3242, 2.6798, 4.3301, 2.2946, 3.7264, 1.3625,\n",
            "        1.0000, 3.4975, 5.5642, 2.3403, 1.6660, 8.7944, 6.7700, 2.4952, 1.0000,\n",
            "        3.3936, 6.0769], device='cuda:0')\n",
            "20\n",
            "20\n"
          ]
        }
      ]
    },
    {
      "cell_type": "code",
      "source": [
        "class Model(nn.Module):\n",
        "  def __init__(self):\n",
        "    super().__init__()\n",
        "\n",
        "  def categorical_accuracy(self, preds, y, mask, tag_pad_idx = 0):\n",
        "    max_preds = preds.argmax(dim = 1, keepdim = False)\n",
        "    max_preds = max_preds*mask\n",
        "    y = y*mask\n",
        "    max_preds = torch.flatten(max_preds)\n",
        "    y = torch.flatten(y)\n",
        "    non_pad_elements = y.nonzero()\n",
        "    correct = max_preds[non_pad_elements].eq(y[non_pad_elements])\n",
        "    return correct.sum() / y[non_pad_elements].shape[0]\n",
        "\n",
        "  def early_stop(self, validation_loss, patience = 3, min_delta = 0):\n",
        "    if validation_loss < self.min_validation_loss:\n",
        "        self.min_validation_loss = validation_loss\n",
        "        self.patiencecount = 0\n",
        "    elif validation_loss > (self.min_validation_loss + min_delta):\n",
        "        self.patiencecount += 1\n",
        "        print(f\"Early stopping counter: {self.patiencecount} out of {patience}\")\n",
        "        if self.patiencecount >= patience:\n",
        "            return True\n",
        "    return False\n",
        "\n",
        "  def fit(self, train_dl, val_dl, epochs, pad_idx = 0):\n",
        "    optimizer = torch.optim.Adam(self.parameters(), lr = 0.001)\n",
        "\n",
        "    self.patiencecount = 0\n",
        "    self.min_validation_loss = float('inf')\n",
        "\n",
        "    self.trainlosses = []\n",
        "    self.vallosses = []\n",
        "\n",
        "    self.train_accs = []\n",
        "    self.val_accs = []\n",
        "\n",
        "    counter = 0\n",
        "    for epoch in range(epochs):\n",
        "      for batch in train_dl:\n",
        "        counter += 1\n",
        "        words = batch[0]\n",
        "        chars = batch[1]\n",
        "        output = batch[2]\n",
        "        output = output.transpose(0,1)\n",
        "        tags = output[0]\n",
        "        mask = output[1]\n",
        "        optimizer.zero_grad()\n",
        "        preds = self.forward(words, chars)\n",
        "        preds = preds.transpose(1,2)\n",
        "        loss = self.loss_fn(preds, tags)\n",
        "        #loss = (loss * mask).sum() / mask.sum()\n",
        "        loss.backward()\n",
        "        optimizer.step()\n",
        "      train_loss, train_acc = self.evaluate(train_dl)\n",
        "      val_loss, val_acc = self.evaluate(val_dl)\n",
        "      self.trainlosses.append(train_loss)\n",
        "      self.vallosses.append(val_loss)\n",
        "      self.train_accs.append(train_acc)\n",
        "      self.val_accs.append(val_acc)\n",
        "      if self.early_stop(val_loss):\n",
        "        break\n",
        "      train_acc = train_acc*100\n",
        "      val_acc = val_acc*100\n",
        "      print(f\"Epoch [{epoch + 1}] - TrainLoss: {train_loss:.4f}, ValLoss: {val_loss:.4f}, TrainAcc: {train_acc:.2f},% ValAcc: {val_acc:.2f}%\")\n",
        "\n",
        "  def evaluate(self, val_dl, pad_idx = 0):\n",
        "    losses = []\n",
        "    accuracies = []\n",
        "    with torch.no_grad():\n",
        "      for batch in val_dl:\n",
        "          words = batch[0]\n",
        "          chars = batch[1]\n",
        "          output = batch[2]\n",
        "          output = output.transpose(0,1)\n",
        "          tags = output[0]\n",
        "          mask = output[1]\n",
        "          preds = self.forward(words, chars)\n",
        "          preds = preds.transpose(1,2)\n",
        "          loss = self.loss_fn(preds, tags)\n",
        "          #loss = (loss * mask).sum() / mask.sum()\n",
        "          losses.append(loss)\n",
        "          acc = self.categorical_accuracy(preds, tags, mask, pad_idx)\n",
        "          accuracies.append(acc)\n",
        "    return torch.Tensor(losses).mean(), torch.Tensor(accuracies).mean()"
      ],
      "metadata": {
        "id": "RJSXbDoAjdZe"
      },
      "execution_count": null,
      "outputs": []
    },
    {
      "cell_type": "code",
      "source": [
        "class OSTagger(Model):\n",
        "    def __init__(self, vocab, char_vocab, embeds, char_emb, hidden, tagset, n_layers, dropout, criterion, maxlen, maxlen_char, batch_size, pad_idx = 0):\n",
        "        super().__init__()\n",
        "        self.maxlen = maxlen\n",
        "        self.maxlen_char = maxlen_char\n",
        "        self.batch_size = batch_size\n",
        "        self.char_emb = char_emb\n",
        "        self.hidden = hidden\n",
        "        self.n_layers = n_layers\n",
        "\n",
        "        self.charembedding = nn.Embedding(char_vocab, char_emb, padding_idx = pad_idx, scale_grad_by_freq = True)\n",
        "        self.charlstm = nn.LSTM(char_emb, hidden, num_layers = n_layers, bidirectional = True,\n",
        "                            dropout =  0, batch_first=True)\n",
        "        self.embedding = nn.Embedding(vocab, embeds, padding_idx = pad_idx, scale_grad_by_freq = True)\n",
        "        self.lstm = nn.LSTM(embeds + hidden*n_layers*2, hidden, num_layers = n_layers, bidirectional = True,\n",
        "                            dropout = dropout*1.5 if n_layers > 1 else 0)\n",
        "        self.lin = nn.Linear(hidden * 2, tagset)\n",
        "\n",
        "        self.dropout = nn.Dropout(dropout)\n",
        "        self.loss_fn = criterion\n",
        "\n",
        "    def forward(self, words, chars):\n",
        "        x = self.charembedding(chars)\n",
        "        x = x.reshape(-1, self.maxlen_char, self.char_emb)\n",
        "        x, (hidden, cell) = self.charlstm(x)\n",
        "        hidden = hidden.transpose(0,1)\n",
        "        hidden = hidden.reshape(-1, self.maxlen, self.hidden*self.n_layers*2)\n",
        "        x = self.embedding(words)\n",
        "        x = torch.cat((x, hidden), dim = 2)\n",
        "        x, (hidden, cell) = self.lstm(x)\n",
        "        x = self.lin(self.dropout(x))\n",
        "        return x\n"
      ],
      "metadata": {
        "id": "xc51Oh8ajpEO"
      },
      "execution_count": null,
      "outputs": []
    },
    {
      "cell_type": "code",
      "source": [
        "vocab = len(allwords)+1\n",
        "char_vocab = len(allchars)+1\n",
        "word_emb = 50\n",
        "char_emb = 200\n",
        "n_hidden = 300\n",
        "n_tags = len(alltags)+1\n",
        "n_layers = 2\n",
        "dropout = .2\n",
        "pad_idx = 0\n",
        "criterion = nn.CrossEntropyLoss(ignore_index = pad_idx, weight=class_weights).to(device)"
      ],
      "metadata": {
        "id": "HpDNtwPZjtRs"
      },
      "execution_count": null,
      "outputs": []
    },
    {
      "cell_type": "code",
      "source": [
        "network_OSTagger = OSTagger(vocab, char_vocab, word_emb, char_emb, n_hidden, n_tags, n_layers, dropout, criterion, maxlen, maxlen_char, batch_size, pad_idx).to(device)"
      ],
      "metadata": {
        "id": "DmjssqHyjxLo"
      },
      "execution_count": null,
      "outputs": []
    },
    {
      "cell_type": "code",
      "source": [
        "%time network_OSTagger.fit(train_loader, test_loader, 100)"
      ],
      "metadata": {
        "id": "R6pda2Dwjzwe",
        "colab": {
          "base_uri": "https://localhost:8080/"
        },
        "outputId": "3f4c034d-a350-4cf0-b3b3-00b14d087219"
      },
      "execution_count": null,
      "outputs": [
        {
          "output_type": "stream",
          "name": "stdout",
          "text": [
            "Epoch [1] - TrainLoss: 1.0476, ValLoss: 1.0233, TrainAcc: 60.26,% ValAcc: 60.96%\n",
            "Epoch [2] - TrainLoss: 0.5687, ValLoss: 0.5609, TrainAcc: 79.14,% ValAcc: 78.76%\n",
            "Epoch [3] - TrainLoss: 0.3700, ValLoss: 0.3864, TrainAcc: 85.69,% ValAcc: 84.39%\n",
            "Epoch [4] - TrainLoss: 0.2613, ValLoss: 0.2974, TrainAcc: 90.61,% ValAcc: 88.91%\n",
            "Epoch [5] - TrainLoss: 0.2239, ValLoss: 0.2772, TrainAcc: 91.14,% ValAcc: 88.65%\n",
            "Epoch [6] - TrainLoss: 0.2002, ValLoss: 0.2702, TrainAcc: 91.61,% ValAcc: 88.40%\n",
            "Epoch [7] - TrainLoss: 0.1609, ValLoss: 0.2559, TrainAcc: 93.60,% ValAcc: 90.06%\n",
            "Epoch [8] - TrainLoss: 0.1296, ValLoss: 0.2376, TrainAcc: 95.05,% ValAcc: 91.59%\n",
            "Epoch [9] - TrainLoss: 0.1083, ValLoss: 0.2334, TrainAcc: 96.02,% ValAcc: 91.89%\n",
            "Early stopping counter: 1 out of 3\n",
            "Epoch [10] - TrainLoss: 0.0894, ValLoss: 0.2359, TrainAcc: 96.70,% ValAcc: 92.22%\n",
            "Early stopping counter: 2 out of 3\n",
            "Epoch [11] - TrainLoss: 0.0976, ValLoss: 0.2774, TrainAcc: 96.52,% ValAcc: 91.66%\n",
            "Early stopping counter: 3 out of 3\n",
            "CPU times: user 5min 52s, sys: 2min 26s, total: 8min 19s\n",
            "Wall time: 8min 22s\n"
          ]
        }
      ]
    },
    {
      "cell_type": "code",
      "source": [
        "epochs = range(1, len(network_OSTagger.trainlosses) + 1)\n",
        "\n",
        "plt.plot(epochs, network_OSTagger.trainlosses, 'blue', label='Training loss')\n",
        "plt.plot(epochs, network_OSTagger.vallosses, 'red', label='Validation loss')\n",
        "\n",
        "plt.xlabel('Epochs')\n",
        "plt.ylabel('Loss')\n",
        "plt.legend()\n",
        "plt.show()"
      ],
      "metadata": {
        "id": "HOP1DYrij3lN",
        "colab": {
          "base_uri": "https://localhost:8080/",
          "height": 449
        },
        "outputId": "ccc15922-131e-4a77-8201-c4620f0f6a7f"
      },
      "execution_count": null,
      "outputs": [
        {
          "output_type": "display_data",
          "data": {
            "text/plain": [
              "<Figure size 640x480 with 1 Axes>"
            ],
            "image/png": "[encoded data removed]"
          },
          "metadata": {}
        }
      ]
    },
    {
      "cell_type": "code",
      "source": [
        "epochs = range(1, len(network_OSTagger.train_accs) + 1)\n",
        "\n",
        "plt.plot(epochs, network_OSTagger.train_accs, 'blue', label='Training Acc')\n",
        "plt.plot(epochs, network_OSTagger.val_accs, 'red', label='Validation Acc')\n",
        "plt.xlabel('Epochs')\n",
        "plt.ylabel('Acc')\n",
        "plt.legend()\n",
        "plt.show()"
      ],
      "metadata": {
        "id": "R4IUgQ3VlQpv",
        "colab": {
          "base_uri": "https://localhost:8080/",
          "height": 449
        },
        "outputId": "2920d27c-becc-42c0-9f69-fe83810ef7e5"
      },
      "execution_count": null,
      "outputs": [
        {
          "output_type": "display_data",
          "data": {
            "text/plain": [
              "<Figure size 640x480 with 1 Axes>"
            ],
            "image/png": "[encoded data removed]"
          },
          "metadata": {}
        }
      ]
    },
    {
      "cell_type": "code",
      "source": [],
      "metadata": {
        "id": "zkPUlRLrcNG4"
      },
      "execution_count": null,
      "outputs": []
    },
    {
      "cell_type": "code",
      "source": [
        "def predict(model, data, pad_idx):\n",
        "    with torch.no_grad():\n",
        "      predicts_out = []\n",
        "      tags_out = []\n",
        "      text_out = []\n",
        "      for batch in data:\n",
        "        text = batch[0]\n",
        "        chars = batch[1]\n",
        "        output = batch[2]\n",
        "        output = output.transpose(0,1)\n",
        "        tags = output[0]\n",
        "        mask = output[1]\n",
        "        predictions = model.forward(text, chars)\n",
        "        predictions = predictions.transpose(1,2)\n",
        "        predictions = predictions.argmax(dim = 1)\n",
        "        for idx, sent in enumerate(text):\n",
        "          predicts_out.append(np.array(predictions[idx].cpu()))\n",
        "          tags_out.append(np.array(tags[idx].cpu()))\n",
        "          text_out.append(np.array(sent.cpu()))\n",
        "    for idx, ele in enumerate(predicts_out):\n",
        "      predicts_out[idx] = predicts_out[idx].tolist()\n",
        "    for idx, ele in enumerate(tags_out):\n",
        "      tags_out[idx] = tags_out[idx].tolist()\n",
        "    for idx, ele in enumerate(text_out):\n",
        "      text_out[idx] = text_out[idx].tolist()\n",
        "\n",
        "    return predicts_out, tags_out, text_out"
      ],
      "metadata": {
        "id": "b4H-CjEomCc8"
      },
      "execution_count": null,
      "outputs": []
    },
    {
      "cell_type": "code",
      "source": [
        "preds, tags, texts = predict(network_OSTagger, test_loader, pad_idx)"
      ],
      "metadata": {
        "id": "zZUWAaHgmDYy"
      },
      "execution_count": null,
      "outputs": []
    },
    {
      "cell_type": "code",
      "source": [],
      "metadata": {
        "id": "re9onYp4n4DR"
      },
      "execution_count": null,
      "outputs": []
    },
    {
      "cell_type": "code",
      "source": [
        "print(preds[0])\n",
        "print(tags[0])"
      ],
      "metadata": {
        "id": "vS7LmDAwSlzI",
        "colab": {
          "base_uri": "https://localhost:8080/"
        },
        "outputId": "a278ffd7-144c-4751-9609-93c9103fe9b5"
      },
      "execution_count": null,
      "outputs": [
        {
          "output_type": "stream",
          "name": "stdout",
          "text": [
            "[17, 17, 17, 17, 17, 17, 17, 17, 17, 17, 17, 17, 17, 17, 17, 9, 17, 17, 17, 9, 13, 10, 12, 8, 6, 13, 16, 8, 7, 16, 8, 13, 8, 6, 8, 13, 8, 8, 6, 12, 13, 8, 4, 2, 8, 12, 4, 8, 8, 10, 8, 8, 16, 4, 8, 13, 8, 13, 17, 9, 9, 17, 17, 17, 17, 17, 17, 17, 17, 17, 17, 17, 17, 17, 17, 17, 17, 17]\n",
            "[0, 0, 0, 0, 0, 0, 0, 0, 0, 0, 0, 0, 0, 0, 0, 0, 0, 0, 0, 9, 13, 10, 12, 8, 6, 13, 16, 8, 7, 16, 8, 13, 6, 6, 8, 13, 8, 8, 10, 12, 13, 8, 4, 10, 8, 12, 13, 8, 8, 10, 6, 8, 16, 4, 8, 13, 8, 13, 17, 0, 0, 0, 0, 0, 0, 0, 0, 0, 0, 0, 0, 0, 0, 0, 0, 0, 0, 0]\n"
          ]
        }
      ]
    },
    {
      "cell_type": "code",
      "source": [
        "for i in range(len(preds)):\n",
        "  for j in range(len(preds[i])):\n",
        "    if tags[i][j] == 0:\n",
        "      preds[i][j] = 0\n",
        "  preds[i] = [ele for ele in preds[i] if ele != 0]\n",
        "  tags[i] = [ele for ele in tags[i] if ele != 0]\n",
        "  texts[i] = [ele for ele in texts[i] if ele != 0]"
      ],
      "metadata": {
        "id": "Sqe4GfuLRwiq",
        "colab": {
          "base_uri": "https://localhost:8080/",
          "height": 176
        },
        "outputId": "f4a8c7b6-0339-4f41-d151-b9061ea54399"
      },
      "execution_count": null,
      "outputs": [
        {
          "output_type": "error",
          "ename": "TypeError",
          "evalue": "can't assign a list to a torch.cuda.LongTensor",
          "traceback": [
            "\u001b[0;31m---------------------------------------------------------------------------\u001b[0m",
            "\u001b[0;31mTypeError\u001b[0m                                 Traceback (most recent call last)",
            "\u001b[0;32m<ipython-input-189-8b9f076f286b>\u001b[0m in \u001b[0;36m<cell line: 0>\u001b[0;34m()\u001b[0m\n\u001b[1;32m      5\u001b[0m   \u001b[0mpreds\u001b[0m\u001b[0;34m[\u001b[0m\u001b[0mi\u001b[0m\u001b[0;34m]\u001b[0m \u001b[0;34m=\u001b[0m \u001b[0;34m[\u001b[0m\u001b[0mele\u001b[0m \u001b[0;32mfor\u001b[0m \u001b[0mele\u001b[0m \u001b[0;32min\u001b[0m \u001b[0mpreds\u001b[0m\u001b[0;34m[\u001b[0m\u001b[0mi\u001b[0m\u001b[0;34m]\u001b[0m \u001b[0;32mif\u001b[0m \u001b[0mele\u001b[0m \u001b[0;34m!=\u001b[0m \u001b[0;36m0\u001b[0m\u001b[0;34m]\u001b[0m\u001b[0;34m\u001b[0m\u001b[0;34m\u001b[0m\u001b[0m\n\u001b[1;32m      6\u001b[0m   \u001b[0mtags\u001b[0m\u001b[0;34m[\u001b[0m\u001b[0mi\u001b[0m\u001b[0;34m]\u001b[0m \u001b[0;34m=\u001b[0m \u001b[0;34m[\u001b[0m\u001b[0mele\u001b[0m \u001b[0;32mfor\u001b[0m \u001b[0mele\u001b[0m \u001b[0;32min\u001b[0m \u001b[0mtags\u001b[0m\u001b[0;34m[\u001b[0m\u001b[0mi\u001b[0m\u001b[0;34m]\u001b[0m \u001b[0;32mif\u001b[0m \u001b[0mele\u001b[0m \u001b[0;34m!=\u001b[0m \u001b[0;36m0\u001b[0m\u001b[0;34m]\u001b[0m\u001b[0;34m\u001b[0m\u001b[0;34m\u001b[0m\u001b[0m\n\u001b[0;32m----> 7\u001b[0;31m   \u001b[0mtexts\u001b[0m\u001b[0;34m[\u001b[0m\u001b[0mi\u001b[0m\u001b[0;34m]\u001b[0m \u001b[0;34m=\u001b[0m \u001b[0;34m[\u001b[0m\u001b[0mele\u001b[0m \u001b[0;32mfor\u001b[0m \u001b[0mele\u001b[0m \u001b[0;32min\u001b[0m \u001b[0mtexts\u001b[0m\u001b[0;34m[\u001b[0m\u001b[0mi\u001b[0m\u001b[0;34m]\u001b[0m \u001b[0;32mif\u001b[0m \u001b[0mele\u001b[0m \u001b[0;34m!=\u001b[0m \u001b[0;36m0\u001b[0m\u001b[0;34m]\u001b[0m\u001b[0;34m\u001b[0m\u001b[0;34m\u001b[0m\u001b[0m\n\u001b[0m",
            "\u001b[0;31mTypeError\u001b[0m: can't assign a list to a torch.cuda.LongTensor"
          ]
        }
      ]
    },
    {
      "cell_type": "code",
      "source": [
        "decpreds, dectags, dectext, declangs = [], [], [], []\n",
        "decpreds.append(tokenize_sent(preds, tag_decoder))\n",
        "dectags.append(tokenize_sent(tags, tag_decoder))\n",
        "dectext.append(tokenize_sent(texts, word_decoder))\n",
        "decpreds = decpreds[0]\n",
        "dectags = dectags[0]\n",
        "dectext = dectext[0]"
      ],
      "metadata": {
        "id": "5JNt8Ue6R1yC"
      },
      "execution_count": null,
      "outputs": []
    },
    {
      "cell_type": "code",
      "source": [
        "print(decpreds[0])\n",
        "print(dectags[0])\n",
        "print(dectext[0])"
      ],
      "metadata": {
        "id": "6Q7O4sGNmMe_",
        "colab": {
          "base_uri": "https://localhost:8080/"
        },
        "outputId": "b47c1a41-cb99-4b03-d5f4-9b5ff616a130"
      },
      "execution_count": null,
      "outputs": [
        {
          "output_type": "stream",
          "name": "stdout",
          "text": [
            "['start', 'VB', 'C', 'PRO', 'N', 'ADV', 'VB', 'P', 'N', 'CONJ', 'P', 'N', 'VB', 'N', 'ADV', 'N', 'VB', 'N', 'N', 'ADV', 'PRO', 'VB', 'N', 'ADJ', 'D', 'N', 'PRO', 'ADJ', 'N', 'N', 'C', 'N', 'N', 'P', 'ADJ', 'N', 'VB', 'N', 'VB', 'stop']\n",
            "['start', 'VB', 'C', 'PRO', 'N', 'ADV', 'VB', 'P', 'N', 'CONJ', 'P', 'N', 'VB', 'ADV', 'ADV', 'N', 'VB', 'N', 'N', 'C', 'PRO', 'VB', 'N', 'ADJ', 'C', 'N', 'PRO', 'VB', 'N', 'N', 'C', 'ADV', 'N', 'P', 'ADJ', 'N', 'VB', 'N', 'VB', 'stop']\n",
            "['start', 'quathun', 'that', 'hie', 'giuuerr', 'erist', 'bigunni', 'an', 'Galilealande', 'endi', 'ofar', 'Iuđeon', 'fuor', 'heroduuardes', 'thanan', 'hugi', 'tuiflida', 'manno', 'muodseƀon', 'so', 'hie', 'ist', 'morthes', 'uuerth', 'that', 'man', 'ina', 'uuitno', 'uuapnes', 'eggion', 'ef', 'eo', 'man', 'mid', 'sulicon', 'dadion', 'mag', 'dođes', 'gisculdian', 'stop']\n"
          ]
        }
      ]
    },
    {
      "cell_type": "code",
      "source": [
        "in_set_vocab = []\n",
        "for batch in train_loader:\n",
        "  texts = batch[0]\n",
        "  for sent in texts:\n",
        "    sent = sent.tolist()\n",
        "    sent = [ele for ele in sent if ele != 0]\n",
        "    x = []\n",
        "    for i in sent:\n",
        "      x.append([i])\n",
        "    x = tokenize_sent(x, word_decoder)\n",
        "    for word in x:\n",
        "      in_set_vocab.append(word)\n",
        "in_set_vocab = set([x for y in in_set_vocab for x in y])"
      ],
      "metadata": {
        "id": "E8jaBu5pmOS1"
      },
      "execution_count": null,
      "outputs": []
    },
    {
      "cell_type": "code",
      "source": [
        "corrects, incorrects, totals = [], [], []\n",
        "uk_corrects, uk_incorrects, uk_totals = [], [], []\n",
        "for i in range(len(decpreds)):\n",
        "  for j in range(len(decpreds[i])):\n",
        "    totals.append(dectags[i][j])\n",
        "    if decpreds[i][j] == dectags[i][j]:\n",
        "      corrects.append(decpreds[i][j])\n",
        "    else:\n",
        "      incorrects.append(decpreds[i][j])\n",
        "    if dectext[i][j] not in in_set_vocab:\n",
        "      uk_totals.append(dectags[i][j])\n",
        "      if decpreds[i][j] == dectags[i][j]:\n",
        "        uk_corrects.append(decpreds[i][j])\n",
        "      else:\n",
        "        uk_incorrects.append(decpreds[i][j])\n",
        "\n",
        "c_freqs = Counter(corrects)\n",
        "ic_freqs = Counter(incorrects)\n",
        "t_freqs = Counter(totals)\n",
        "uk_c_freqs = Counter(uk_corrects)\n",
        "uk_ic_freqs = Counter(uk_incorrects)\n",
        "uk_t_freqs = Counter(uk_totals)\n",
        "\n",
        "print('Total Accuracy:')\n",
        "data = []\n",
        "labels = []\n",
        "any_c = [x[0] for x in c_freqs.most_common()]\n",
        "for i in t_freqs.most_common():\n",
        "  if i[0] not in any_c:\n",
        "    data.append(0)\n",
        "    labels.append(i[0])\n",
        "    print(f'{i[0]} | 0% of {i[1]}')\n",
        "  else:\n",
        "    for ele in c_freqs.most_common():\n",
        "      if ele[0] == i[0]:\n",
        "        num_c = ele[1]\n",
        "    class_acc = num_c/i[1]\n",
        "    data.append(class_acc*100)\n",
        "    labels.append(i[0])\n",
        "    print(f'{i[0]} | {class_acc*100:.2f}% of {i[1]}')"
      ],
      "metadata": {
        "id": "EW7WRc_CmTf1",
        "colab": {
          "base_uri": "https://localhost:8080/"
        },
        "outputId": "772dc102-04e8-4619-9980-375c2c4d193d"
      },
      "execution_count": null,
      "outputs": [
        {
          "output_type": "stream",
          "name": "stdout",
          "text": [
            "Total Accuracy:\n",
            "N | 95.27% of 2455\n",
            "VB | 89.52% of 1755\n",
            "ADV | 85.40% of 952\n",
            "PRO | 96.83% of 883\n",
            "P | 99.15% of 822\n",
            "D | 87.19% of 773\n",
            "start | 100.00% of 709\n",
            "stop | 100.00% of 709\n",
            "ADJ | 81.86% of 623\n",
            "C | 79.41% of 306\n",
            "PRO$ | 97.94% of 291\n",
            "CONJ | 96.09% of 230\n",
            "Q | 96.00% of 175\n",
            "NEG | 98.63% of 146\n",
            "WH | 95.35% of 43\n",
            "NUM | 93.55% of 31\n",
            "XX | 83.33% of 24\n",
            "PART | 80.00% of 5\n"
          ]
        }
      ]
    },
    {
      "cell_type": "code",
      "source": [
        "plot_list = ['N', 'VB', 'ADV', 'PRO', 'P', 'D', 'ADJ', 'C', 'PRO$', 'CONJ', 'Q', 'NEG', 'NUM', 'WH', 'PART', 'INTJ']"
      ],
      "metadata": {
        "id": "IFOEUvfxYBRy"
      },
      "execution_count": null,
      "outputs": []
    },
    {
      "cell_type": "code",
      "source": [
        "plot_data = []\n",
        "plot_labels = []\n",
        "for label, value in zip(labels, data):\n",
        "    if label in plot_list:\n",
        "        plot_data.append(value)\n",
        "        plot_labels.append(label)\n",
        "\n",
        "plt.figure(figsize=(10, 6))\n",
        "plt.bar(plot_labels, plot_data)\n",
        "plt.xlabel(\"POS Tags\")\n",
        "plt.ylabel(\"Accuracy (%)\")\n",
        "plt.title(\"Accuracy per POS Tag\")\n",
        "plt.xticks(rotation=45, ha='right')\n",
        "for i, v in enumerate(plot_data):\n",
        "    plt.text(i, v + 1, f\"{v:.2f}%\", ha='center', va='bottom')\n",
        "\n",
        "plt.tight_layout()\n",
        "plt.show()\n"
      ],
      "metadata": {
        "id": "ujL1i8OuqXXl",
        "colab": {
          "base_uri": "https://localhost:8080/",
          "height": 607
        },
        "outputId": "6b008c7a-f370-4bf5-b3b0-085cbf50d1d9"
      },
      "execution_count": null,
      "outputs": [
        {
          "output_type": "display_data",
          "data": {
            "text/plain": [
              "<Figure size 1000x600 with 1 Axes>"
            ],
            "image/png": "[encoded data removed]"
          },
          "metadata": {}
        }
      ]
    },
    {
      "cell_type": "code",
      "source": [
        "df = pd.DataFrame({'POS Tag': labels, 'Accuracy (%)': data})\n",
        "latex_table = df.to_latex(index=False)\n",
        "latex_table"
      ],
      "metadata": {
        "id": "wmDD7SSreKTo",
        "colab": {
          "base_uri": "https://localhost:8080/",
          "height": 70
        },
        "outputId": "9732dd82-03ca-4f67-92b2-c1d783cc1a5a"
      },
      "execution_count": null,
      "outputs": [
        {
          "output_type": "execute_result",
          "data": {
            "text/plain": [
              "'\\\\begin{tabular}{lr}\\n\\\\toprule\\nPOS Tag & Accuracy (%) \\\\\\\\\\n\\\\midrule\\nN & 95.274949 \\\\\\\\\\nVB & 89.515670 \\\\\\\\\\nADV & 85.399160 \\\\\\\\\\nPRO & 96.828992 \\\\\\\\\\nP & 99.148418 \\\\\\\\\\nD & 87.192755 \\\\\\\\\\nstart & 100.000000 \\\\\\\\\\nstop & 100.000000 \\\\\\\\\\nADJ & 81.861958 \\\\\\\\\\nC & 79.411765 \\\\\\\\\\nPRO$ & 97.938144 \\\\\\\\\\nCONJ & 96.086957 \\\\\\\\\\nQ & 96.000000 \\\\\\\\\\nNEG & 98.630137 \\\\\\\\\\nWH & 95.348837 \\\\\\\\\\nNUM & 93.548387 \\\\\\\\\\nXX & 83.333333 \\\\\\\\\\nPART & 80.000000 \\\\\\\\\\n\\\\bottomrule\\n\\\\end{tabular}\\n'"
            ],
            "application/vnd.google.colaboratory.intrinsic+json": {
              "type": "string"
            }
          },
          "metadata": {},
          "execution_count": 153
        }
      ]
    },
    {
      "cell_type": "code",
      "source": [
        "v_true = []\n",
        "v_pred = []\n",
        "v_word = []\n",
        "\n",
        "for i, seq in enumerate(dectags):\n",
        "  for j, tag in enumerate(seq):\n",
        "    if dectags[i][j] == 'WH':\n",
        "      v_true.append(dectags[i][j])\n",
        "      v_pred.append(decpreds[i][j])\n",
        "      v_word.append(dectext[i][j])\n"
      ],
      "metadata": {
        "id": "R5pgBH7Q0jE0"
      },
      "execution_count": null,
      "outputs": []
    },
    {
      "cell_type": "code",
      "source": [
        "Counter(v_pred).most_common()"
      ],
      "metadata": {
        "id": "dUiKQyyXo7qm",
        "colab": {
          "base_uri": "https://localhost:8080/"
        },
        "outputId": "2262d114-ad0f-4dbc-f683-9beb1ade871f"
      },
      "execution_count": null,
      "outputs": [
        {
          "output_type": "execute_result",
          "data": {
            "text/plain": [
              "[('WH', 41), ('ADJ', 1), ('ADV', 1)]"
            ]
          },
          "metadata": {},
          "execution_count": 155
        }
      ]
    },
    {
      "cell_type": "code",
      "source": [
        "incorrect_c = []\n",
        "for i, ele in enumerate(c_true):\n",
        "  if c_true[i] != c_pred[i]:\n",
        "    incorrect_c.append(c_word[i])\n"
      ],
      "metadata": {
        "id": "BiaWKAT809BR",
        "colab": {
          "base_uri": "https://localhost:8080/",
          "height": 193
        },
        "outputId": "78eb5f73-2a81-41ec-a26a-89320f277137"
      },
      "execution_count": null,
      "outputs": [
        {
          "output_type": "error",
          "ename": "NameError",
          "evalue": "name 'c_true' is not defined",
          "traceback": [
            "\u001b[0;31m---------------------------------------------------------------------------\u001b[0m",
            "\u001b[0;31mNameError\u001b[0m                                 Traceback (most recent call last)",
            "\u001b[0;32m<ipython-input-156-8cc55eb2755c>\u001b[0m in \u001b[0;36m<cell line: 0>\u001b[0;34m()\u001b[0m\n\u001b[1;32m      1\u001b[0m \u001b[0mincorrect_c\u001b[0m \u001b[0;34m=\u001b[0m \u001b[0;34m[\u001b[0m\u001b[0;34m]\u001b[0m\u001b[0;34m\u001b[0m\u001b[0;34m\u001b[0m\u001b[0m\n\u001b[0;32m----> 2\u001b[0;31m \u001b[0;32mfor\u001b[0m \u001b[0mi\u001b[0m\u001b[0;34m,\u001b[0m \u001b[0mele\u001b[0m \u001b[0;32min\u001b[0m \u001b[0menumerate\u001b[0m\u001b[0;34m(\u001b[0m\u001b[0mc_true\u001b[0m\u001b[0;34m)\u001b[0m\u001b[0;34m:\u001b[0m\u001b[0;34m\u001b[0m\u001b[0;34m\u001b[0m\u001b[0m\n\u001b[0m\u001b[1;32m      3\u001b[0m   \u001b[0;32mif\u001b[0m \u001b[0mc_true\u001b[0m\u001b[0;34m[\u001b[0m\u001b[0mi\u001b[0m\u001b[0;34m]\u001b[0m \u001b[0;34m!=\u001b[0m \u001b[0mc_pred\u001b[0m\u001b[0;34m[\u001b[0m\u001b[0mi\u001b[0m\u001b[0;34m]\u001b[0m\u001b[0;34m:\u001b[0m\u001b[0;34m\u001b[0m\u001b[0;34m\u001b[0m\u001b[0m\n\u001b[1;32m      4\u001b[0m     \u001b[0mincorrect_c\u001b[0m\u001b[0;34m.\u001b[0m\u001b[0mappend\u001b[0m\u001b[0;34m(\u001b[0m\u001b[0mc_word\u001b[0m\u001b[0;34m[\u001b[0m\u001b[0mi\u001b[0m\u001b[0;34m]\u001b[0m\u001b[0;34m)\u001b[0m\u001b[0;34m\u001b[0m\u001b[0;34m\u001b[0m\u001b[0m\n",
            "\u001b[0;31mNameError\u001b[0m: name 'c_true' is not defined"
          ]
        }
      ]
    },
    {
      "cell_type": "code",
      "source": [
        "Counter(incorrect_c).most_common()"
      ],
      "metadata": {
        "id": "KsG1vEQ40-92"
      },
      "execution_count": null,
      "outputs": []
    },
    {
      "cell_type": "code",
      "source": [
        "c_true = []\n",
        "c_pred = []\n",
        "c_word = []\n",
        "for i, seq in enumerate(dectext):\n",
        "  for j, word in enumerate(seq):\n",
        "    if dectext[i][j] == 'so':\n",
        "      c_true.append(dectags[i][j])\n",
        "      c_pred.append(decpreds[i][j])\n",
        "      c_word.append(dectext[i][j])\n",
        "print(Counter(c_true).most_common())\n",
        "print(Counter(c_pred).most_common())"
      ],
      "metadata": {
        "id": "OSKWGXH16PNr"
      },
      "execution_count": null,
      "outputs": []
    },
    {
      "cell_type": "code",
      "source": [
        "print(Counter(c_true).most_common())\n",
        "print(Counter(c_pred).most_common())"
      ],
      "metadata": {
        "id": "cmNNZuUU6jnd"
      },
      "execution_count": null,
      "outputs": []
    },
    {
      "cell_type": "code",
      "source": [
        "so_seqs = []\n",
        "so_preds = []\n",
        "so_tags = []\n",
        "for i, seq in enumerate(dectext):\n",
        "  for j, word in enumerate(seq):\n",
        "    if dectext[i][j] == 'so':\n",
        "      so_seqs.append(dectext[i])\n",
        "      so_preds.append(decpreds[i])\n",
        "      so_tags.append(dectags[i])\n"
      ],
      "metadata": {
        "id": "RfgkI9pb672F"
      },
      "execution_count": null,
      "outputs": []
    },
    {
      "cell_type": "code",
      "source": [
        "print(so_seqs[0])\n",
        "print(so_tags[0])\n"
      ],
      "metadata": {
        "id": "0gByRwIq7c_X"
      },
      "execution_count": null,
      "outputs": []
    },
    {
      "cell_type": "code",
      "source": [
        "c1_seqs = []\n",
        "c1_preds = []\n",
        "c1_tags = []\n",
        "for i, seq in enumerate(dectags):\n",
        "  if dectags[i][1] == 'C':\n",
        "    c1_seqs.append(dectext[i])\n",
        "    c1_preds.append(decpreds[i])\n",
        "    c1_tags.append(dectags[i])"
      ],
      "metadata": {
        "id": "XBqcV_VBpQpl"
      },
      "execution_count": null,
      "outputs": []
    },
    {
      "cell_type": "code",
      "source": [
        "len(c1_seqs)"
      ],
      "metadata": {
        "id": "kClIKe7lpb7L"
      },
      "execution_count": null,
      "outputs": []
    },
    {
      "cell_type": "code",
      "source": [
        "print(c1_seqs[0])\n",
        "print(c1_tags[0])\n",
        "print(c1_preds[0])"
      ],
      "metadata": {
        "id": "0liiUK_Wpgl9"
      },
      "execution_count": null,
      "outputs": []
    },
    {
      "cell_type": "code",
      "source": [
        "for i in c1_preds:\n",
        "  print(i[1])"
      ],
      "metadata": {
        "id": "6njE8uCzpqIK"
      },
      "execution_count": null,
      "outputs": []
    },
    {
      "cell_type": "code",
      "source": [
        "VB1_seqs = []\n",
        "VB1_preds = []\n",
        "VB1_tags = []\n",
        "for i, seq in enumerate(dectags):\n",
        "  if dectags[i][1] == 'VB':\n",
        "    VB1_seqs.append(dectext[i])\n",
        "    VB1_preds.append(decpreds[i])\n",
        "    VB1_tags.append(dectags[i])"
      ],
      "metadata": {
        "id": "rF_XbYmBpxWE"
      },
      "execution_count": null,
      "outputs": []
    },
    {
      "cell_type": "code",
      "source": [
        "V1_predictions = []\n",
        "for i in VB1_preds:\n",
        "  V1_predictions.append(i[1])"
      ],
      "metadata": {
        "id": "rJ_bg2YUp0xp"
      },
      "execution_count": null,
      "outputs": []
    },
    {
      "cell_type": "code",
      "source": [
        "Counter(V1_predictions).most_common()"
      ],
      "metadata": {
        "id": "w7iPT8WKqBLY"
      },
      "execution_count": null,
      "outputs": []
    },
    {
      "cell_type": "code",
      "source": [
        "182/len(V1_predictions)*100"
      ],
      "metadata": {
        "id": "CppN8u_RqJ2a"
      },
      "execution_count": null,
      "outputs": []
    },
    {
      "cell_type": "code",
      "source": [
        "WH1_seqs = []\n",
        "WH1_preds = []\n",
        "WH1_tags = []\n",
        "for i, seq in enumerate(dectags):\n",
        "  if dectags[i][1] == 'WH':\n",
        "    WH1_seqs.append(dectext[i])\n",
        "    WH1_preds.append(decpreds[i])\n",
        "    WH1_tags.append(dectags[i])"
      ],
      "metadata": {
        "id": "Hmgz8Gwmqjx6"
      },
      "execution_count": null,
      "outputs": []
    },
    {
      "cell_type": "code",
      "source": [
        "WH1_predictions = []\n",
        "for i in WH1_preds:\n",
        "  WH1_predictions.append(i[1])"
      ],
      "metadata": {
        "id": "k_nURGYeqlmn"
      },
      "execution_count": null,
      "outputs": []
    },
    {
      "cell_type": "code",
      "source": [
        "Counter(WH1_predictions).most_common()"
      ],
      "metadata": {
        "id": "lr8jkY53qpdG"
      },
      "execution_count": null,
      "outputs": []
    }
  ]
}
