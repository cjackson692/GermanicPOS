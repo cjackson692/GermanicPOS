{
 "cells": [
  {
   "cell_type": "code",
   "execution_count": null,
   "metadata": {
    "colab": {
     "base_uri": "https://localhost:8080/"
    },
    "executionInfo": {
     "elapsed": 833,
     "status": "ok",
     "timestamp": 1760394288272,
     "user": {
      "displayName": "Carter Smith",
      "userId": "16068926545987539689"
     },
     "user_tz": 300
    },
    "id": "MtV-1mKk7CUV",
    "outputId": "367d881b-c259-4209-f94c-bac82e8c9763"
   },
   "outputs": [
    {
     "name": "stdout",
     "output_type": "stream",
     "text": [
      "/content/drive/My Drive/GermanicPOS/Ablation/Plotting\n"
     ]
    }
   ],
   "source": [
    "import pandas as pd\n",
    "import kaleido\n",
    "import numpy as np\n",
    "import matplotlib.pyplot as plt\n",
    "import os\n",
    "import glob\n",
    "import plotly.express as px\n",
    "import plotly.io as pio"
   ]
  },
  {
   "cell_type": "code",
   "execution_count": 2,
   "metadata": {
    "colab": {
     "base_uri": "https://localhost:8080/"
    },
    "executionInfo": {
     "elapsed": 15,
     "status": "ok",
     "timestamp": 1760394288292,
     "user": {
      "displayName": "Carter Smith",
      "userId": "16068926545987539689"
     },
     "user_tz": 300
    },
    "id": "ZSdZj6O67Hg0",
    "outputId": "3825c660-2980-429f-9e0f-2eab98008daf"
   },
   "outputs": [
    {
     "name": "stdout",
     "output_type": "stream",
     "text": [
      "['resultsGOTH.csv', 'resultsOS.csv', 'resultsOI.csv', 'resultsOHG.csv', 'resultsOE.csv']\n"
     ]
    }
   ],
   "source": [
    "csv_files = glob.glob('*.csv')\n",
    "print(csv_files)\n",
    "dfs = [pd.read_csv(f) for f in csv_files]"
   ]
  },
  {
   "cell_type": "code",
   "execution_count": 3,
   "metadata": {
    "executionInfo": {
     "elapsed": 8,
     "status": "ok",
     "timestamp": 1760394288404,
     "user": {
      "displayName": "Carter Smith",
      "userId": "16068926545987539689"
     },
     "user_tz": 300
    },
    "id": "KPQASQ9H6xqg"
   },
   "outputs": [],
   "source": [
    "dfs[0]['lang'] = \"GOTH\"\n",
    "dfs[1]['lang'] = \"OS\"\n",
    "dfs[2]['lang'] = \"OIce\"\n",
    "dfs[3]['lang'] = \"OHG\"\n",
    "dfs[4]['lang'] = \"OE\""
   ]
  },
  {
   "cell_type": "code",
   "execution_count": 4,
   "metadata": {
    "executionInfo": {
     "elapsed": 5,
     "status": "ok",
     "timestamp": 1760394288416,
     "user": {
      "displayName": "Carter Smith",
      "userId": "16068926545987539689"
     },
     "user_tz": 300
    },
    "id": "iJB8mBzo8U2e"
   },
   "outputs": [],
   "source": [
    "df = pd.concat(dfs)"
   ]
  },
  {
   "cell_type": "code",
   "execution_count": 5,
   "metadata": {
    "executionInfo": {
     "elapsed": 5,
     "status": "ok",
     "timestamp": 1760394288429,
     "user": {
      "displayName": "Carter Smith",
      "userId": "16068926545987539689"
     },
     "user_tz": 300
    },
    "id": "e5zGNMmNnoPU"
   },
   "outputs": [],
   "source": [
    "df = df.rename(columns={'lang': 'Language'})\n",
    "df = df.rename(columns={'sample_size': 'Sample Size'})"
   ]
  },
  {
   "cell_type": "code",
   "execution_count": 6,
   "metadata": {
    "colab": {
     "base_uri": "https://localhost:8080/",
     "height": 517
    },
    "executionInfo": {
     "elapsed": 4277,
     "status": "ok",
     "timestamp": 1760394292714,
     "user": {
      "displayName": "Carter Smith",
      "userId": "16068926545987539689"
     },
     "user_tz": 300
    },
    "id": "JNKvNj7vlEry",
    "outputId": "a8f9a888-714d-43ba-8071-185f6e8f474a"
   },
   "outputs": [
    {
     "data": {
      "text/html": [
       "<html>\n",
       "<head><meta charset=\"utf-8\" /></head>\n",
       "<body>\n",
       "    <div>            <script src=\"https://cdnjs.cloudflare.com/ajax/libs/mathjax/2.7.5/MathJax.js?config=TeX-AMS-MML_SVG\"></script><script type=\"text/javascript\">if (window.MathJax && window.MathJax.Hub && window.MathJax.Hub.Config) {window.MathJax.Hub.Config({SVG: {font: \"STIX-Web\"}});}</script>                <script type=\"text/javascript\">window.PlotlyConfig = {MathJaxConfig: 'local'};</script>\n",
       "        <script charset=\"utf-8\" src=\"https://cdn.plot.ly/plotly-2.35.2.min.js\"></script>                <div id=\"983a363d-c417-425f-ada6-25e0ac0c6473\" class=\"plotly-graph-div\" style=\"height:500px; width:800px;\"></div>            <script type=\"text/javascript\">                                    window.PLOTLYENV=window.PLOTLYENV || {};                                    if (document.getElementById(\"983a363d-c417-425f-ada6-25e0ac0c6473\")) {                    Plotly.newPlot(                        \"983a363d-c417-425f-ada6-25e0ac0c6473\",                        [{\"error_y\":{\"array\":[0.8317093653519517,0.7746009817082459,0.7643099488157243,0.8274455966507963,0.5320621050105996,0.5435122312843481,0.4914187277350875,0.4240407101150387,0.3894345393584899,0.39990287494553056,0.38581982070689314,0.3205737942984496,0.3046662852487784,0.21769394212384047,0.16549553681290205,0.11670653430934788,0.09192142780657472,0.08126171624033911,0.07760724765940732]},\"hovertemplate\":\"Language=OE\\u003cbr\\u003eSample Size=%{x}\\u003cbr\\u003emean=%{y}\\u003cextra\\u003e\\u003c\\u002fextra\\u003e\",\"legendgroup\":\"OE\",\"line\":{\"color\":\"blue\",\"dash\":\"solid\"},\"marker\":{\"symbol\":\"circle\"},\"mode\":\"lines\",\"name\":\"OE\",\"orientation\":\"v\",\"showlegend\":true,\"x\":[250,500,750,1000,1500,2000,2500,3000,3500,4000,4500,5000,7500,10000,25000,50000,75000,100000,112660],\"xaxis\":\"x\",\"y\":[14.237416969520408,22.757444297056914,28.59581477080271,32.879074105994775,41.35511093477541,46.39047084857145,50.01750073809808,51.02741604644214,53.40805387560828,55.42303738610765,56.60574116436902,58.51275447139898,62.612965232135366,66.1885502388371,74.93629964776525,80.42943914374358,82.79343019143603,84.53147171616372,85.14705662606033],\"yaxis\":\"y\",\"type\":\"scatter\"},{\"error_y\":{\"array\":[0.5872605680085563,0.6634713660566185,0.7443141233846868,0.7717187406405477,0.6918002414289823,0.6771079058320328,0.6958286188382552,0.648067886073821,0.6401191310805198,0.5555180370749689,0.5716759639105097,0.5797125182542834,0.48874458205715277,0.43539132160271155,0.2977501002777419]},\"hovertemplate\":\"Language=OHG\\u003cbr\\u003eSample Size=%{x}\\u003cbr\\u003emean=%{y}\\u003cextra\\u003e\\u003c\\u002fextra\\u003e\",\"legendgroup\":\"OHG\",\"line\":{\"color\":\"purple\",\"dash\":\"solid\"},\"marker\":{\"symbol\":\"circle\"},\"mode\":\"lines\",\"name\":\"OHG\",\"orientation\":\"v\",\"showlegend\":true,\"x\":[250,500,750,1000,1500,2000,2500,3000,3500,4000,4500,5000,7500,10000,18853],\"xaxis\":\"x\",\"y\":[4.201924812648085,9.462272041621867,11.106222486512545,11.980548700940185,16.192526928045954,20.879910843840218,24.397581341567005,26.086018923278615,28.083373522062125,31.003911980058515,33.60511285554928,34.46276222684653,41.297248608238995,45.110772560921724,54.46773573222603],\"yaxis\":\"y\",\"type\":\"scatter\"},{\"error_y\":{\"array\":[0.7242783006848648,0.5800002622723276,0.6589302077744124,0.8549485505796977,0.6108444194263252,0.6038641576598235,0.6136292126191308,0.5231085045119126,0.5185522653858433,0.45850542252309995,0.4681592593087712,0.40176475062127964,0.34119463878811823,0.23826852045625152,0.21130688643919,0.20700587538064458]},\"hovertemplate\":\"Language=OIce\\u003cbr\\u003eSample Size=%{x}\\u003cbr\\u003emean=%{y}\\u003cextra\\u003e\\u003c\\u002fextra\\u003e\",\"legendgroup\":\"OIce\",\"line\":{\"color\":\"red\",\"dash\":\"solid\"},\"marker\":{\"symbol\":\"circle\"},\"mode\":\"lines\",\"name\":\"OIce\",\"orientation\":\"v\",\"showlegend\":true,\"x\":[250,500,750,1000,1500,2000,2500,3000,3500,4000,4500,5000,7500,10000,20000,21847],\"xaxis\":\"x\",\"y\":[7.24413571058028,13.369978650739242,19.32563286586575,22.443030714852384,26.683297722563015,35.02040105886255,38.63589660089244,42.794783468382754,43.43018516239164,45.33726940023097,47.587411426058864,48.7172084028435,53.976310213968425,58.16515270106977,65.34984014422709,66.41566026668089],\"yaxis\":\"y\",\"type\":\"scatter\"}],                        {\"template\":{\"data\":{\"histogram2dcontour\":[{\"type\":\"histogram2dcontour\",\"colorbar\":{\"outlinewidth\":0,\"ticks\":\"\"},\"colorscale\":[[0.0,\"#0d0887\"],[0.1111111111111111,\"#46039f\"],[0.2222222222222222,\"#7201a8\"],[0.3333333333333333,\"#9c179e\"],[0.4444444444444444,\"#bd3786\"],[0.5555555555555556,\"#d8576b\"],[0.6666666666666666,\"#ed7953\"],[0.7777777777777778,\"#fb9f3a\"],[0.8888888888888888,\"#fdca26\"],[1.0,\"#f0f921\"]]}],\"choropleth\":[{\"type\":\"choropleth\",\"colorbar\":{\"outlinewidth\":0,\"ticks\":\"\"}}],\"histogram2d\":[{\"type\":\"histogram2d\",\"colorbar\":{\"outlinewidth\":0,\"ticks\":\"\"},\"colorscale\":[[0.0,\"#0d0887\"],[0.1111111111111111,\"#46039f\"],[0.2222222222222222,\"#7201a8\"],[0.3333333333333333,\"#9c179e\"],[0.4444444444444444,\"#bd3786\"],[0.5555555555555556,\"#d8576b\"],[0.6666666666666666,\"#ed7953\"],[0.7777777777777778,\"#fb9f3a\"],[0.8888888888888888,\"#fdca26\"],[1.0,\"#f0f921\"]]}],\"heatmap\":[{\"type\":\"heatmap\",\"colorbar\":{\"outlinewidth\":0,\"ticks\":\"\"},\"colorscale\":[[0.0,\"#0d0887\"],[0.1111111111111111,\"#46039f\"],[0.2222222222222222,\"#7201a8\"],[0.3333333333333333,\"#9c179e\"],[0.4444444444444444,\"#bd3786\"],[0.5555555555555556,\"#d8576b\"],[0.6666666666666666,\"#ed7953\"],[0.7777777777777778,\"#fb9f3a\"],[0.8888888888888888,\"#fdca26\"],[1.0,\"#f0f921\"]]}],\"heatmapgl\":[{\"type\":\"heatmapgl\",\"colorbar\":{\"outlinewidth\":0,\"ticks\":\"\"},\"colorscale\":[[0.0,\"#0d0887\"],[0.1111111111111111,\"#46039f\"],[0.2222222222222222,\"#7201a8\"],[0.3333333333333333,\"#9c179e\"],[0.4444444444444444,\"#bd3786\"],[0.5555555555555556,\"#d8576b\"],[0.6666666666666666,\"#ed7953\"],[0.7777777777777778,\"#fb9f3a\"],[0.8888888888888888,\"#fdca26\"],[1.0,\"#f0f921\"]]}],\"contourcarpet\":[{\"type\":\"contourcarpet\",\"colorbar\":{\"outlinewidth\":0,\"ticks\":\"\"}}],\"contour\":[{\"type\":\"contour\",\"colorbar\":{\"outlinewidth\":0,\"ticks\":\"\"},\"colorscale\":[[0.0,\"#0d0887\"],[0.1111111111111111,\"#46039f\"],[0.2222222222222222,\"#7201a8\"],[0.3333333333333333,\"#9c179e\"],[0.4444444444444444,\"#bd3786\"],[0.5555555555555556,\"#d8576b\"],[0.6666666666666666,\"#ed7953\"],[0.7777777777777778,\"#fb9f3a\"],[0.8888888888888888,\"#fdca26\"],[1.0,\"#f0f921\"]]}],\"surface\":[{\"type\":\"surface\",\"colorbar\":{\"outlinewidth\":0,\"ticks\":\"\"},\"colorscale\":[[0.0,\"#0d0887\"],[0.1111111111111111,\"#46039f\"],[0.2222222222222222,\"#7201a8\"],[0.3333333333333333,\"#9c179e\"],[0.4444444444444444,\"#bd3786\"],[0.5555555555555556,\"#d8576b\"],[0.6666666666666666,\"#ed7953\"],[0.7777777777777778,\"#fb9f3a\"],[0.8888888888888888,\"#fdca26\"],[1.0,\"#f0f921\"]]}],\"mesh3d\":[{\"type\":\"mesh3d\",\"colorbar\":{\"outlinewidth\":0,\"ticks\":\"\"}}],\"scatter\":[{\"fillpattern\":{\"fillmode\":\"overlay\",\"size\":10,\"solidity\":0.2},\"type\":\"scatter\"}],\"parcoords\":[{\"type\":\"parcoords\",\"line\":{\"colorbar\":{\"outlinewidth\":0,\"ticks\":\"\"}}}],\"scatterpolargl\":[{\"type\":\"scatterpolargl\",\"marker\":{\"colorbar\":{\"outlinewidth\":0,\"ticks\":\"\"}}}],\"bar\":[{\"error_x\":{\"color\":\"#2a3f5f\"},\"error_y\":{\"color\":\"#2a3f5f\"},\"marker\":{\"line\":{\"color\":\"#E5ECF6\",\"width\":0.5},\"pattern\":{\"fillmode\":\"overlay\",\"size\":10,\"solidity\":0.2}},\"type\":\"bar\"}],\"scattergeo\":[{\"type\":\"scattergeo\",\"marker\":{\"colorbar\":{\"outlinewidth\":0,\"ticks\":\"\"}}}],\"scatterpolar\":[{\"type\":\"scatterpolar\",\"marker\":{\"colorbar\":{\"outlinewidth\":0,\"ticks\":\"\"}}}],\"histogram\":[{\"marker\":{\"pattern\":{\"fillmode\":\"overlay\",\"size\":10,\"solidity\":0.2}},\"type\":\"histogram\"}],\"scattergl\":[{\"type\":\"scattergl\",\"marker\":{\"colorbar\":{\"outlinewidth\":0,\"ticks\":\"\"}}}],\"scatter3d\":[{\"type\":\"scatter3d\",\"line\":{\"colorbar\":{\"outlinewidth\":0,\"ticks\":\"\"}},\"marker\":{\"colorbar\":{\"outlinewidth\":0,\"ticks\":\"\"}}}],\"scattermapbox\":[{\"type\":\"scattermapbox\",\"marker\":{\"colorbar\":{\"outlinewidth\":0,\"ticks\":\"\"}}}],\"scatterternary\":[{\"type\":\"scatterternary\",\"marker\":{\"colorbar\":{\"outlinewidth\":0,\"ticks\":\"\"}}}],\"scattercarpet\":[{\"type\":\"scattercarpet\",\"marker\":{\"colorbar\":{\"outlinewidth\":0,\"ticks\":\"\"}}}],\"carpet\":[{\"aaxis\":{\"endlinecolor\":\"#2a3f5f\",\"gridcolor\":\"white\",\"linecolor\":\"white\",\"minorgridcolor\":\"white\",\"startlinecolor\":\"#2a3f5f\"},\"baxis\":{\"endlinecolor\":\"#2a3f5f\",\"gridcolor\":\"white\",\"linecolor\":\"white\",\"minorgridcolor\":\"white\",\"startlinecolor\":\"#2a3f5f\"},\"type\":\"carpet\"}],\"table\":[{\"cells\":{\"fill\":{\"color\":\"#EBF0F8\"},\"line\":{\"color\":\"white\"}},\"header\":{\"fill\":{\"color\":\"#C8D4E3\"},\"line\":{\"color\":\"white\"}},\"type\":\"table\"}],\"barpolar\":[{\"marker\":{\"line\":{\"color\":\"#E5ECF6\",\"width\":0.5},\"pattern\":{\"fillmode\":\"overlay\",\"size\":10,\"solidity\":0.2}},\"type\":\"barpolar\"}],\"pie\":[{\"automargin\":true,\"type\":\"pie\"}]},\"layout\":{\"autotypenumbers\":\"strict\",\"colorway\":[\"#636efa\",\"#EF553B\",\"#00cc96\",\"#ab63fa\",\"#FFA15A\",\"#19d3f3\",\"#FF6692\",\"#B6E880\",\"#FF97FF\",\"#FECB52\"],\"font\":{\"color\":\"#2a3f5f\"},\"hovermode\":\"closest\",\"hoverlabel\":{\"align\":\"left\"},\"paper_bgcolor\":\"white\",\"plot_bgcolor\":\"#E5ECF6\",\"polar\":{\"bgcolor\":\"#E5ECF6\",\"angularaxis\":{\"gridcolor\":\"white\",\"linecolor\":\"white\",\"ticks\":\"\"},\"radialaxis\":{\"gridcolor\":\"white\",\"linecolor\":\"white\",\"ticks\":\"\"}},\"ternary\":{\"bgcolor\":\"#E5ECF6\",\"aaxis\":{\"gridcolor\":\"white\",\"linecolor\":\"white\",\"ticks\":\"\"},\"baxis\":{\"gridcolor\":\"white\",\"linecolor\":\"white\",\"ticks\":\"\"},\"caxis\":{\"gridcolor\":\"white\",\"linecolor\":\"white\",\"ticks\":\"\"}},\"coloraxis\":{\"colorbar\":{\"outlinewidth\":0,\"ticks\":\"\"}},\"colorscale\":{\"sequential\":[[0.0,\"#0d0887\"],[0.1111111111111111,\"#46039f\"],[0.2222222222222222,\"#7201a8\"],[0.3333333333333333,\"#9c179e\"],[0.4444444444444444,\"#bd3786\"],[0.5555555555555556,\"#d8576b\"],[0.6666666666666666,\"#ed7953\"],[0.7777777777777778,\"#fb9f3a\"],[0.8888888888888888,\"#fdca26\"],[1.0,\"#f0f921\"]],\"sequentialminus\":[[0.0,\"#0d0887\"],[0.1111111111111111,\"#46039f\"],[0.2222222222222222,\"#7201a8\"],[0.3333333333333333,\"#9c179e\"],[0.4444444444444444,\"#bd3786\"],[0.5555555555555556,\"#d8576b\"],[0.6666666666666666,\"#ed7953\"],[0.7777777777777778,\"#fb9f3a\"],[0.8888888888888888,\"#fdca26\"],[1.0,\"#f0f921\"]],\"diverging\":[[0,\"#8e0152\"],[0.1,\"#c51b7d\"],[0.2,\"#de77ae\"],[0.3,\"#f1b6da\"],[0.4,\"#fde0ef\"],[0.5,\"#f7f7f7\"],[0.6,\"#e6f5d0\"],[0.7,\"#b8e186\"],[0.8,\"#7fbc41\"],[0.9,\"#4d9221\"],[1,\"#276419\"]]},\"xaxis\":{\"gridcolor\":\"white\",\"linecolor\":\"white\",\"ticks\":\"\",\"title\":{\"standoff\":15},\"zerolinecolor\":\"white\",\"automargin\":true,\"zerolinewidth\":2},\"yaxis\":{\"gridcolor\":\"white\",\"linecolor\":\"white\",\"ticks\":\"\",\"title\":{\"standoff\":15},\"zerolinecolor\":\"white\",\"automargin\":true,\"zerolinewidth\":2},\"scene\":{\"xaxis\":{\"backgroundcolor\":\"#E5ECF6\",\"gridcolor\":\"white\",\"linecolor\":\"white\",\"showbackground\":true,\"ticks\":\"\",\"zerolinecolor\":\"white\",\"gridwidth\":2},\"yaxis\":{\"backgroundcolor\":\"#E5ECF6\",\"gridcolor\":\"white\",\"linecolor\":\"white\",\"showbackground\":true,\"ticks\":\"\",\"zerolinecolor\":\"white\",\"gridwidth\":2},\"zaxis\":{\"backgroundcolor\":\"#E5ECF6\",\"gridcolor\":\"white\",\"linecolor\":\"white\",\"showbackground\":true,\"ticks\":\"\",\"zerolinecolor\":\"white\",\"gridwidth\":2}},\"shapedefaults\":{\"line\":{\"color\":\"#2a3f5f\"}},\"annotationdefaults\":{\"arrowcolor\":\"#2a3f5f\",\"arrowhead\":0,\"arrowwidth\":1},\"geo\":{\"bgcolor\":\"white\",\"landcolor\":\"#E5ECF6\",\"subunitcolor\":\"white\",\"showland\":true,\"showlakes\":true,\"lakecolor\":\"white\"},\"title\":{\"x\":0.05},\"mapbox\":{\"style\":\"light\"}}},\"xaxis\":{\"anchor\":\"y\",\"domain\":[0.0,1.0],\"title\":{\"text\":\"Sample Size\"},\"range\":[0,10000],\"showgrid\":true,\"gridcolor\":\"#CCCCCC\",\"gridwidth\":1,\"zeroline\":true,\"zerolinecolor\":\"#CCCCCC\",\"zerolinewidth\":1},\"yaxis\":{\"anchor\":\"x\",\"domain\":[0.0,1.0],\"title\":{\"text\":\"Mean Accuracy\"},\"showgrid\":true,\"gridcolor\":\"#CCCCCC\",\"gridwidth\":1,\"zeroline\":true,\"zerolinecolor\":\"#CCCCCC\",\"zerolinewidth\":1},\"legend\":{\"title\":{\"text\":\"Language\"},\"tracegroupgap\":0},\"title\":{\"text\":\"Adjective - Ablation Study\"},\"font\":{\"color\":\"#555555\",\"family\":\"Verdana\"},\"plot_bgcolor\":\"#FFFFFF\",\"paper_bgcolor\":\"#FFFFFF\",\"width\":800,\"height\":500},                        {\"responsive\": true}                    ).then(function(){\n",
       "                            \n",
       "var gd = document.getElementById('983a363d-c417-425f-ada6-25e0ac0c6473');\n",
       "var x = new MutationObserver(function (mutations, observer) {{\n",
       "        var display = window.getComputedStyle(gd).display;\n",
       "        if (!display || display === 'none') {{\n",
       "            console.log([gd, 'removed!']);\n",
       "            Plotly.purge(gd);\n",
       "            observer.disconnect();\n",
       "        }}\n",
       "}});\n",
       "\n",
       "// Listen for the removal of the full notebook cells\n",
       "var notebookContainer = gd.closest('#notebook-container');\n",
       "if (notebookContainer) {{\n",
       "    x.observe(notebookContainer, {childList: true});\n",
       "}}\n",
       "\n",
       "// Listen for the clearing of the current output cell\n",
       "var outputEl = gd.closest('.output');\n",
       "if (outputEl) {{\n",
       "    x.observe(outputEl, {childList: true});\n",
       "}}\n",
       "\n",
       "                        })                };                            </script>        </div>\n",
       "</body>\n",
       "</html>"
      ]
     },
     "metadata": {},
     "output_type": "display_data"
    }
   ],
   "source": [
    "grouped = df.groupby(['tag', 'Sample Size', 'Language'])['accuracy'].agg(['mean', 'std']).reset_index()\n",
    "eval_tag = 'ADJ'\n",
    "grouped = grouped[grouped['tag'] == eval_tag]\n",
    "grouped = grouped.reset_index()\n",
    "grouped = grouped[grouped['Language'].isin(['OIce', 'OE', 'OHG'])]\n",
    "grouped = grouped.reset_index()\n",
    "grouped['standard_error'] = grouped['std'] / 10\n",
    "color_map = {'OIce': 'red', 'OS': 'green', 'OE': 'blue', 'OHG': 'purple'}\n",
    "\n",
    "fig = px.line(grouped, x='Sample Size', y='mean', color='Language',\n",
    "              error_y='standard_error', range_x = [0, 10000],\n",
    "              title=str('Adjective - Ablation Study'), color_discrete_map=color_map)\n",
    "\n",
    "fig.update_layout(\n",
    "    xaxis_title='Sample Size',\n",
    "    yaxis_title='Mean Accuracy',\n",
    "    font = dict(color = '#555555', family=\"Verdana\"),\n",
    "    plot_bgcolor='#FFFFFF',\n",
    "    paper_bgcolor='#FFFFFF',\n",
    "    xaxis=dict(\n",
    "        showgrid=True,\n",
    "        gridcolor='#CCCCCC',\n",
    "        gridwidth=1,\n",
    "        zeroline=True,\n",
    "        zerolinecolor='#CCCCCC',\n",
    "        zerolinewidth=1\n",
    "    ),\n",
    "    yaxis=dict(\n",
    "        showgrid=True,\n",
    "        gridcolor='#CCCCCC',\n",
    "        gridwidth=1,\n",
    "        zeroline=True,\n",
    "        zerolinecolor='#CCCCCC',\n",
    "        zerolinewidth=1\n",
    "    ),\n",
    "    width=800,\n",
    "    height=500,\n",
    ")\n",
    "\n",
    "fig.write_image(\"adj_ablation.png\")\n",
    "fig.show()"
   ]
  },
  {
   "cell_type": "code",
   "execution_count": 7,
   "metadata": {
    "colab": {
     "base_uri": "https://localhost:8080/",
     "height": 517
    },
    "executionInfo": {
     "elapsed": 368,
     "status": "ok",
     "timestamp": 1760394293072,
     "user": {
      "displayName": "Carter Smith",
      "userId": "16068926545987539689"
     },
     "user_tz": 300
    },
    "id": "19ofLp7gn-jx",
    "outputId": "0355a745-cb85-453a-9154-b8e385638e17"
   },
   "outputs": [
    {
     "data": {
      "text/html": [
       "<html>\n",
       "<head><meta charset=\"utf-8\" /></head>\n",
       "<body>\n",
       "    <div>            <script src=\"https://cdnjs.cloudflare.com/ajax/libs/mathjax/2.7.5/MathJax.js?config=TeX-AMS-MML_SVG\"></script><script type=\"text/javascript\">if (window.MathJax && window.MathJax.Hub && window.MathJax.Hub.Config) {window.MathJax.Hub.Config({SVG: {font: \"STIX-Web\"}});}</script>                <script type=\"text/javascript\">window.PlotlyConfig = {MathJaxConfig: 'local'};</script>\n",
       "        <script charset=\"utf-8\" src=\"https://cdn.plot.ly/plotly-2.35.2.min.js\"></script>                <div id=\"761ed23d-aef2-4391-a7c4-67cd80020d82\" class=\"plotly-graph-div\" style=\"height:500px; width:800px;\"></div>            <script type=\"text/javascript\">                                    window.PLOTLYENV=window.PLOTLYENV || {};                                    if (document.getElementById(\"761ed23d-aef2-4391-a7c4-67cd80020d82\")) {                    Plotly.newPlot(                        \"761ed23d-aef2-4391-a7c4-67cd80020d82\",                        [{\"error_y\":{\"array\":[0.703304262845898,0.5432120332181881,0.4142382656838886,0.484604568510883,0.37378968436273724,0.35752292339776964,0.2843125067934551,0.2698853943919444,0.27999178936120955,0.3002224090851433,0.28028072322422487,0.2662127172586816,0.2449749108289349,0.182926436231812,0.21204130756044254,0.1577175873547939,0.1700038008329089,0.1585357418314382,0.17026441203146786]},\"hovertemplate\":\"Language=OE\\u003cbr\\u003eSample Size=%{x}\\u003cbr\\u003emean=%{y}\\u003cextra\\u003e\\u003c\\u002fextra\\u003e\",\"legendgroup\":\"OE\",\"line\":{\"color\":\"blue\",\"dash\":\"solid\"},\"marker\":{\"symbol\":\"circle\"},\"mode\":\"lines\",\"name\":\"OE\",\"orientation\":\"v\",\"showlegend\":true,\"x\":[250,500,750,1000,1500,2000,2500,3000,3500,4000,4500,5000,7500,10000,25000,50000,75000,100000,112660],\"xaxis\":\"x\",\"y\":[72.74814320987139,76.38020604954394,79.58991942989081,79.3260068137718,80.75160100495144,80.90069405158262,81.52044541924639,81.82391146925482,81.5248754282176,81.89353333243497,82.20861888921827,82.1665289083349,82.56802148691368,83.26307213546015,83.25045006098962,83.3302525010706,83.266254981995,83.52179709948243,83.41665874816631],\"yaxis\":\"y\",\"type\":\"scatter\"},{\"error_y\":{\"array\":[2.395516957283416,0.5836762269992163,0.5010397259499779,0.4502883037132235,0.38478939943519924,0.31016855144803335,0.3089162920455498,0.27457986437380755,0.2691906949715935,0.26193768734341855,0.2098279624923407,0.2377623143091378,0.16688455081407114,0.18682582416620291,0.15872037693168495]},\"hovertemplate\":\"Language=OHG\\u003cbr\\u003eSample Size=%{x}\\u003cbr\\u003emean=%{y}\\u003cextra\\u003e\\u003c\\u002fextra\\u003e\",\"legendgroup\":\"OHG\",\"line\":{\"color\":\"purple\",\"dash\":\"solid\"},\"marker\":{\"symbol\":\"circle\"},\"mode\":\"lines\",\"name\":\"OHG\",\"orientation\":\"v\",\"showlegend\":true,\"x\":[250,500,750,1000,1500,2000,2500,3000,3500,4000,4500,5000,7500,10000,18853],\"xaxis\":\"x\",\"y\":[39.695385514178604,69.55294065329325,74.75741943869744,77.44310983325103,81.01232769340888,82.79164839774141,84.16358564371698,85.14061037483816,85.57105631034418,86.67500669489,87.13736649660426,87.60153878603911,88.7919022974763,89.29533572204417,90.76680241018481],\"yaxis\":\"y\",\"type\":\"scatter\"},{\"error_y\":{\"array\":[1.4274149885443206,0.6798265524707943,0.48556974136992076,0.5065510829641625,0.37589837490758454,0.30663063175583083,0.2656881996715658,0.22698332706443689,0.22794072484822703,0.20890329253378154,0.18137932429548337,0.1811673272432172,0.1525447605385997,0.15720169074536444,0.1185842243723626,0.10249798982854592]},\"hovertemplate\":\"Language=OIce\\u003cbr\\u003eSample Size=%{x}\\u003cbr\\u003emean=%{y}\\u003cextra\\u003e\\u003c\\u002fextra\\u003e\",\"legendgroup\":\"OIce\",\"line\":{\"color\":\"red\",\"dash\":\"solid\"},\"marker\":{\"symbol\":\"circle\"},\"mode\":\"lines\",\"name\":\"OIce\",\"orientation\":\"v\",\"showlegend\":true,\"x\":[250,500,750,1000,1500,2000,2500,3000,3500,4000,4500,5000,7500,10000,20000,21847],\"xaxis\":\"x\",\"y\":[54.523912038152645,70.91969110549732,76.9323867392208,78.98379254569626,81.3954948626496,82.07394654795209,82.48622714066616,82.97899588128583,83.04175037595257,83.61556506276992,83.58287090428392,83.35871295576948,84.0317110524457,84.12722521129041,84.3117877747101,84.32891337697062],\"yaxis\":\"y\",\"type\":\"scatter\"}],                        {\"template\":{\"data\":{\"histogram2dcontour\":[{\"type\":\"histogram2dcontour\",\"colorbar\":{\"outlinewidth\":0,\"ticks\":\"\"},\"colorscale\":[[0.0,\"#0d0887\"],[0.1111111111111111,\"#46039f\"],[0.2222222222222222,\"#7201a8\"],[0.3333333333333333,\"#9c179e\"],[0.4444444444444444,\"#bd3786\"],[0.5555555555555556,\"#d8576b\"],[0.6666666666666666,\"#ed7953\"],[0.7777777777777778,\"#fb9f3a\"],[0.8888888888888888,\"#fdca26\"],[1.0,\"#f0f921\"]]}],\"choropleth\":[{\"type\":\"choropleth\",\"colorbar\":{\"outlinewidth\":0,\"ticks\":\"\"}}],\"histogram2d\":[{\"type\":\"histogram2d\",\"colorbar\":{\"outlinewidth\":0,\"ticks\":\"\"},\"colorscale\":[[0.0,\"#0d0887\"],[0.1111111111111111,\"#46039f\"],[0.2222222222222222,\"#7201a8\"],[0.3333333333333333,\"#9c179e\"],[0.4444444444444444,\"#bd3786\"],[0.5555555555555556,\"#d8576b\"],[0.6666666666666666,\"#ed7953\"],[0.7777777777777778,\"#fb9f3a\"],[0.8888888888888888,\"#fdca26\"],[1.0,\"#f0f921\"]]}],\"heatmap\":[{\"type\":\"heatmap\",\"colorbar\":{\"outlinewidth\":0,\"ticks\":\"\"},\"colorscale\":[[0.0,\"#0d0887\"],[0.1111111111111111,\"#46039f\"],[0.2222222222222222,\"#7201a8\"],[0.3333333333333333,\"#9c179e\"],[0.4444444444444444,\"#bd3786\"],[0.5555555555555556,\"#d8576b\"],[0.6666666666666666,\"#ed7953\"],[0.7777777777777778,\"#fb9f3a\"],[0.8888888888888888,\"#fdca26\"],[1.0,\"#f0f921\"]]}],\"heatmapgl\":[{\"type\":\"heatmapgl\",\"colorbar\":{\"outlinewidth\":0,\"ticks\":\"\"},\"colorscale\":[[0.0,\"#0d0887\"],[0.1111111111111111,\"#46039f\"],[0.2222222222222222,\"#7201a8\"],[0.3333333333333333,\"#9c179e\"],[0.4444444444444444,\"#bd3786\"],[0.5555555555555556,\"#d8576b\"],[0.6666666666666666,\"#ed7953\"],[0.7777777777777778,\"#fb9f3a\"],[0.8888888888888888,\"#fdca26\"],[1.0,\"#f0f921\"]]}],\"contourcarpet\":[{\"type\":\"contourcarpet\",\"colorbar\":{\"outlinewidth\":0,\"ticks\":\"\"}}],\"contour\":[{\"type\":\"contour\",\"colorbar\":{\"outlinewidth\":0,\"ticks\":\"\"},\"colorscale\":[[0.0,\"#0d0887\"],[0.1111111111111111,\"#46039f\"],[0.2222222222222222,\"#7201a8\"],[0.3333333333333333,\"#9c179e\"],[0.4444444444444444,\"#bd3786\"],[0.5555555555555556,\"#d8576b\"],[0.6666666666666666,\"#ed7953\"],[0.7777777777777778,\"#fb9f3a\"],[0.8888888888888888,\"#fdca26\"],[1.0,\"#f0f921\"]]}],\"surface\":[{\"type\":\"surface\",\"colorbar\":{\"outlinewidth\":0,\"ticks\":\"\"},\"colorscale\":[[0.0,\"#0d0887\"],[0.1111111111111111,\"#46039f\"],[0.2222222222222222,\"#7201a8\"],[0.3333333333333333,\"#9c179e\"],[0.4444444444444444,\"#bd3786\"],[0.5555555555555556,\"#d8576b\"],[0.6666666666666666,\"#ed7953\"],[0.7777777777777778,\"#fb9f3a\"],[0.8888888888888888,\"#fdca26\"],[1.0,\"#f0f921\"]]}],\"mesh3d\":[{\"type\":\"mesh3d\",\"colorbar\":{\"outlinewidth\":0,\"ticks\":\"\"}}],\"scatter\":[{\"fillpattern\":{\"fillmode\":\"overlay\",\"size\":10,\"solidity\":0.2},\"type\":\"scatter\"}],\"parcoords\":[{\"type\":\"parcoords\",\"line\":{\"colorbar\":{\"outlinewidth\":0,\"ticks\":\"\"}}}],\"scatterpolargl\":[{\"type\":\"scatterpolargl\",\"marker\":{\"colorbar\":{\"outlinewidth\":0,\"ticks\":\"\"}}}],\"bar\":[{\"error_x\":{\"color\":\"#2a3f5f\"},\"error_y\":{\"color\":\"#2a3f5f\"},\"marker\":{\"line\":{\"color\":\"#E5ECF6\",\"width\":0.5},\"pattern\":{\"fillmode\":\"overlay\",\"size\":10,\"solidity\":0.2}},\"type\":\"bar\"}],\"scattergeo\":[{\"type\":\"scattergeo\",\"marker\":{\"colorbar\":{\"outlinewidth\":0,\"ticks\":\"\"}}}],\"scatterpolar\":[{\"type\":\"scatterpolar\",\"marker\":{\"colorbar\":{\"outlinewidth\":0,\"ticks\":\"\"}}}],\"histogram\":[{\"marker\":{\"pattern\":{\"fillmode\":\"overlay\",\"size\":10,\"solidity\":0.2}},\"type\":\"histogram\"}],\"scattergl\":[{\"type\":\"scattergl\",\"marker\":{\"colorbar\":{\"outlinewidth\":0,\"ticks\":\"\"}}}],\"scatter3d\":[{\"type\":\"scatter3d\",\"line\":{\"colorbar\":{\"outlinewidth\":0,\"ticks\":\"\"}},\"marker\":{\"colorbar\":{\"outlinewidth\":0,\"ticks\":\"\"}}}],\"scattermapbox\":[{\"type\":\"scattermapbox\",\"marker\":{\"colorbar\":{\"outlinewidth\":0,\"ticks\":\"\"}}}],\"scatterternary\":[{\"type\":\"scatterternary\",\"marker\":{\"colorbar\":{\"outlinewidth\":0,\"ticks\":\"\"}}}],\"scattercarpet\":[{\"type\":\"scattercarpet\",\"marker\":{\"colorbar\":{\"outlinewidth\":0,\"ticks\":\"\"}}}],\"carpet\":[{\"aaxis\":{\"endlinecolor\":\"#2a3f5f\",\"gridcolor\":\"white\",\"linecolor\":\"white\",\"minorgridcolor\":\"white\",\"startlinecolor\":\"#2a3f5f\"},\"baxis\":{\"endlinecolor\":\"#2a3f5f\",\"gridcolor\":\"white\",\"linecolor\":\"white\",\"minorgridcolor\":\"white\",\"startlinecolor\":\"#2a3f5f\"},\"type\":\"carpet\"}],\"table\":[{\"cells\":{\"fill\":{\"color\":\"#EBF0F8\"},\"line\":{\"color\":\"white\"}},\"header\":{\"fill\":{\"color\":\"#C8D4E3\"},\"line\":{\"color\":\"white\"}},\"type\":\"table\"}],\"barpolar\":[{\"marker\":{\"line\":{\"color\":\"#E5ECF6\",\"width\":0.5},\"pattern\":{\"fillmode\":\"overlay\",\"size\":10,\"solidity\":0.2}},\"type\":\"barpolar\"}],\"pie\":[{\"automargin\":true,\"type\":\"pie\"}]},\"layout\":{\"autotypenumbers\":\"strict\",\"colorway\":[\"#636efa\",\"#EF553B\",\"#00cc96\",\"#ab63fa\",\"#FFA15A\",\"#19d3f3\",\"#FF6692\",\"#B6E880\",\"#FF97FF\",\"#FECB52\"],\"font\":{\"color\":\"#2a3f5f\"},\"hovermode\":\"closest\",\"hoverlabel\":{\"align\":\"left\"},\"paper_bgcolor\":\"white\",\"plot_bgcolor\":\"#E5ECF6\",\"polar\":{\"bgcolor\":\"#E5ECF6\",\"angularaxis\":{\"gridcolor\":\"white\",\"linecolor\":\"white\",\"ticks\":\"\"},\"radialaxis\":{\"gridcolor\":\"white\",\"linecolor\":\"white\",\"ticks\":\"\"}},\"ternary\":{\"bgcolor\":\"#E5ECF6\",\"aaxis\":{\"gridcolor\":\"white\",\"linecolor\":\"white\",\"ticks\":\"\"},\"baxis\":{\"gridcolor\":\"white\",\"linecolor\":\"white\",\"ticks\":\"\"},\"caxis\":{\"gridcolor\":\"white\",\"linecolor\":\"white\",\"ticks\":\"\"}},\"coloraxis\":{\"colorbar\":{\"outlinewidth\":0,\"ticks\":\"\"}},\"colorscale\":{\"sequential\":[[0.0,\"#0d0887\"],[0.1111111111111111,\"#46039f\"],[0.2222222222222222,\"#7201a8\"],[0.3333333333333333,\"#9c179e\"],[0.4444444444444444,\"#bd3786\"],[0.5555555555555556,\"#d8576b\"],[0.6666666666666666,\"#ed7953\"],[0.7777777777777778,\"#fb9f3a\"],[0.8888888888888888,\"#fdca26\"],[1.0,\"#f0f921\"]],\"sequentialminus\":[[0.0,\"#0d0887\"],[0.1111111111111111,\"#46039f\"],[0.2222222222222222,\"#7201a8\"],[0.3333333333333333,\"#9c179e\"],[0.4444444444444444,\"#bd3786\"],[0.5555555555555556,\"#d8576b\"],[0.6666666666666666,\"#ed7953\"],[0.7777777777777778,\"#fb9f3a\"],[0.8888888888888888,\"#fdca26\"],[1.0,\"#f0f921\"]],\"diverging\":[[0,\"#8e0152\"],[0.1,\"#c51b7d\"],[0.2,\"#de77ae\"],[0.3,\"#f1b6da\"],[0.4,\"#fde0ef\"],[0.5,\"#f7f7f7\"],[0.6,\"#e6f5d0\"],[0.7,\"#b8e186\"],[0.8,\"#7fbc41\"],[0.9,\"#4d9221\"],[1,\"#276419\"]]},\"xaxis\":{\"gridcolor\":\"white\",\"linecolor\":\"white\",\"ticks\":\"\",\"title\":{\"standoff\":15},\"zerolinecolor\":\"white\",\"automargin\":true,\"zerolinewidth\":2},\"yaxis\":{\"gridcolor\":\"white\",\"linecolor\":\"white\",\"ticks\":\"\",\"title\":{\"standoff\":15},\"zerolinecolor\":\"white\",\"automargin\":true,\"zerolinewidth\":2},\"scene\":{\"xaxis\":{\"backgroundcolor\":\"#E5ECF6\",\"gridcolor\":\"white\",\"linecolor\":\"white\",\"showbackground\":true,\"ticks\":\"\",\"zerolinecolor\":\"white\",\"gridwidth\":2},\"yaxis\":{\"backgroundcolor\":\"#E5ECF6\",\"gridcolor\":\"white\",\"linecolor\":\"white\",\"showbackground\":true,\"ticks\":\"\",\"zerolinecolor\":\"white\",\"gridwidth\":2},\"zaxis\":{\"backgroundcolor\":\"#E5ECF6\",\"gridcolor\":\"white\",\"linecolor\":\"white\",\"showbackground\":true,\"ticks\":\"\",\"zerolinecolor\":\"white\",\"gridwidth\":2}},\"shapedefaults\":{\"line\":{\"color\":\"#2a3f5f\"}},\"annotationdefaults\":{\"arrowcolor\":\"#2a3f5f\",\"arrowhead\":0,\"arrowwidth\":1},\"geo\":{\"bgcolor\":\"white\",\"landcolor\":\"#E5ECF6\",\"subunitcolor\":\"white\",\"showland\":true,\"showlakes\":true,\"lakecolor\":\"white\"},\"title\":{\"x\":0.05},\"mapbox\":{\"style\":\"light\"}}},\"xaxis\":{\"anchor\":\"y\",\"domain\":[0.0,1.0],\"title\":{\"text\":\"Sample Size\"},\"range\":[0,10000],\"showgrid\":true,\"gridcolor\":\"#CCCCCC\",\"gridwidth\":1,\"zeroline\":true,\"zerolinecolor\":\"#CCCCCC\",\"zerolinewidth\":1},\"yaxis\":{\"anchor\":\"x\",\"domain\":[0.0,1.0],\"title\":{\"text\":\"Mean Accuracy\"},\"showgrid\":true,\"gridcolor\":\"#CCCCCC\",\"gridwidth\":1,\"zeroline\":true,\"zerolinecolor\":\"#CCCCCC\",\"zerolinewidth\":1},\"legend\":{\"title\":{\"text\":\"Language\"},\"tracegroupgap\":0},\"title\":{\"text\":\"Determiner - Ablation Study\"},\"font\":{\"color\":\"#555555\",\"family\":\"Verdana\"},\"plot_bgcolor\":\"#FFFFFF\",\"paper_bgcolor\":\"#FFFFFF\",\"width\":800,\"height\":500},                        {\"responsive\": true}                    ).then(function(){\n",
       "                            \n",
       "var gd = document.getElementById('761ed23d-aef2-4391-a7c4-67cd80020d82');\n",
       "var x = new MutationObserver(function (mutations, observer) {{\n",
       "        var display = window.getComputedStyle(gd).display;\n",
       "        if (!display || display === 'none') {{\n",
       "            console.log([gd, 'removed!']);\n",
       "            Plotly.purge(gd);\n",
       "            observer.disconnect();\n",
       "        }}\n",
       "}});\n",
       "\n",
       "// Listen for the removal of the full notebook cells\n",
       "var notebookContainer = gd.closest('#notebook-container');\n",
       "if (notebookContainer) {{\n",
       "    x.observe(notebookContainer, {childList: true});\n",
       "}}\n",
       "\n",
       "// Listen for the clearing of the current output cell\n",
       "var outputEl = gd.closest('.output');\n",
       "if (outputEl) {{\n",
       "    x.observe(outputEl, {childList: true});\n",
       "}}\n",
       "\n",
       "                        })                };                            </script>        </div>\n",
       "</body>\n",
       "</html>"
      ]
     },
     "metadata": {},
     "output_type": "display_data"
    }
   ],
   "source": [
    "grouped = df.groupby(['tag', 'Sample Size', 'Language'])['accuracy'].agg(['mean', 'std']).reset_index()\n",
    "eval_tag = 'D'\n",
    "grouped = grouped[grouped['tag'] == eval_tag]\n",
    "grouped = grouped.reset_index()\n",
    "grouped = grouped[grouped['Language'].isin(['OIce', 'OE', 'OHG'])]\n",
    "grouped = grouped.reset_index()\n",
    "grouped['standard_error'] = grouped['std'] / 10\n",
    "color_map = {'OIce': 'red', 'OS': 'green', 'OE': 'blue', 'OHG': 'purple'}\n",
    "\n",
    "fig = px.line(grouped, x='Sample Size', y='mean', color='Language',\n",
    "              error_y='standard_error', range_x = [0, 10000],\n",
    "              title=str('Determiner - Ablation Study'), color_discrete_map=color_map)\n",
    "\n",
    "fig.update_layout(\n",
    "    xaxis_title='Sample Size',\n",
    "    yaxis_title='Mean Accuracy',\n",
    "    font = dict(color = '#555555', family=\"Verdana\"),\n",
    "    plot_bgcolor='#FFFFFF',\n",
    "    paper_bgcolor='#FFFFFF',\n",
    "    xaxis=dict(\n",
    "        showgrid=True,\n",
    "        gridcolor='#CCCCCC',\n",
    "        gridwidth=1,\n",
    "        zeroline=True,\n",
    "        zerolinecolor='#CCCCCC',\n",
    "        zerolinewidth=1\n",
    "    ),\n",
    "    yaxis=dict(\n",
    "        showgrid=True,\n",
    "        gridcolor='#CCCCCC',\n",
    "        gridwidth=1,\n",
    "        zeroline=True,\n",
    "        zerolinecolor='#CCCCCC',\n",
    "        zerolinewidth=1\n",
    "    ),\n",
    "    width=800,\n",
    "    height=500,\n",
    ")\n",
    "\n",
    "fig.write_image(\"d_ablation.png\")\n",
    "fig.show()"
   ]
  },
  {
   "cell_type": "code",
   "execution_count": 8,
   "metadata": {
    "colab": {
     "base_uri": "https://localhost:8080/",
     "height": 517
    },
    "executionInfo": {
     "elapsed": 335,
     "status": "ok",
     "timestamp": 1760394293404,
     "user": {
      "displayName": "Carter Smith",
      "userId": "16068926545987539689"
     },
     "user_tz": 300
    },
    "id": "1RwAc119oKTy",
    "outputId": "b9ad2b19-99ec-4920-982e-26139bc94caa"
   },
   "outputs": [
    {
     "data": {
      "text/html": [
       "<html>\n",
       "<head><meta charset=\"utf-8\" /></head>\n",
       "<body>\n",
       "    <div>            <script src=\"https://cdnjs.cloudflare.com/ajax/libs/mathjax/2.7.5/MathJax.js?config=TeX-AMS-MML_SVG\"></script><script type=\"text/javascript\">if (window.MathJax && window.MathJax.Hub && window.MathJax.Hub.Config) {window.MathJax.Hub.Config({SVG: {font: \"STIX-Web\"}});}</script>                <script type=\"text/javascript\">window.PlotlyConfig = {MathJaxConfig: 'local'};</script>\n",
       "        <script charset=\"utf-8\" src=\"https://cdn.plot.ly/plotly-2.35.2.min.js\"></script>                <div id=\"6d815ee8-c8cf-43d2-9b98-cce56cc5c528\" class=\"plotly-graph-div\" style=\"height:500px; width:400px;\"></div>            <script type=\"text/javascript\">                                    window.PLOTLYENV=window.PLOTLYENV || {};                                    if (document.getElementById(\"6d815ee8-c8cf-43d2-9b98-cce56cc5c528\")) {                    Plotly.newPlot(                        \"6d815ee8-c8cf-43d2-9b98-cce56cc5c528\",                        [{\"error_y\":{\"array\":[1.072982793928357,0.3529616243398114,0.38202489324807337,0.41505361560977444,0.27627606756458106,0.21599732288264328,0.23226738102485628,0.17461627038184807,0.1404370176076699,0.15711934542633982,0.1320733834482604]},\"hovertemplate\":\"Language=GOTH\\u003cbr\\u003eSample Size=%{x}\\u003cbr\\u003emean=%{y}\\u003cextra\\u003e\\u003c\\u002fextra\\u003e\",\"legendgroup\":\"GOTH\",\"line\":{\"color\":\"#FFA15A\",\"dash\":\"solid\"},\"marker\":{\"symbol\":\"circle\"},\"mode\":\"lines\",\"name\":\"GOTH\",\"orientation\":\"v\",\"showlegend\":true,\"x\":[250,500,750,1000,1500,2000,2500,3000,3500,4000,4339],\"xaxis\":\"x\",\"y\":[62.452904286541326,70.90701823286545,74.93892831240339,76.74484763583104,80.39540875022027,83.0625140354406,84.59244718811411,86.30084138046288,87.23217256973632,87.97297196021134,88.79228608227099],\"yaxis\":\"y\",\"type\":\"scatter\"},{\"error_y\":{\"array\":[0.7684014299274508,0.5728600918897016,0.5059238997615654,0.6329570235601184,0.3798684302821219,0.45936454932290305,0.4254225141020759,0.3137538997252506,0.3125234049622438,0.27865473994150347,0.26944848958471035,0.24329193710532557,0.16782357781794532,0.14853896200655556,0.10865579441395715,0.06630624679857935,0.04609330443065085,0.03979703138323492,0.03641442457376877]},\"hovertemplate\":\"Language=OE\\u003cbr\\u003eSample Size=%{x}\\u003cbr\\u003emean=%{y}\\u003cextra\\u003e\\u003c\\u002fextra\\u003e\",\"legendgroup\":\"OE\",\"line\":{\"color\":\"blue\",\"dash\":\"solid\"},\"marker\":{\"symbol\":\"circle\"},\"mode\":\"lines\",\"name\":\"OE\",\"orientation\":\"v\",\"showlegend\":true,\"x\":[250,500,750,1000,1500,2000,2500,3000,3500,4000,4500,5000,7500,10000,25000,50000,75000,100000,112660],\"xaxis\":\"x\",\"y\":[54.24334087951898,60.51110113563043,63.566110509706725,66.77234224076244,69.98931713094987,70.92896951755705,73.38384060641039,74.64050389269352,76.20138481656193,76.65847690944197,78.00724256676416,78.75137781632537,81.83066996407848,83.76249582405812,88.2304997767178,90.95090147614059,92.21622499521652,92.90794174394685,93.17994752230456],\"yaxis\":\"y\",\"type\":\"scatter\"},{\"error_y\":{\"array\":[1.1726709970516813,0.7745879804327963,1.0111292001730914,0.7914502142241548,0.5872286141972674,0.6697365240394022,0.6506752792193398,0.5889468957203486,0.552763041709553,0.4721888880853192,0.5144302032079046,0.42248851668880516,0.3518373205873268,0.3477486968356439,0.20065262958862595]},\"hovertemplate\":\"Language=OHG\\u003cbr\\u003eSample Size=%{x}\\u003cbr\\u003emean=%{y}\\u003cextra\\u003e\\u003c\\u002fextra\\u003e\",\"legendgroup\":\"OHG\",\"line\":{\"color\":\"purple\",\"dash\":\"solid\"},\"marker\":{\"symbol\":\"circle\"},\"mode\":\"lines\",\"name\":\"OHG\",\"orientation\":\"v\",\"showlegend\":true,\"x\":[250,500,750,1000,1500,2000,2500,3000,3500,4000,4500,5000,7500,10000,18853],\"xaxis\":\"x\",\"y\":[30.78887736233942,39.54873121363226,44.18719614910661,47.912720723848444,52.568459478963234,54.85115550301992,56.19767857084767,59.402460208603244,60.854055060122626,62.07416223617787,62.89565325225174,64.26794542289527,67.92668411832487,70.44723498645783,76.5399157007907],\"yaxis\":\"y\",\"type\":\"scatter\"},{\"error_y\":{\"array\":[0.6693016950330336,0.38096816973241715,0.3657566503120183,0.6647816930135301,0.33595598030307333,0.35119674630731035,0.41154120790283893,0.36540065932255134,0.29533348578954677,0.28396664540917166,0.2686140644713264,0.22706517873972576,0.15477186140312513,0.12484518483350082,0.09630662164650562,0.09077906572106058]},\"hovertemplate\":\"Language=OIce\\u003cbr\\u003eSample Size=%{x}\\u003cbr\\u003emean=%{y}\\u003cextra\\u003e\\u003c\\u002fextra\\u003e\",\"legendgroup\":\"OIce\",\"line\":{\"color\":\"red\",\"dash\":\"solid\"},\"marker\":{\"symbol\":\"circle\"},\"mode\":\"lines\",\"name\":\"OIce\",\"orientation\":\"v\",\"showlegend\":true,\"x\":[250,500,750,1000,1500,2000,2500,3000,3500,4000,4500,5000,7500,10000,20000,21847],\"xaxis\":\"x\",\"y\":[59.20286115569249,67.65732422341104,71.06011946230677,71.40158736766547,75.72020765507915,76.90729844583637,77.50078781802763,79.1237447116115,80.64431345762995,80.97227303767609,82.39484261309737,82.8282337134172,85.4424855221173,86.95303228279634,90.41268934110785,90.59026226460566],\"yaxis\":\"y\",\"type\":\"scatter\"},{\"error_y\":{\"array\":[0.48237824269442725,0.3130842024708644,0.2971281538432838,0.37377138265593524,0.18284298575886862,0.18539591722966456,0.16351925804131912,0.160866130848897,0.136412030313618]},\"hovertemplate\":\"Language=OS\\u003cbr\\u003eSample Size=%{x}\\u003cbr\\u003emean=%{y}\\u003cextra\\u003e\\u003c\\u002fextra\\u003e\",\"legendgroup\":\"OS\",\"line\":{\"color\":\"green\",\"dash\":\"solid\"},\"marker\":{\"symbol\":\"circle\"},\"mode\":\"lines\",\"name\":\"OS\",\"orientation\":\"v\",\"showlegend\":true,\"x\":[250,500,750,1000,1500,2000,2500,3000,3549],\"xaxis\":\"x\",\"y\":[70.19847406903877,75.4869980002365,78.2001221889288,79.6932805360796,83.25065126859988,84.61268639369291,85.89564634950104,86.79600707512068,87.8908903975292],\"yaxis\":\"y\",\"type\":\"scatter\"}],                        {\"template\":{\"data\":{\"histogram2dcontour\":[{\"type\":\"histogram2dcontour\",\"colorbar\":{\"outlinewidth\":0,\"ticks\":\"\"},\"colorscale\":[[0.0,\"#0d0887\"],[0.1111111111111111,\"#46039f\"],[0.2222222222222222,\"#7201a8\"],[0.3333333333333333,\"#9c179e\"],[0.4444444444444444,\"#bd3786\"],[0.5555555555555556,\"#d8576b\"],[0.6666666666666666,\"#ed7953\"],[0.7777777777777778,\"#fb9f3a\"],[0.8888888888888888,\"#fdca26\"],[1.0,\"#f0f921\"]]}],\"choropleth\":[{\"type\":\"choropleth\",\"colorbar\":{\"outlinewidth\":0,\"ticks\":\"\"}}],\"histogram2d\":[{\"type\":\"histogram2d\",\"colorbar\":{\"outlinewidth\":0,\"ticks\":\"\"},\"colorscale\":[[0.0,\"#0d0887\"],[0.1111111111111111,\"#46039f\"],[0.2222222222222222,\"#7201a8\"],[0.3333333333333333,\"#9c179e\"],[0.4444444444444444,\"#bd3786\"],[0.5555555555555556,\"#d8576b\"],[0.6666666666666666,\"#ed7953\"],[0.7777777777777778,\"#fb9f3a\"],[0.8888888888888888,\"#fdca26\"],[1.0,\"#f0f921\"]]}],\"heatmap\":[{\"type\":\"heatmap\",\"colorbar\":{\"outlinewidth\":0,\"ticks\":\"\"},\"colorscale\":[[0.0,\"#0d0887\"],[0.1111111111111111,\"#46039f\"],[0.2222222222222222,\"#7201a8\"],[0.3333333333333333,\"#9c179e\"],[0.4444444444444444,\"#bd3786\"],[0.5555555555555556,\"#d8576b\"],[0.6666666666666666,\"#ed7953\"],[0.7777777777777778,\"#fb9f3a\"],[0.8888888888888888,\"#fdca26\"],[1.0,\"#f0f921\"]]}],\"heatmapgl\":[{\"type\":\"heatmapgl\",\"colorbar\":{\"outlinewidth\":0,\"ticks\":\"\"},\"colorscale\":[[0.0,\"#0d0887\"],[0.1111111111111111,\"#46039f\"],[0.2222222222222222,\"#7201a8\"],[0.3333333333333333,\"#9c179e\"],[0.4444444444444444,\"#bd3786\"],[0.5555555555555556,\"#d8576b\"],[0.6666666666666666,\"#ed7953\"],[0.7777777777777778,\"#fb9f3a\"],[0.8888888888888888,\"#fdca26\"],[1.0,\"#f0f921\"]]}],\"contourcarpet\":[{\"type\":\"contourcarpet\",\"colorbar\":{\"outlinewidth\":0,\"ticks\":\"\"}}],\"contour\":[{\"type\":\"contour\",\"colorbar\":{\"outlinewidth\":0,\"ticks\":\"\"},\"colorscale\":[[0.0,\"#0d0887\"],[0.1111111111111111,\"#46039f\"],[0.2222222222222222,\"#7201a8\"],[0.3333333333333333,\"#9c179e\"],[0.4444444444444444,\"#bd3786\"],[0.5555555555555556,\"#d8576b\"],[0.6666666666666666,\"#ed7953\"],[0.7777777777777778,\"#fb9f3a\"],[0.8888888888888888,\"#fdca26\"],[1.0,\"#f0f921\"]]}],\"surface\":[{\"type\":\"surface\",\"colorbar\":{\"outlinewidth\":0,\"ticks\":\"\"},\"colorscale\":[[0.0,\"#0d0887\"],[0.1111111111111111,\"#46039f\"],[0.2222222222222222,\"#7201a8\"],[0.3333333333333333,\"#9c179e\"],[0.4444444444444444,\"#bd3786\"],[0.5555555555555556,\"#d8576b\"],[0.6666666666666666,\"#ed7953\"],[0.7777777777777778,\"#fb9f3a\"],[0.8888888888888888,\"#fdca26\"],[1.0,\"#f0f921\"]]}],\"mesh3d\":[{\"type\":\"mesh3d\",\"colorbar\":{\"outlinewidth\":0,\"ticks\":\"\"}}],\"scatter\":[{\"fillpattern\":{\"fillmode\":\"overlay\",\"size\":10,\"solidity\":0.2},\"type\":\"scatter\"}],\"parcoords\":[{\"type\":\"parcoords\",\"line\":{\"colorbar\":{\"outlinewidth\":0,\"ticks\":\"\"}}}],\"scatterpolargl\":[{\"type\":\"scatterpolargl\",\"marker\":{\"colorbar\":{\"outlinewidth\":0,\"ticks\":\"\"}}}],\"bar\":[{\"error_x\":{\"color\":\"#2a3f5f\"},\"error_y\":{\"color\":\"#2a3f5f\"},\"marker\":{\"line\":{\"color\":\"#E5ECF6\",\"width\":0.5},\"pattern\":{\"fillmode\":\"overlay\",\"size\":10,\"solidity\":0.2}},\"type\":\"bar\"}],\"scattergeo\":[{\"type\":\"scattergeo\",\"marker\":{\"colorbar\":{\"outlinewidth\":0,\"ticks\":\"\"}}}],\"scatterpolar\":[{\"type\":\"scatterpolar\",\"marker\":{\"colorbar\":{\"outlinewidth\":0,\"ticks\":\"\"}}}],\"histogram\":[{\"marker\":{\"pattern\":{\"fillmode\":\"overlay\",\"size\":10,\"solidity\":0.2}},\"type\":\"histogram\"}],\"scattergl\":[{\"type\":\"scattergl\",\"marker\":{\"colorbar\":{\"outlinewidth\":0,\"ticks\":\"\"}}}],\"scatter3d\":[{\"type\":\"scatter3d\",\"line\":{\"colorbar\":{\"outlinewidth\":0,\"ticks\":\"\"}},\"marker\":{\"colorbar\":{\"outlinewidth\":0,\"ticks\":\"\"}}}],\"scattermapbox\":[{\"type\":\"scattermapbox\",\"marker\":{\"colorbar\":{\"outlinewidth\":0,\"ticks\":\"\"}}}],\"scatterternary\":[{\"type\":\"scatterternary\",\"marker\":{\"colorbar\":{\"outlinewidth\":0,\"ticks\":\"\"}}}],\"scattercarpet\":[{\"type\":\"scattercarpet\",\"marker\":{\"colorbar\":{\"outlinewidth\":0,\"ticks\":\"\"}}}],\"carpet\":[{\"aaxis\":{\"endlinecolor\":\"#2a3f5f\",\"gridcolor\":\"white\",\"linecolor\":\"white\",\"minorgridcolor\":\"white\",\"startlinecolor\":\"#2a3f5f\"},\"baxis\":{\"endlinecolor\":\"#2a3f5f\",\"gridcolor\":\"white\",\"linecolor\":\"white\",\"minorgridcolor\":\"white\",\"startlinecolor\":\"#2a3f5f\"},\"type\":\"carpet\"}],\"table\":[{\"cells\":{\"fill\":{\"color\":\"#EBF0F8\"},\"line\":{\"color\":\"white\"}},\"header\":{\"fill\":{\"color\":\"#C8D4E3\"},\"line\":{\"color\":\"white\"}},\"type\":\"table\"}],\"barpolar\":[{\"marker\":{\"line\":{\"color\":\"#E5ECF6\",\"width\":0.5},\"pattern\":{\"fillmode\":\"overlay\",\"size\":10,\"solidity\":0.2}},\"type\":\"barpolar\"}],\"pie\":[{\"automargin\":true,\"type\":\"pie\"}]},\"layout\":{\"autotypenumbers\":\"strict\",\"colorway\":[\"#636efa\",\"#EF553B\",\"#00cc96\",\"#ab63fa\",\"#FFA15A\",\"#19d3f3\",\"#FF6692\",\"#B6E880\",\"#FF97FF\",\"#FECB52\"],\"font\":{\"color\":\"#2a3f5f\"},\"hovermode\":\"closest\",\"hoverlabel\":{\"align\":\"left\"},\"paper_bgcolor\":\"white\",\"plot_bgcolor\":\"#E5ECF6\",\"polar\":{\"bgcolor\":\"#E5ECF6\",\"angularaxis\":{\"gridcolor\":\"white\",\"linecolor\":\"white\",\"ticks\":\"\"},\"radialaxis\":{\"gridcolor\":\"white\",\"linecolor\":\"white\",\"ticks\":\"\"}},\"ternary\":{\"bgcolor\":\"#E5ECF6\",\"aaxis\":{\"gridcolor\":\"white\",\"linecolor\":\"white\",\"ticks\":\"\"},\"baxis\":{\"gridcolor\":\"white\",\"linecolor\":\"white\",\"ticks\":\"\"},\"caxis\":{\"gridcolor\":\"white\",\"linecolor\":\"white\",\"ticks\":\"\"}},\"coloraxis\":{\"colorbar\":{\"outlinewidth\":0,\"ticks\":\"\"}},\"colorscale\":{\"sequential\":[[0.0,\"#0d0887\"],[0.1111111111111111,\"#46039f\"],[0.2222222222222222,\"#7201a8\"],[0.3333333333333333,\"#9c179e\"],[0.4444444444444444,\"#bd3786\"],[0.5555555555555556,\"#d8576b\"],[0.6666666666666666,\"#ed7953\"],[0.7777777777777778,\"#fb9f3a\"],[0.8888888888888888,\"#fdca26\"],[1.0,\"#f0f921\"]],\"sequentialminus\":[[0.0,\"#0d0887\"],[0.1111111111111111,\"#46039f\"],[0.2222222222222222,\"#7201a8\"],[0.3333333333333333,\"#9c179e\"],[0.4444444444444444,\"#bd3786\"],[0.5555555555555556,\"#d8576b\"],[0.6666666666666666,\"#ed7953\"],[0.7777777777777778,\"#fb9f3a\"],[0.8888888888888888,\"#fdca26\"],[1.0,\"#f0f921\"]],\"diverging\":[[0,\"#8e0152\"],[0.1,\"#c51b7d\"],[0.2,\"#de77ae\"],[0.3,\"#f1b6da\"],[0.4,\"#fde0ef\"],[0.5,\"#f7f7f7\"],[0.6,\"#e6f5d0\"],[0.7,\"#b8e186\"],[0.8,\"#7fbc41\"],[0.9,\"#4d9221\"],[1,\"#276419\"]]},\"xaxis\":{\"gridcolor\":\"white\",\"linecolor\":\"white\",\"ticks\":\"\",\"title\":{\"standoff\":15},\"zerolinecolor\":\"white\",\"automargin\":true,\"zerolinewidth\":2},\"yaxis\":{\"gridcolor\":\"white\",\"linecolor\":\"white\",\"ticks\":\"\",\"title\":{\"standoff\":15},\"zerolinecolor\":\"white\",\"automargin\":true,\"zerolinewidth\":2},\"scene\":{\"xaxis\":{\"backgroundcolor\":\"#E5ECF6\",\"gridcolor\":\"white\",\"linecolor\":\"white\",\"showbackground\":true,\"ticks\":\"\",\"zerolinecolor\":\"white\",\"gridwidth\":2},\"yaxis\":{\"backgroundcolor\":\"#E5ECF6\",\"gridcolor\":\"white\",\"linecolor\":\"white\",\"showbackground\":true,\"ticks\":\"\",\"zerolinecolor\":\"white\",\"gridwidth\":2},\"zaxis\":{\"backgroundcolor\":\"#E5ECF6\",\"gridcolor\":\"white\",\"linecolor\":\"white\",\"showbackground\":true,\"ticks\":\"\",\"zerolinecolor\":\"white\",\"gridwidth\":2}},\"shapedefaults\":{\"line\":{\"color\":\"#2a3f5f\"}},\"annotationdefaults\":{\"arrowcolor\":\"#2a3f5f\",\"arrowhead\":0,\"arrowwidth\":1},\"geo\":{\"bgcolor\":\"white\",\"landcolor\":\"#E5ECF6\",\"subunitcolor\":\"white\",\"showland\":true,\"showlakes\":true,\"lakecolor\":\"white\"},\"title\":{\"x\":0.05},\"mapbox\":{\"style\":\"light\"}}},\"xaxis\":{\"anchor\":\"y\",\"domain\":[0.0,1.0],\"title\":{\"text\":\"Sample Size\"},\"range\":[0,5000],\"showgrid\":true,\"gridcolor\":\"#CCCCCC\",\"gridwidth\":1,\"zeroline\":true,\"zerolinecolor\":\"#CCCCCC\",\"zerolinewidth\":1},\"yaxis\":{\"anchor\":\"x\",\"domain\":[0.0,1.0],\"title\":{\"text\":\"Mean Accuracy\"},\"showgrid\":true,\"gridcolor\":\"#CCCCCC\",\"gridwidth\":1,\"zeroline\":true,\"zerolinecolor\":\"#CCCCCC\",\"zerolinewidth\":1},\"legend\":{\"title\":{\"text\":\"Language\"},\"tracegroupgap\":0},\"title\":{\"text\":\"Noun - Ablation Study\"},\"font\":{\"color\":\"#555555\",\"family\":\"Verdana\"},\"plot_bgcolor\":\"#FFFFFF\",\"paper_bgcolor\":\"#FFFFFF\",\"width\":400,\"height\":500},                        {\"responsive\": true}                    ).then(function(){\n",
       "                            \n",
       "var gd = document.getElementById('6d815ee8-c8cf-43d2-9b98-cce56cc5c528');\n",
       "var x = new MutationObserver(function (mutations, observer) {{\n",
       "        var display = window.getComputedStyle(gd).display;\n",
       "        if (!display || display === 'none') {{\n",
       "            console.log([gd, 'removed!']);\n",
       "            Plotly.purge(gd);\n",
       "            observer.disconnect();\n",
       "        }}\n",
       "}});\n",
       "\n",
       "// Listen for the removal of the full notebook cells\n",
       "var notebookContainer = gd.closest('#notebook-container');\n",
       "if (notebookContainer) {{\n",
       "    x.observe(notebookContainer, {childList: true});\n",
       "}}\n",
       "\n",
       "// Listen for the clearing of the current output cell\n",
       "var outputEl = gd.closest('.output');\n",
       "if (outputEl) {{\n",
       "    x.observe(outputEl, {childList: true});\n",
       "}}\n",
       "\n",
       "                        })                };                            </script>        </div>\n",
       "</body>\n",
       "</html>"
      ]
     },
     "metadata": {},
     "output_type": "display_data"
    }
   ],
   "source": [
    "grouped = df.groupby(['tag', 'Sample Size', 'Language'])['accuracy'].agg(['mean', 'std']).reset_index()\n",
    "eval_tag = 'N'\n",
    "grouped = grouped[grouped['tag'] == eval_tag]\n",
    "grouped = grouped.reset_index()\n",
    "#grouped = grouped[grouped['Language'].isin(['OIce', 'OE', 'OHG'])]\n",
    "#grouped = grouped.reset_index()\n",
    "grouped['standard_error'] = grouped['std'] / 10\n",
    "color_map = {'OIce': 'red', 'OS': 'green', 'OE': 'blue', 'OHG': 'purple'}\n",
    "\n",
    "fig = px.line(grouped, x='Sample Size', y='mean', color='Language',\n",
    "              error_y='standard_error', range_x = [0, 5000],\n",
    "              title=str('Noun - Ablation Study'), color_discrete_map=color_map)\n",
    "\n",
    "fig.update_layout(\n",
    "    xaxis_title='Sample Size',\n",
    "    yaxis_title='Mean Accuracy',\n",
    "    font = dict(color = '#555555', family=\"Verdana\"),\n",
    "    plot_bgcolor='#FFFFFF',\n",
    "    paper_bgcolor='#FFFFFF',\n",
    "    xaxis=dict(\n",
    "        showgrid=True,\n",
    "        gridcolor='#CCCCCC',\n",
    "        gridwidth=1,\n",
    "        zeroline=True,\n",
    "        zerolinecolor='#CCCCCC',\n",
    "        zerolinewidth=1\n",
    "    ),\n",
    "    yaxis=dict(\n",
    "        showgrid=True,\n",
    "        gridcolor='#CCCCCC',\n",
    "        gridwidth=1,\n",
    "        zeroline=True,\n",
    "        zerolinecolor='#CCCCCC',\n",
    "        zerolinewidth=1\n",
    "    ),\n",
    "    width=400,\n",
    "    height=500,\n",
    ")\n",
    "\n",
    "pio.write_image(fig, \"n_ablation.png\")\n",
    "fig.show()"
   ]
  },
  {
   "cell_type": "code",
   "execution_count": 9,
   "metadata": {
    "colab": {
     "base_uri": "https://localhost:8080/",
     "height": 517
    },
    "executionInfo": {
     "elapsed": 380,
     "status": "ok",
     "timestamp": 1760394293790,
     "user": {
      "displayName": "Carter Smith",
      "userId": "16068926545987539689"
     },
     "user_tz": 300
    },
    "id": "I5zVrILxoR_k",
    "outputId": "b99bce21-f02c-43a1-a923-6e9197c15745"
   },
   "outputs": [
    {
     "data": {
      "text/html": [
       "<html>\n",
       "<head><meta charset=\"utf-8\" /></head>\n",
       "<body>\n",
       "    <div>            <script src=\"https://cdnjs.cloudflare.com/ajax/libs/mathjax/2.7.5/MathJax.js?config=TeX-AMS-MML_SVG\"></script><script type=\"text/javascript\">if (window.MathJax && window.MathJax.Hub && window.MathJax.Hub.Config) {window.MathJax.Hub.Config({SVG: {font: \"STIX-Web\"}});}</script>                <script type=\"text/javascript\">window.PlotlyConfig = {MathJaxConfig: 'local'};</script>\n",
       "        <script charset=\"utf-8\" src=\"https://cdn.plot.ly/plotly-2.35.2.min.js\"></script>                <div id=\"95b3b16e-977f-477b-b26f-9be6ce660179\" class=\"plotly-graph-div\" style=\"height:500px; width:400px;\"></div>            <script type=\"text/javascript\">                                    window.PLOTLYENV=window.PLOTLYENV || {};                                    if (document.getElementById(\"95b3b16e-977f-477b-b26f-9be6ce660179\")) {                    Plotly.newPlot(                        \"95b3b16e-977f-477b-b26f-9be6ce660179\",                        [{\"error_y\":{\"array\":[2.5168660421499416,0.31396205159421753,0.28440595410051517,0.2582947262167999,0.22674543274589967,0.20587144489993983,0.2072825296001009,0.16212391510650234,0.17675151046945217,0.17881151469460357,0.15272146439569717]},\"hovertemplate\":\"Language=GOTH\\u003cbr\\u003eSample Size=%{x}\\u003cbr\\u003emean=%{y}\\u003cextra\\u003e\\u003c\\u002fextra\\u003e\",\"legendgroup\":\"GOTH\",\"line\":{\"color\":\"#FFA15A\",\"dash\":\"solid\"},\"marker\":{\"symbol\":\"circle\"},\"mode\":\"lines\",\"name\":\"GOTH\",\"orientation\":\"v\",\"showlegend\":true,\"x\":[250,500,750,1000,1500,2000,2500,3000,3500,4000,4339],\"xaxis\":\"x\",\"y\":[81.36988168195182,90.75958514031157,91.0979887425726,91.55133007816285,91.71878869181266,91.76773396730698,92.35312528367669,92.07502818169014,92.09529009171898,91.81225238992138,92.12261702189932],\"yaxis\":\"y\",\"type\":\"scatter\"},{\"error_y\":{\"array\":[0.5502228089965644,0.38635771786729,0.2802457717476102,0.2499764044438947,0.19540913578391692,0.1780723727677372,0.15857192177986584,0.13948596316678546,0.1395025255032852,0.12488472764044951,0.12695929406463669,0.1096887287697316,0.108559032833458,0.08070545263156939,0.057945100645532696,0.05137014211578269,0.04014883935261142,0.03979916732387621,0.03576373311918225]},\"hovertemplate\":\"Language=OE\\u003cbr\\u003eSample Size=%{x}\\u003cbr\\u003emean=%{y}\\u003cextra\\u003e\\u003c\\u002fextra\\u003e\",\"legendgroup\":\"OE\",\"line\":{\"color\":\"blue\",\"dash\":\"solid\"},\"marker\":{\"symbol\":\"circle\"},\"mode\":\"lines\",\"name\":\"OE\",\"orientation\":\"v\",\"showlegend\":true,\"x\":[250,500,750,1000,1500,2000,2500,3000,3500,4000,4500,5000,7500,10000,25000,50000,75000,100000,112660],\"xaxis\":\"x\",\"y\":[92.52452617152514,93.95087799602932,93.94179716109583,93.98386979044548,94.264661296567,94.38035684024273,94.35944741983121,94.34804488794107,94.49634327083268,94.58058927332351,94.605839123106,94.63047666068134,94.57635551600306,94.53708736982921,94.7600218405064,94.72287075970058,94.91179359219748,94.9327818521466,94.8049344154901],\"yaxis\":\"y\",\"type\":\"scatter\"},{\"error_y\":{\"array\":[2.7718189784091836,0.765985477152025,0.7080234115252574,0.6012618744843448,0.539750215481896,0.392000130307664,0.45412015539948253,0.49030735455026264,0.3918998633683229,0.3261211286325051,0.3242272501902206,0.3442424976498567,0.289857723454202,0.22144771595470036,0.21716814652501443]},\"hovertemplate\":\"Language=OHG\\u003cbr\\u003eSample Size=%{x}\\u003cbr\\u003emean=%{y}\\u003cextra\\u003e\\u003c\\u002fextra\\u003e\",\"legendgroup\":\"OHG\",\"line\":{\"color\":\"purple\",\"dash\":\"solid\"},\"marker\":{\"symbol\":\"circle\"},\"mode\":\"lines\",\"name\":\"OHG\",\"orientation\":\"v\",\"showlegend\":true,\"x\":[250,500,750,1000,1500,2000,2500,3000,3500,4000,4500,5000,7500,10000,18853],\"xaxis\":\"x\",\"y\":[39.95338559739692,65.34111059123532,68.02836603999918,71.16626788360983,71.60386823031007,73.49089888791762,73.83407933311493,74.34940784328194,75.1376015170254,74.99467695777943,75.08284261042246,75.25191652173346,75.75126689631492,76.89405352166256,77.18700583964842],\"yaxis\":\"y\",\"type\":\"scatter\"},{\"error_y\":{\"array\":[0.29058534693826926,0.19011636498476334,0.15117365428463622,0.14869848432712546,0.13523951365503445,0.10815671838004785,0.10403510759846195,0.0942311633603967,0.08703384640221826,0.09952936543949813,0.08406298135938427,0.07990039886692919,0.07023311183311454,0.06877006566299988,0.0678613602257834,0.0608284009493348]},\"hovertemplate\":\"Language=OIce\\u003cbr\\u003eSample Size=%{x}\\u003cbr\\u003emean=%{y}\\u003cextra\\u003e\\u003c\\u002fextra\\u003e\",\"legendgroup\":\"OIce\",\"line\":{\"color\":\"red\",\"dash\":\"solid\"},\"marker\":{\"symbol\":\"circle\"},\"mode\":\"lines\",\"name\":\"OIce\",\"orientation\":\"v\",\"showlegend\":true,\"x\":[250,500,750,1000,1500,2000,2500,3000,3500,4000,4500,5000,7500,10000,20000,21847],\"xaxis\":\"x\",\"y\":[97.37396899815994,97.88674768801059,97.80526999979729,97.95674222603496,98.00750130252183,98.1562440680748,98.06230123810761,98.1755458265825,98.28059863764094,97.99915948430981,98.02783210248826,98.10934522759037,98.15509589204068,98.18243947522666,98.26456121993917,98.16818927935083],\"yaxis\":\"y\",\"type\":\"scatter\"},{\"error_y\":{\"array\":[0.8434488334618621,0.6042421655449065,0.4311387274698218,0.4244961225522942,0.28445324011093454,0.24567936978328403,0.2058502710386248,0.20561393069077774,0.17451143695963386]},\"hovertemplate\":\"Language=OS\\u003cbr\\u003eSample Size=%{x}\\u003cbr\\u003emean=%{y}\\u003cextra\\u003e\\u003c\\u002fextra\\u003e\",\"legendgroup\":\"OS\",\"line\":{\"color\":\"green\",\"dash\":\"solid\"},\"marker\":{\"symbol\":\"circle\"},\"mode\":\"lines\",\"name\":\"OS\",\"orientation\":\"v\",\"showlegend\":true,\"x\":[250,500,750,1000,1500,2000,2500,3000,3549],\"xaxis\":\"x\",\"y\":[89.11071127044038,91.16116340657975,92.22785736525047,92.78435602304496,94.23160024767927,94.39534832561789,94.91178322334952,95.08550540763217,95.1165033981521],\"yaxis\":\"y\",\"type\":\"scatter\"}],                        {\"template\":{\"data\":{\"histogram2dcontour\":[{\"type\":\"histogram2dcontour\",\"colorbar\":{\"outlinewidth\":0,\"ticks\":\"\"},\"colorscale\":[[0.0,\"#0d0887\"],[0.1111111111111111,\"#46039f\"],[0.2222222222222222,\"#7201a8\"],[0.3333333333333333,\"#9c179e\"],[0.4444444444444444,\"#bd3786\"],[0.5555555555555556,\"#d8576b\"],[0.6666666666666666,\"#ed7953\"],[0.7777777777777778,\"#fb9f3a\"],[0.8888888888888888,\"#fdca26\"],[1.0,\"#f0f921\"]]}],\"choropleth\":[{\"type\":\"choropleth\",\"colorbar\":{\"outlinewidth\":0,\"ticks\":\"\"}}],\"histogram2d\":[{\"type\":\"histogram2d\",\"colorbar\":{\"outlinewidth\":0,\"ticks\":\"\"},\"colorscale\":[[0.0,\"#0d0887\"],[0.1111111111111111,\"#46039f\"],[0.2222222222222222,\"#7201a8\"],[0.3333333333333333,\"#9c179e\"],[0.4444444444444444,\"#bd3786\"],[0.5555555555555556,\"#d8576b\"],[0.6666666666666666,\"#ed7953\"],[0.7777777777777778,\"#fb9f3a\"],[0.8888888888888888,\"#fdca26\"],[1.0,\"#f0f921\"]]}],\"heatmap\":[{\"type\":\"heatmap\",\"colorbar\":{\"outlinewidth\":0,\"ticks\":\"\"},\"colorscale\":[[0.0,\"#0d0887\"],[0.1111111111111111,\"#46039f\"],[0.2222222222222222,\"#7201a8\"],[0.3333333333333333,\"#9c179e\"],[0.4444444444444444,\"#bd3786\"],[0.5555555555555556,\"#d8576b\"],[0.6666666666666666,\"#ed7953\"],[0.7777777777777778,\"#fb9f3a\"],[0.8888888888888888,\"#fdca26\"],[1.0,\"#f0f921\"]]}],\"heatmapgl\":[{\"type\":\"heatmapgl\",\"colorbar\":{\"outlinewidth\":0,\"ticks\":\"\"},\"colorscale\":[[0.0,\"#0d0887\"],[0.1111111111111111,\"#46039f\"],[0.2222222222222222,\"#7201a8\"],[0.3333333333333333,\"#9c179e\"],[0.4444444444444444,\"#bd3786\"],[0.5555555555555556,\"#d8576b\"],[0.6666666666666666,\"#ed7953\"],[0.7777777777777778,\"#fb9f3a\"],[0.8888888888888888,\"#fdca26\"],[1.0,\"#f0f921\"]]}],\"contourcarpet\":[{\"type\":\"contourcarpet\",\"colorbar\":{\"outlinewidth\":0,\"ticks\":\"\"}}],\"contour\":[{\"type\":\"contour\",\"colorbar\":{\"outlinewidth\":0,\"ticks\":\"\"},\"colorscale\":[[0.0,\"#0d0887\"],[0.1111111111111111,\"#46039f\"],[0.2222222222222222,\"#7201a8\"],[0.3333333333333333,\"#9c179e\"],[0.4444444444444444,\"#bd3786\"],[0.5555555555555556,\"#d8576b\"],[0.6666666666666666,\"#ed7953\"],[0.7777777777777778,\"#fb9f3a\"],[0.8888888888888888,\"#fdca26\"],[1.0,\"#f0f921\"]]}],\"surface\":[{\"type\":\"surface\",\"colorbar\":{\"outlinewidth\":0,\"ticks\":\"\"},\"colorscale\":[[0.0,\"#0d0887\"],[0.1111111111111111,\"#46039f\"],[0.2222222222222222,\"#7201a8\"],[0.3333333333333333,\"#9c179e\"],[0.4444444444444444,\"#bd3786\"],[0.5555555555555556,\"#d8576b\"],[0.6666666666666666,\"#ed7953\"],[0.7777777777777778,\"#fb9f3a\"],[0.8888888888888888,\"#fdca26\"],[1.0,\"#f0f921\"]]}],\"mesh3d\":[{\"type\":\"mesh3d\",\"colorbar\":{\"outlinewidth\":0,\"ticks\":\"\"}}],\"scatter\":[{\"fillpattern\":{\"fillmode\":\"overlay\",\"size\":10,\"solidity\":0.2},\"type\":\"scatter\"}],\"parcoords\":[{\"type\":\"parcoords\",\"line\":{\"colorbar\":{\"outlinewidth\":0,\"ticks\":\"\"}}}],\"scatterpolargl\":[{\"type\":\"scatterpolargl\",\"marker\":{\"colorbar\":{\"outlinewidth\":0,\"ticks\":\"\"}}}],\"bar\":[{\"error_x\":{\"color\":\"#2a3f5f\"},\"error_y\":{\"color\":\"#2a3f5f\"},\"marker\":{\"line\":{\"color\":\"#E5ECF6\",\"width\":0.5},\"pattern\":{\"fillmode\":\"overlay\",\"size\":10,\"solidity\":0.2}},\"type\":\"bar\"}],\"scattergeo\":[{\"type\":\"scattergeo\",\"marker\":{\"colorbar\":{\"outlinewidth\":0,\"ticks\":\"\"}}}],\"scatterpolar\":[{\"type\":\"scatterpolar\",\"marker\":{\"colorbar\":{\"outlinewidth\":0,\"ticks\":\"\"}}}],\"histogram\":[{\"marker\":{\"pattern\":{\"fillmode\":\"overlay\",\"size\":10,\"solidity\":0.2}},\"type\":\"histogram\"}],\"scattergl\":[{\"type\":\"scattergl\",\"marker\":{\"colorbar\":{\"outlinewidth\":0,\"ticks\":\"\"}}}],\"scatter3d\":[{\"type\":\"scatter3d\",\"line\":{\"colorbar\":{\"outlinewidth\":0,\"ticks\":\"\"}},\"marker\":{\"colorbar\":{\"outlinewidth\":0,\"ticks\":\"\"}}}],\"scattermapbox\":[{\"type\":\"scattermapbox\",\"marker\":{\"colorbar\":{\"outlinewidth\":0,\"ticks\":\"\"}}}],\"scatterternary\":[{\"type\":\"scatterternary\",\"marker\":{\"colorbar\":{\"outlinewidth\":0,\"ticks\":\"\"}}}],\"scattercarpet\":[{\"type\":\"scattercarpet\",\"marker\":{\"colorbar\":{\"outlinewidth\":0,\"ticks\":\"\"}}}],\"carpet\":[{\"aaxis\":{\"endlinecolor\":\"#2a3f5f\",\"gridcolor\":\"white\",\"linecolor\":\"white\",\"minorgridcolor\":\"white\",\"startlinecolor\":\"#2a3f5f\"},\"baxis\":{\"endlinecolor\":\"#2a3f5f\",\"gridcolor\":\"white\",\"linecolor\":\"white\",\"minorgridcolor\":\"white\",\"startlinecolor\":\"#2a3f5f\"},\"type\":\"carpet\"}],\"table\":[{\"cells\":{\"fill\":{\"color\":\"#EBF0F8\"},\"line\":{\"color\":\"white\"}},\"header\":{\"fill\":{\"color\":\"#C8D4E3\"},\"line\":{\"color\":\"white\"}},\"type\":\"table\"}],\"barpolar\":[{\"marker\":{\"line\":{\"color\":\"#E5ECF6\",\"width\":0.5},\"pattern\":{\"fillmode\":\"overlay\",\"size\":10,\"solidity\":0.2}},\"type\":\"barpolar\"}],\"pie\":[{\"automargin\":true,\"type\":\"pie\"}]},\"layout\":{\"autotypenumbers\":\"strict\",\"colorway\":[\"#636efa\",\"#EF553B\",\"#00cc96\",\"#ab63fa\",\"#FFA15A\",\"#19d3f3\",\"#FF6692\",\"#B6E880\",\"#FF97FF\",\"#FECB52\"],\"font\":{\"color\":\"#2a3f5f\"},\"hovermode\":\"closest\",\"hoverlabel\":{\"align\":\"left\"},\"paper_bgcolor\":\"white\",\"plot_bgcolor\":\"#E5ECF6\",\"polar\":{\"bgcolor\":\"#E5ECF6\",\"angularaxis\":{\"gridcolor\":\"white\",\"linecolor\":\"white\",\"ticks\":\"\"},\"radialaxis\":{\"gridcolor\":\"white\",\"linecolor\":\"white\",\"ticks\":\"\"}},\"ternary\":{\"bgcolor\":\"#E5ECF6\",\"aaxis\":{\"gridcolor\":\"white\",\"linecolor\":\"white\",\"ticks\":\"\"},\"baxis\":{\"gridcolor\":\"white\",\"linecolor\":\"white\",\"ticks\":\"\"},\"caxis\":{\"gridcolor\":\"white\",\"linecolor\":\"white\",\"ticks\":\"\"}},\"coloraxis\":{\"colorbar\":{\"outlinewidth\":0,\"ticks\":\"\"}},\"colorscale\":{\"sequential\":[[0.0,\"#0d0887\"],[0.1111111111111111,\"#46039f\"],[0.2222222222222222,\"#7201a8\"],[0.3333333333333333,\"#9c179e\"],[0.4444444444444444,\"#bd3786\"],[0.5555555555555556,\"#d8576b\"],[0.6666666666666666,\"#ed7953\"],[0.7777777777777778,\"#fb9f3a\"],[0.8888888888888888,\"#fdca26\"],[1.0,\"#f0f921\"]],\"sequentialminus\":[[0.0,\"#0d0887\"],[0.1111111111111111,\"#46039f\"],[0.2222222222222222,\"#7201a8\"],[0.3333333333333333,\"#9c179e\"],[0.4444444444444444,\"#bd3786\"],[0.5555555555555556,\"#d8576b\"],[0.6666666666666666,\"#ed7953\"],[0.7777777777777778,\"#fb9f3a\"],[0.8888888888888888,\"#fdca26\"],[1.0,\"#f0f921\"]],\"diverging\":[[0,\"#8e0152\"],[0.1,\"#c51b7d\"],[0.2,\"#de77ae\"],[0.3,\"#f1b6da\"],[0.4,\"#fde0ef\"],[0.5,\"#f7f7f7\"],[0.6,\"#e6f5d0\"],[0.7,\"#b8e186\"],[0.8,\"#7fbc41\"],[0.9,\"#4d9221\"],[1,\"#276419\"]]},\"xaxis\":{\"gridcolor\":\"white\",\"linecolor\":\"white\",\"ticks\":\"\",\"title\":{\"standoff\":15},\"zerolinecolor\":\"white\",\"automargin\":true,\"zerolinewidth\":2},\"yaxis\":{\"gridcolor\":\"white\",\"linecolor\":\"white\",\"ticks\":\"\",\"title\":{\"standoff\":15},\"zerolinecolor\":\"white\",\"automargin\":true,\"zerolinewidth\":2},\"scene\":{\"xaxis\":{\"backgroundcolor\":\"#E5ECF6\",\"gridcolor\":\"white\",\"linecolor\":\"white\",\"showbackground\":true,\"ticks\":\"\",\"zerolinecolor\":\"white\",\"gridwidth\":2},\"yaxis\":{\"backgroundcolor\":\"#E5ECF6\",\"gridcolor\":\"white\",\"linecolor\":\"white\",\"showbackground\":true,\"ticks\":\"\",\"zerolinecolor\":\"white\",\"gridwidth\":2},\"zaxis\":{\"backgroundcolor\":\"#E5ECF6\",\"gridcolor\":\"white\",\"linecolor\":\"white\",\"showbackground\":true,\"ticks\":\"\",\"zerolinecolor\":\"white\",\"gridwidth\":2}},\"shapedefaults\":{\"line\":{\"color\":\"#2a3f5f\"}},\"annotationdefaults\":{\"arrowcolor\":\"#2a3f5f\",\"arrowhead\":0,\"arrowwidth\":1},\"geo\":{\"bgcolor\":\"white\",\"landcolor\":\"#E5ECF6\",\"subunitcolor\":\"white\",\"showland\":true,\"showlakes\":true,\"lakecolor\":\"white\"},\"title\":{\"x\":0.05},\"mapbox\":{\"style\":\"light\"}}},\"xaxis\":{\"anchor\":\"y\",\"domain\":[0.0,1.0],\"title\":{\"text\":\"Sample Size\"},\"range\":[0,5000],\"showgrid\":true,\"gridcolor\":\"#CCCCCC\",\"gridwidth\":1,\"zeroline\":true,\"zerolinecolor\":\"#CCCCCC\",\"zerolinewidth\":1},\"yaxis\":{\"anchor\":\"x\",\"domain\":[0.0,1.0],\"title\":{\"text\":\"Mean Accuracy\"},\"showgrid\":true,\"gridcolor\":\"#CCCCCC\",\"gridwidth\":1,\"zeroline\":true,\"zerolinecolor\":\"#CCCCCC\",\"zerolinewidth\":1},\"legend\":{\"title\":{\"text\":\"Language\"},\"tracegroupgap\":0},\"title\":{\"text\":\"Conjunction - Ablation Study\"},\"font\":{\"color\":\"#555555\",\"family\":\"Verdana\"},\"plot_bgcolor\":\"#FFFFFF\",\"paper_bgcolor\":\"#FFFFFF\",\"width\":400,\"height\":500},                        {\"responsive\": true}                    ).then(function(){\n",
       "                            \n",
       "var gd = document.getElementById('95b3b16e-977f-477b-b26f-9be6ce660179');\n",
       "var x = new MutationObserver(function (mutations, observer) {{\n",
       "        var display = window.getComputedStyle(gd).display;\n",
       "        if (!display || display === 'none') {{\n",
       "            console.log([gd, 'removed!']);\n",
       "            Plotly.purge(gd);\n",
       "            observer.disconnect();\n",
       "        }}\n",
       "}});\n",
       "\n",
       "// Listen for the removal of the full notebook cells\n",
       "var notebookContainer = gd.closest('#notebook-container');\n",
       "if (notebookContainer) {{\n",
       "    x.observe(notebookContainer, {childList: true});\n",
       "}}\n",
       "\n",
       "// Listen for the clearing of the current output cell\n",
       "var outputEl = gd.closest('.output');\n",
       "if (outputEl) {{\n",
       "    x.observe(outputEl, {childList: true});\n",
       "}}\n",
       "\n",
       "                        })                };                            </script>        </div>\n",
       "</body>\n",
       "</html>"
      ]
     },
     "metadata": {},
     "output_type": "display_data"
    }
   ],
   "source": [
    "grouped = df.groupby(['tag', 'Sample Size', 'Language'])['accuracy'].agg(['mean', 'std']).reset_index()\n",
    "eval_tag = 'CONJ'\n",
    "grouped = grouped[grouped['tag'] == eval_tag]\n",
    "grouped = grouped.reset_index()\n",
    "#grouped = grouped[grouped['Language'].isin(['OIce', 'OE', 'OHG'])]\n",
    "#grouped = grouped.reset_index()\n",
    "grouped['standard_error'] = grouped['std'] / 10\n",
    "color_map = {'OIce': 'red', 'OS': 'green', 'OE': 'blue', 'OHG': 'purple'}\n",
    "\n",
    "fig = px.line(grouped, x='Sample Size', y='mean', color='Language',\n",
    "              error_y='standard_error', range_x = [0, 5000],\n",
    "              title=str('Conjunction - Ablation Study'), color_discrete_map=color_map)\n",
    "\n",
    "fig.update_layout(\n",
    "    xaxis_title='Sample Size',\n",
    "    yaxis_title='Mean Accuracy',\n",
    "    font = dict(color = '#555555', family=\"Verdana\"),\n",
    "    plot_bgcolor='#FFFFFF',\n",
    "    paper_bgcolor='#FFFFFF',\n",
    "    xaxis=dict(\n",
    "        showgrid=True,\n",
    "        gridcolor='#CCCCCC',\n",
    "        gridwidth=1,\n",
    "        zeroline=True,\n",
    "        zerolinecolor='#CCCCCC',\n",
    "        zerolinewidth=1\n",
    "    ),\n",
    "    yaxis=dict(\n",
    "        showgrid=True,\n",
    "        gridcolor='#CCCCCC',\n",
    "        gridwidth=1,\n",
    "        zeroline=True,\n",
    "        zerolinecolor='#CCCCCC',\n",
    "        zerolinewidth=1\n",
    "    ),\n",
    "    width=400,\n",
    "    height=500,\n",
    ")\n",
    "\n",
    "\n",
    "fig.write_image(\"conj_ablation.png\")\n",
    "fig.show()"
   ]
  },
  {
   "cell_type": "code",
   "execution_count": 10,
   "metadata": {
    "colab": {
     "base_uri": "https://localhost:8080/",
     "height": 517
    },
    "executionInfo": {
     "elapsed": 475,
     "status": "ok",
     "timestamp": 1760394294262,
     "user": {
      "displayName": "Carter Smith",
      "userId": "16068926545987539689"
     },
     "user_tz": 300
    },
    "id": "Harv4Xs_ofeZ",
    "outputId": "f53da709-01f0-4800-c91c-320b2c7d407a"
   },
   "outputs": [
    {
     "data": {
      "text/html": [
       "<html>\n",
       "<head><meta charset=\"utf-8\" /></head>\n",
       "<body>\n",
       "    <div>            <script src=\"https://cdnjs.cloudflare.com/ajax/libs/mathjax/2.7.5/MathJax.js?config=TeX-AMS-MML_SVG\"></script><script type=\"text/javascript\">if (window.MathJax && window.MathJax.Hub && window.MathJax.Hub.Config) {window.MathJax.Hub.Config({SVG: {font: \"STIX-Web\"}});}</script>                <script type=\"text/javascript\">window.PlotlyConfig = {MathJaxConfig: 'local'};</script>\n",
       "        <script charset=\"utf-8\" src=\"https://cdn.plot.ly/plotly-2.35.2.min.js\"></script>                <div id=\"c1ab134d-6f5c-4bbd-95f8-6f9fa7ef1612\" class=\"plotly-graph-div\" style=\"height:500px; width:800px;\"></div>            <script type=\"text/javascript\">                                    window.PLOTLYENV=window.PLOTLYENV || {};                                    if (document.getElementById(\"c1ab134d-6f5c-4bbd-95f8-6f9fa7ef1612\")) {                    Plotly.newPlot(                        \"c1ab134d-6f5c-4bbd-95f8-6f9fa7ef1612\",                        [{\"error_y\":{\"array\":[1.3294439896397616,0.8660465430384624,0.7451483090948755,0.8192526776481761,0.6904894130164057,0.7370662169542023,0.6711102282920298,0.46924352644889195,0.539670681363693,0.5355275762997476,0.45874498600667374,0.46691644954438283,0.38851063621512005,0.37196602044143023,0.32662648178945874,0.12970296680969,0.08458824313163756,0.09060557936400171,0.07546441748661112]},\"hovertemplate\":\"Language=OE\\u003cbr\\u003eSample Size=%{x}\\u003cbr\\u003emean=%{y}\\u003cextra\\u003e\\u003c\\u002fextra\\u003e\",\"legendgroup\":\"OE\",\"line\":{\"color\":\"blue\",\"dash\":\"solid\"},\"marker\":{\"symbol\":\"circle\"},\"mode\":\"lines\",\"name\":\"OE\",\"orientation\":\"v\",\"showlegend\":true,\"x\":[250,500,750,1000,1500,2000,2500,3000,3500,4000,4500,5000,7500,10000,25000,50000,75000,100000,112660],\"xaxis\":\"x\",\"y\":[76.24834848056041,79.93766068103945,80.2474083090462,82.61873042686334,83.3919289744525,84.87786354323023,85.11667837990659,86.51604003073933,85.71229155484532,87.49252458499352,87.45397680725287,87.47974256524805,89.20505339070485,88.98859230739922,93.03465534923345,96.36382993048665,97.07191315289647,97.36006428475898,97.40531535382155],\"yaxis\":\"y\",\"type\":\"scatter\"},{\"error_y\":{\"array\":[1.103508006582503,0.7032822278630169,0.6833614985894039,0.7193467358690715,0.4904770884908161,0.48306161271567405,0.43678961321070836,0.3992480061252549,0.3836633973852911,0.3141718670066752,0.3220358625891345,0.37877602171095665,0.2568265785921764,0.2608266683228778,0.15653670618243568,0.1504514210472339]},\"hovertemplate\":\"Language=OIce\\u003cbr\\u003eSample Size=%{x}\\u003cbr\\u003emean=%{y}\\u003cextra\\u003e\\u003c\\u002fextra\\u003e\",\"legendgroup\":\"OIce\",\"line\":{\"color\":\"red\",\"dash\":\"solid\"},\"marker\":{\"symbol\":\"circle\"},\"mode\":\"lines\",\"name\":\"OIce\",\"orientation\":\"v\",\"showlegend\":true,\"x\":[250,500,750,1000,1500,2000,2500,3000,3500,4000,4500,5000,7500,10000,20000,21847],\"xaxis\":\"x\",\"y\":[81.50025340294457,86.04162920456847,86.82333936556957,88.74980970061237,89.20428903693815,89.87527692612255,91.00751524273626,91.6181724536758,91.4853823490397,93.00166702174226,93.16497841740411,93.3074849939255,94.4308129433772,94.6754041533853,97.18420673206849,97.36115043594158],\"yaxis\":\"y\",\"type\":\"scatter\"},{\"error_y\":{\"array\":[1.5596950389308046,1.1011699790925888,0.9588501089362351,0.9793792721034205,1.0244280724773849,0.6198617542647283,0.740003658913766,0.807073056889888,0.6101639494857221]},\"hovertemplate\":\"Language=OS\\u003cbr\\u003eSample Size=%{x}\\u003cbr\\u003emean=%{y}\\u003cextra\\u003e\\u003c\\u002fextra\\u003e\",\"legendgroup\":\"OS\",\"line\":{\"color\":\"green\",\"dash\":\"solid\"},\"marker\":{\"symbol\":\"circle\"},\"mode\":\"lines\",\"name\":\"OS\",\"orientation\":\"v\",\"showlegend\":true,\"x\":[250,500,750,1000,1500,2000,2500,3000,3549],\"xaxis\":\"x\",\"y\":[55.87985765639743,61.84453150159136,65.3558536833408,66.15791241245677,68.46458777038809,68.69145702403901,68.49396221191499,70.04239317966871,71.32152490732679],\"yaxis\":\"y\",\"type\":\"scatter\"}],                        {\"template\":{\"data\":{\"histogram2dcontour\":[{\"type\":\"histogram2dcontour\",\"colorbar\":{\"outlinewidth\":0,\"ticks\":\"\"},\"colorscale\":[[0.0,\"#0d0887\"],[0.1111111111111111,\"#46039f\"],[0.2222222222222222,\"#7201a8\"],[0.3333333333333333,\"#9c179e\"],[0.4444444444444444,\"#bd3786\"],[0.5555555555555556,\"#d8576b\"],[0.6666666666666666,\"#ed7953\"],[0.7777777777777778,\"#fb9f3a\"],[0.8888888888888888,\"#fdca26\"],[1.0,\"#f0f921\"]]}],\"choropleth\":[{\"type\":\"choropleth\",\"colorbar\":{\"outlinewidth\":0,\"ticks\":\"\"}}],\"histogram2d\":[{\"type\":\"histogram2d\",\"colorbar\":{\"outlinewidth\":0,\"ticks\":\"\"},\"colorscale\":[[0.0,\"#0d0887\"],[0.1111111111111111,\"#46039f\"],[0.2222222222222222,\"#7201a8\"],[0.3333333333333333,\"#9c179e\"],[0.4444444444444444,\"#bd3786\"],[0.5555555555555556,\"#d8576b\"],[0.6666666666666666,\"#ed7953\"],[0.7777777777777778,\"#fb9f3a\"],[0.8888888888888888,\"#fdca26\"],[1.0,\"#f0f921\"]]}],\"heatmap\":[{\"type\":\"heatmap\",\"colorbar\":{\"outlinewidth\":0,\"ticks\":\"\"},\"colorscale\":[[0.0,\"#0d0887\"],[0.1111111111111111,\"#46039f\"],[0.2222222222222222,\"#7201a8\"],[0.3333333333333333,\"#9c179e\"],[0.4444444444444444,\"#bd3786\"],[0.5555555555555556,\"#d8576b\"],[0.6666666666666666,\"#ed7953\"],[0.7777777777777778,\"#fb9f3a\"],[0.8888888888888888,\"#fdca26\"],[1.0,\"#f0f921\"]]}],\"heatmapgl\":[{\"type\":\"heatmapgl\",\"colorbar\":{\"outlinewidth\":0,\"ticks\":\"\"},\"colorscale\":[[0.0,\"#0d0887\"],[0.1111111111111111,\"#46039f\"],[0.2222222222222222,\"#7201a8\"],[0.3333333333333333,\"#9c179e\"],[0.4444444444444444,\"#bd3786\"],[0.5555555555555556,\"#d8576b\"],[0.6666666666666666,\"#ed7953\"],[0.7777777777777778,\"#fb9f3a\"],[0.8888888888888888,\"#fdca26\"],[1.0,\"#f0f921\"]]}],\"contourcarpet\":[{\"type\":\"contourcarpet\",\"colorbar\":{\"outlinewidth\":0,\"ticks\":\"\"}}],\"contour\":[{\"type\":\"contour\",\"colorbar\":{\"outlinewidth\":0,\"ticks\":\"\"},\"colorscale\":[[0.0,\"#0d0887\"],[0.1111111111111111,\"#46039f\"],[0.2222222222222222,\"#7201a8\"],[0.3333333333333333,\"#9c179e\"],[0.4444444444444444,\"#bd3786\"],[0.5555555555555556,\"#d8576b\"],[0.6666666666666666,\"#ed7953\"],[0.7777777777777778,\"#fb9f3a\"],[0.8888888888888888,\"#fdca26\"],[1.0,\"#f0f921\"]]}],\"surface\":[{\"type\":\"surface\",\"colorbar\":{\"outlinewidth\":0,\"ticks\":\"\"},\"colorscale\":[[0.0,\"#0d0887\"],[0.1111111111111111,\"#46039f\"],[0.2222222222222222,\"#7201a8\"],[0.3333333333333333,\"#9c179e\"],[0.4444444444444444,\"#bd3786\"],[0.5555555555555556,\"#d8576b\"],[0.6666666666666666,\"#ed7953\"],[0.7777777777777778,\"#fb9f3a\"],[0.8888888888888888,\"#fdca26\"],[1.0,\"#f0f921\"]]}],\"mesh3d\":[{\"type\":\"mesh3d\",\"colorbar\":{\"outlinewidth\":0,\"ticks\":\"\"}}],\"scatter\":[{\"fillpattern\":{\"fillmode\":\"overlay\",\"size\":10,\"solidity\":0.2},\"type\":\"scatter\"}],\"parcoords\":[{\"type\":\"parcoords\",\"line\":{\"colorbar\":{\"outlinewidth\":0,\"ticks\":\"\"}}}],\"scatterpolargl\":[{\"type\":\"scatterpolargl\",\"marker\":{\"colorbar\":{\"outlinewidth\":0,\"ticks\":\"\"}}}],\"bar\":[{\"error_x\":{\"color\":\"#2a3f5f\"},\"error_y\":{\"color\":\"#2a3f5f\"},\"marker\":{\"line\":{\"color\":\"#E5ECF6\",\"width\":0.5},\"pattern\":{\"fillmode\":\"overlay\",\"size\":10,\"solidity\":0.2}},\"type\":\"bar\"}],\"scattergeo\":[{\"type\":\"scattergeo\",\"marker\":{\"colorbar\":{\"outlinewidth\":0,\"ticks\":\"\"}}}],\"scatterpolar\":[{\"type\":\"scatterpolar\",\"marker\":{\"colorbar\":{\"outlinewidth\":0,\"ticks\":\"\"}}}],\"histogram\":[{\"marker\":{\"pattern\":{\"fillmode\":\"overlay\",\"size\":10,\"solidity\":0.2}},\"type\":\"histogram\"}],\"scattergl\":[{\"type\":\"scattergl\",\"marker\":{\"colorbar\":{\"outlinewidth\":0,\"ticks\":\"\"}}}],\"scatter3d\":[{\"type\":\"scatter3d\",\"line\":{\"colorbar\":{\"outlinewidth\":0,\"ticks\":\"\"}},\"marker\":{\"colorbar\":{\"outlinewidth\":0,\"ticks\":\"\"}}}],\"scattermapbox\":[{\"type\":\"scattermapbox\",\"marker\":{\"colorbar\":{\"outlinewidth\":0,\"ticks\":\"\"}}}],\"scatterternary\":[{\"type\":\"scatterternary\",\"marker\":{\"colorbar\":{\"outlinewidth\":0,\"ticks\":\"\"}}}],\"scattercarpet\":[{\"type\":\"scattercarpet\",\"marker\":{\"colorbar\":{\"outlinewidth\":0,\"ticks\":\"\"}}}],\"carpet\":[{\"aaxis\":{\"endlinecolor\":\"#2a3f5f\",\"gridcolor\":\"white\",\"linecolor\":\"white\",\"minorgridcolor\":\"white\",\"startlinecolor\":\"#2a3f5f\"},\"baxis\":{\"endlinecolor\":\"#2a3f5f\",\"gridcolor\":\"white\",\"linecolor\":\"white\",\"minorgridcolor\":\"white\",\"startlinecolor\":\"#2a3f5f\"},\"type\":\"carpet\"}],\"table\":[{\"cells\":{\"fill\":{\"color\":\"#EBF0F8\"},\"line\":{\"color\":\"white\"}},\"header\":{\"fill\":{\"color\":\"#C8D4E3\"},\"line\":{\"color\":\"white\"}},\"type\":\"table\"}],\"barpolar\":[{\"marker\":{\"line\":{\"color\":\"#E5ECF6\",\"width\":0.5},\"pattern\":{\"fillmode\":\"overlay\",\"size\":10,\"solidity\":0.2}},\"type\":\"barpolar\"}],\"pie\":[{\"automargin\":true,\"type\":\"pie\"}]},\"layout\":{\"autotypenumbers\":\"strict\",\"colorway\":[\"#636efa\",\"#EF553B\",\"#00cc96\",\"#ab63fa\",\"#FFA15A\",\"#19d3f3\",\"#FF6692\",\"#B6E880\",\"#FF97FF\",\"#FECB52\"],\"font\":{\"color\":\"#2a3f5f\"},\"hovermode\":\"closest\",\"hoverlabel\":{\"align\":\"left\"},\"paper_bgcolor\":\"white\",\"plot_bgcolor\":\"#E5ECF6\",\"polar\":{\"bgcolor\":\"#E5ECF6\",\"angularaxis\":{\"gridcolor\":\"white\",\"linecolor\":\"white\",\"ticks\":\"\"},\"radialaxis\":{\"gridcolor\":\"white\",\"linecolor\":\"white\",\"ticks\":\"\"}},\"ternary\":{\"bgcolor\":\"#E5ECF6\",\"aaxis\":{\"gridcolor\":\"white\",\"linecolor\":\"white\",\"ticks\":\"\"},\"baxis\":{\"gridcolor\":\"white\",\"linecolor\":\"white\",\"ticks\":\"\"},\"caxis\":{\"gridcolor\":\"white\",\"linecolor\":\"white\",\"ticks\":\"\"}},\"coloraxis\":{\"colorbar\":{\"outlinewidth\":0,\"ticks\":\"\"}},\"colorscale\":{\"sequential\":[[0.0,\"#0d0887\"],[0.1111111111111111,\"#46039f\"],[0.2222222222222222,\"#7201a8\"],[0.3333333333333333,\"#9c179e\"],[0.4444444444444444,\"#bd3786\"],[0.5555555555555556,\"#d8576b\"],[0.6666666666666666,\"#ed7953\"],[0.7777777777777778,\"#fb9f3a\"],[0.8888888888888888,\"#fdca26\"],[1.0,\"#f0f921\"]],\"sequentialminus\":[[0.0,\"#0d0887\"],[0.1111111111111111,\"#46039f\"],[0.2222222222222222,\"#7201a8\"],[0.3333333333333333,\"#9c179e\"],[0.4444444444444444,\"#bd3786\"],[0.5555555555555556,\"#d8576b\"],[0.6666666666666666,\"#ed7953\"],[0.7777777777777778,\"#fb9f3a\"],[0.8888888888888888,\"#fdca26\"],[1.0,\"#f0f921\"]],\"diverging\":[[0,\"#8e0152\"],[0.1,\"#c51b7d\"],[0.2,\"#de77ae\"],[0.3,\"#f1b6da\"],[0.4,\"#fde0ef\"],[0.5,\"#f7f7f7\"],[0.6,\"#e6f5d0\"],[0.7,\"#b8e186\"],[0.8,\"#7fbc41\"],[0.9,\"#4d9221\"],[1,\"#276419\"]]},\"xaxis\":{\"gridcolor\":\"white\",\"linecolor\":\"white\",\"ticks\":\"\",\"title\":{\"standoff\":15},\"zerolinecolor\":\"white\",\"automargin\":true,\"zerolinewidth\":2},\"yaxis\":{\"gridcolor\":\"white\",\"linecolor\":\"white\",\"ticks\":\"\",\"title\":{\"standoff\":15},\"zerolinecolor\":\"white\",\"automargin\":true,\"zerolinewidth\":2},\"scene\":{\"xaxis\":{\"backgroundcolor\":\"#E5ECF6\",\"gridcolor\":\"white\",\"linecolor\":\"white\",\"showbackground\":true,\"ticks\":\"\",\"zerolinecolor\":\"white\",\"gridwidth\":2},\"yaxis\":{\"backgroundcolor\":\"#E5ECF6\",\"gridcolor\":\"white\",\"linecolor\":\"white\",\"showbackground\":true,\"ticks\":\"\",\"zerolinecolor\":\"white\",\"gridwidth\":2},\"zaxis\":{\"backgroundcolor\":\"#E5ECF6\",\"gridcolor\":\"white\",\"linecolor\":\"white\",\"showbackground\":true,\"ticks\":\"\",\"zerolinecolor\":\"white\",\"gridwidth\":2}},\"shapedefaults\":{\"line\":{\"color\":\"#2a3f5f\"}},\"annotationdefaults\":{\"arrowcolor\":\"#2a3f5f\",\"arrowhead\":0,\"arrowwidth\":1},\"geo\":{\"bgcolor\":\"white\",\"landcolor\":\"#E5ECF6\",\"subunitcolor\":\"white\",\"showland\":true,\"showlakes\":true,\"lakecolor\":\"white\"},\"title\":{\"x\":0.05},\"mapbox\":{\"style\":\"light\"}}},\"xaxis\":{\"anchor\":\"y\",\"domain\":[0.0,1.0],\"title\":{\"text\":\"Sample Size\"},\"range\":[0,10000],\"showgrid\":true,\"gridcolor\":\"#CCCCCC\",\"gridwidth\":1,\"zeroline\":true,\"zerolinecolor\":\"#CCCCCC\",\"zerolinewidth\":1},\"yaxis\":{\"anchor\":\"x\",\"domain\":[0.0,1.0],\"title\":{\"text\":\"Mean Accuracy\"},\"showgrid\":true,\"gridcolor\":\"#CCCCCC\",\"gridwidth\":1,\"zeroline\":true,\"zerolinecolor\":\"#CCCCCC\",\"zerolinewidth\":1},\"legend\":{\"title\":{\"text\":\"Language\"},\"tracegroupgap\":0},\"title\":{\"text\":\"Complementizer - Ablation Study\"},\"font\":{\"color\":\"#555555\",\"family\":\"Verdana\"},\"plot_bgcolor\":\"#FFFFFF\",\"paper_bgcolor\":\"#FFFFFF\",\"width\":800,\"height\":500},                        {\"responsive\": true}                    ).then(function(){\n",
       "                            \n",
       "var gd = document.getElementById('c1ab134d-6f5c-4bbd-95f8-6f9fa7ef1612');\n",
       "var x = new MutationObserver(function (mutations, observer) {{\n",
       "        var display = window.getComputedStyle(gd).display;\n",
       "        if (!display || display === 'none') {{\n",
       "            console.log([gd, 'removed!']);\n",
       "            Plotly.purge(gd);\n",
       "            observer.disconnect();\n",
       "        }}\n",
       "}});\n",
       "\n",
       "// Listen for the removal of the full notebook cells\n",
       "var notebookContainer = gd.closest('#notebook-container');\n",
       "if (notebookContainer) {{\n",
       "    x.observe(notebookContainer, {childList: true});\n",
       "}}\n",
       "\n",
       "// Listen for the clearing of the current output cell\n",
       "var outputEl = gd.closest('.output');\n",
       "if (outputEl) {{\n",
       "    x.observe(outputEl, {childList: true});\n",
       "}}\n",
       "\n",
       "                        })                };                            </script>        </div>\n",
       "</body>\n",
       "</html>"
      ]
     },
     "metadata": {},
     "output_type": "display_data"
    }
   ],
   "source": [
    "grouped = df.groupby(['tag', 'Sample Size', 'Language'])['accuracy'].agg(['mean', 'std']).reset_index()\n",
    "eval_tag = 'C'\n",
    "grouped = grouped[grouped['tag'] == eval_tag]\n",
    "grouped = grouped.reset_index()\n",
    "grouped = grouped[grouped['Language'].isin(['OIce', 'OE', 'OS'])]\n",
    "grouped = grouped.reset_index()\n",
    "grouped['standard_error'] = grouped['std'] / 10\n",
    "color_map = {'OIce': 'red', 'OS': 'green', 'OE': 'blue', 'OHG': 'purple'}\n",
    "\n",
    "fig = px.line(grouped, x='Sample Size', y='mean', color='Language',\n",
    "              error_y='standard_error', range_x = [0, 10000],\n",
    "              title=str('Complementizer - Ablation Study'), color_discrete_map=color_map)\n",
    "\n",
    "fig.update_layout(\n",
    "    xaxis_title='Sample Size',\n",
    "    yaxis_title='Mean Accuracy',\n",
    "    font = dict(color = '#555555', family=\"Verdana\"),\n",
    "    plot_bgcolor='#FFFFFF',\n",
    "    paper_bgcolor='#FFFFFF',\n",
    "    xaxis=dict(\n",
    "        showgrid=True,\n",
    "        gridcolor='#CCCCCC',\n",
    "        gridwidth=1,\n",
    "        zeroline=True,\n",
    "        zerolinecolor='#CCCCCC',\n",
    "        zerolinewidth=1\n",
    "    ),\n",
    "    yaxis=dict(\n",
    "        showgrid=True,\n",
    "        gridcolor='#CCCCCC',\n",
    "        gridwidth=1,\n",
    "        zeroline=True,\n",
    "        zerolinecolor='#CCCCCC',\n",
    "        zerolinewidth=1\n",
    "    ),\n",
    "    width=800,\n",
    "    height=500,\n",
    ")\n",
    "\n",
    "fig.write_image(\"c_ablation.png\")\n",
    "fig.show()"
   ]
  }
 ],
 "metadata": {
  "colab": {
   "authorship_tag": "ABX9TyNHMTW1mr6AlRYtkA+2P7ks",
   "provenance": []
  },
  "kernelspec": {
   "display_name": "Python 3",
   "name": "python3"
  },
  "language_info": {
   "name": "python"
  }
 },
 "nbformat": 4,
 "nbformat_minor": 0
}
