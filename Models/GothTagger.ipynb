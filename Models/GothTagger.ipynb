{
  "cells": [
    {
      "cell_type": "code",
      "execution_count": null,
      "metadata": {
        "id": "VMGp9ag-BtMj"
      },
      "outputs": [],
      "source": [
        "import torch\n",
        "import torch.nn as nn\n",
        "import torch.optim as optim\n",
        "import spacy\n",
        "import numpy as np\n",
        "import time\n",
        "import random\n",
        "from collections import Counter\n",
        "from sklearn.model_selection import train_test_split\n",
        "from torch.utils.data import TensorDataset, DataLoader\n",
        "import matplotlib.pyplot as plt\n",
        "import math\n",
        "import pandas as pd"
      ]
    },
    {
      "cell_type": "code",
      "execution_count": null,
      "metadata": {
        "colab": {
          "base_uri": "https://localhost:8080/"
        },
        "id": "4jNr589HBv7n",
        "outputId": "2dbb818c-8952-4c3c-a0b1-7cac564e1cbe"
      },
      "outputs": [
        {
          "name": "stdout",
          "output_type": "stream",
          "text": [
            "Script is running with GPU\n"
          ]
        }
      ],
      "source": [
        "if torch.cuda.is_available():\n",
        "    device = torch.device(\"cuda\")\n",
        "    print('Script is running with GPU')\n",
        "else:\n",
        "  device = torch.device(\"cpu\")\n",
        "  print('Script is running WITHOUT GPU')"
      ]
    },
    {
      "cell_type": "code",
      "execution_count": null,
      "metadata": {
        "id": "vSGKKyomByIn"
      },
      "outputs": [],
      "source": [
        "sents = list(np.load('GOTH_sents.npy', allow_pickle=True))\n",
        "tags = list(np.load('GOTH_tags_minimal.npy', allow_pickle=True))\n",
        "problems = []"
      ]
    },
    {
      "cell_type": "code",
      "execution_count": null,
      "metadata": {
        "id": "Qhb9N3rAB6YM"
      },
      "outputs": [],
      "source": [
        "for idx, sent in enumerate(sents):\n",
        "  sent.insert(0, 'start')\n",
        "  sent.append('stop')\n",
        "  sents[idx] = sent\n",
        "for idx, sent in enumerate(tags):\n",
        "  sent.insert(0, 'start')\n",
        "  sent.append('stop')\n",
        "  tags[idx] = sent\n",
        "for idx, sent in enumerate(tags):\n",
        "  if 'XX' in sent:\n",
        "    problems.append(idx)"
      ]
    },
    {
      "cell_type": "code",
      "execution_count": null,
      "metadata": {
        "id": "M-UuX3k4CRRU"
      },
      "outputs": [],
      "source": [
        "rawwords = []\n",
        "for sent in sents:\n",
        "  for word in sent:\n",
        "    rawwords.append(word)\n",
        "\n",
        "rawtags = []\n",
        "for sequence in tags:\n",
        "  for tag in sequence:\n",
        "    rawtags.append(tag)"
      ]
    },
    {
      "cell_type": "code",
      "execution_count": null,
      "metadata": {
        "id": "XldbNrfKCT7U"
      },
      "outputs": [],
      "source": [
        "allwords = list(set(rawwords))\n",
        "alltags = list(set(rawtags))"
      ]
    },
    {
      "cell_type": "code",
      "execution_count": null,
      "metadata": {
        "id": "FSFw479mlY4S"
      },
      "outputs": [],
      "source": [
        "adj_cont = []\n",
        "N_ADJ = 0\n",
        "ADJ_N = 0\n",
        "PRO_ADJ = 0\n",
        "ADJ_PRO = 0\n",
        "\n",
        "for index, sequence in enumerate(tags):\n",
        "  for idx, tag in enumerate(sequence):\n",
        "    if tag == 'ADJ':\n",
        "      adj_cont.append(str(tags[index][idx-1]+' '+tags[index][idx]+' '+tags[index][idx+1]))\n",
        "      if tags[index][idx-1] == 'N':\n",
        "        N_ADJ += 1\n",
        "      if tags[index][idx+1] == 'N':\n",
        "        ADJ_N += 1\n",
        "      if tags[index][idx-1] == 'PRO':\n",
        "        PRO_ADJ += 1\n",
        "      if tags[index][idx+1] == 'PRO':\n",
        "        ADJ_PRO += 1\n",
        "\n",
        "adj_cont_freqs = Counter(adj_cont)\n"
      ]
    },
    {
      "cell_type": "code",
      "execution_count": null,
      "metadata": {
        "colab": {
          "base_uri": "https://localhost:8080/"
        },
        "id": "Hw4hynYAly-x",
        "outputId": "be885b3f-295c-4834-e375-93f79a943878"
      },
      "outputs": [
        {
          "name": "stdout",
          "output_type": "stream",
          "text": [
            "[('PRO ADJ VB', 272), ('P ADJ N', 236), ('PRO ADJ N', 222), ('N ADJ VB', 204), ('VB ADJ N', 137), ('CONJ ADJ VB', 109), ('N ADJ N', 107), ('VB ADJ VB', 91), ('N ADJ stop', 90), ('VB ADJ PRO', 82)]\n"
          ]
        }
      ],
      "source": [
        "print(adj_cont_freqs.most_common(10))"
      ]
    },
    {
      "cell_type": "code",
      "execution_count": null,
      "metadata": {
        "colab": {
          "base_uri": "https://localhost:8080/"
        },
        "id": "IZJtCpAJmG_z",
        "outputId": "c46532f0-8d18-49bd-8f9b-416f92c06bfe"
      },
      "outputs": [
        {
          "name": "stdout",
          "output_type": "stream",
          "text": [
            "717\n",
            "997\n"
          ]
        }
      ],
      "source": [
        "print(N_ADJ)\n",
        "print(ADJ_N)"
      ]
    },
    {
      "cell_type": "code",
      "execution_count": null,
      "metadata": {
        "id": "0lHYaW1mCXNC"
      },
      "outputs": [],
      "source": [
        "word_tokenizer = {word: idx+1 for idx, word in enumerate(allwords)}\n",
        "word_decoder = {idx+1: word for idx, word in enumerate(allwords)}\n",
        "tag_tokenizer = {tag: idx+1 for idx, tag in enumerate(alltags)}\n",
        "tag_decoder = {idx+1: tag for idx, tag in enumerate(alltags)}\n",
        "\n",
        "def tokenize(sentences, tokenizer):\n",
        "  indexed_sentences = []\n",
        "  for sentence in sentences:\n",
        "    indexed_sentence = [tokenizer[word] for word in sentence]\n",
        "    indexed_sentences.append(indexed_sentence)\n",
        "  return indexed_sentences\n",
        "\n",
        "encsents = tokenize(sents, word_tokenizer)\n",
        "enctags = tokenize(tags, tag_tokenizer)\n",
        "\n",
        "padsents, padtags = [], []\n",
        "\n",
        "maxlen = max(len(sublist) for sublist in encsents)\n",
        "for sublist in encsents:\n",
        "  while len(sublist) < maxlen:\n",
        "    sublist = sublist + [0]\n",
        "    if len(sublist) == maxlen:\n",
        "      break\n",
        "    sublist = [0] + sublist\n",
        "  padsents.append(sublist)\n",
        "allenctags = []\n",
        "maxlen = max(len(sublist) for sublist in enctags)\n",
        "for sublist in enctags:\n",
        "  for i in sublist:\n",
        "    allenctags.append(i)\n",
        "  while len(sublist) < maxlen:\n",
        "    sublist = sublist + [0]\n",
        "    if len(sublist) == maxlen:\n",
        "      break\n",
        "    sublist = [0] + sublist\n",
        "  padtags.append(sublist)"
      ]
    },
    {
      "cell_type": "code",
      "execution_count": null,
      "metadata": {
        "colab": {
          "base_uri": "https://localhost:8080/"
        },
        "id": "e_WIZVHEraDT",
        "outputId": "7a0003c6-a2fa-4906-a98f-dad499aa73f5"
      },
      "outputs": [
        {
          "name": "stdout",
          "output_type": "stream",
          "text": [
            "{'N': 1, 'PART': 2, 'stop': 3, 'P': 4, 'DU': 5, 'NIH': 6, 'CONJ': 7, 'XX': 8, 'PRO': 9, 'NI': 10, 'ADJ': 11, 'VB': 12, 'ADV': 13, 'INTJ': 14, 'start': 15, 'NUM': 16, 'JAH': 17}\n"
          ]
        }
      ],
      "source": [
        "print(tag_tokenizer)"
      ]
    },
    {
      "cell_type": "code",
      "execution_count": null,
      "metadata": {
        "id": "PvBs2ctFrgXW"
      },
      "outputs": [],
      "source": [
        "tag_mask = []\n",
        "for seq in padtags:\n",
        "  mask = [1]*len(seq)\n",
        "  for idx, tag in enumerate(seq):\n",
        "    if tag == tag_tokenizer['DU']:\n",
        "      mask[idx] = 0\n",
        "    if tag == tag_tokenizer['XX']:\n",
        "      mask[idx] = 0\n",
        "    if tag == tag_tokenizer['NIH']:\n",
        "      mask[idx] = 0\n",
        "    if tag == tag_tokenizer['NI']:\n",
        "      mask[idx] = 0\n",
        "    if tag == tag_tokenizer['JAH']:\n",
        "      mask[idx] = 0\n",
        "    if tag == tag_tokenizer['start']:\n",
        "      mask[idx] = 0\n",
        "    if tag == tag_tokenizer['stop']:\n",
        "      mask[idx] = 0\n",
        "  tag_mask.append(mask)"
      ]
    },
    {
      "cell_type": "code",
      "execution_count": null,
      "metadata": {
        "id": "6E5HSg9HD6bq"
      },
      "outputs": [],
      "source": [
        "for i in range(len(tag_mask)):\n",
        "  if len(tag_mask[i]) != len(padsents[i]):\n",
        "    print(i)"
      ]
    },
    {
      "cell_type": "code",
      "execution_count": null,
      "metadata": {
        "id": "t0-1Vq-tDUAn"
      },
      "outputs": [],
      "source": [
        "pad_tags_mask = []\n",
        "for i in range(len(padtags)):\n",
        "  pad_tags_mask.append([padtags[i], tag_mask[i]])"
      ]
    },
    {
      "cell_type": "code",
      "execution_count": null,
      "metadata": {
        "id": "icJ63bniCpuy"
      },
      "outputs": [],
      "source": [
        "X_test, X_train, y_test, y_train = train_test_split(padsents, pad_tags_mask, test_size=0.8)\n",
        "X_train_tensor = torch.tensor(X_train, dtype=torch.long).to(device)\n",
        "y_train_tensor = torch.tensor(y_train, dtype=torch.long).to(device)\n",
        "X_test_tensor = torch.tensor(X_test, dtype=torch.long).to(device)\n",
        "y_test_tensor = torch.tensor(y_test, dtype=torch.long).to(device)\n",
        "train_dataset = TensorDataset(X_train_tensor, y_train_tensor)\n",
        "test_dataset = TensorDataset(X_test_tensor, y_test_tensor)\n",
        "batch_size = 64\n",
        "train_loader = DataLoader(train_dataset, batch_size=batch_size)\n",
        "test_loader = DataLoader(test_dataset, batch_size=batch_size)"
      ]
    },
    {
      "cell_type": "code",
      "execution_count": null,
      "metadata": {
        "id": "eM-yLrO1Ct4g"
      },
      "outputs": [],
      "source": [
        "torch.save(train_loader, 'GOTHTrain.pth')\n",
        "torch.save(test_loader, 'GOTHTest.pth')"
      ]
    },
    {
      "cell_type": "code",
      "execution_count": null,
      "metadata": {
        "id": "BAOUciJCC5e2"
      },
      "outputs": [],
      "source": [
        "#train_loader = torch.load('GOTHTrain.pth', map_location=device)\n",
        "#test_loader = torch.load('GOTHTest.pth', map_location=device)"
      ]
    },
    {
      "cell_type": "code",
      "execution_count": null,
      "metadata": {
        "colab": {
          "base_uri": "https://localhost:8080/"
        },
        "id": "mhBXG2t4C-TU",
        "outputId": "fe83bc71-ba3a-4ed4-f5b9-be4d36354eac"
      },
      "outputs": [
        {
          "name": "stdout",
          "output_type": "stream",
          "text": [
            "torch.Size([3472, 73])\n",
            "torch.Size([3472, 2, 73])\n",
            "torch.Size([867, 73])\n",
            "torch.Size([867, 2, 73])\n"
          ]
        }
      ],
      "source": [
        "print(X_train_tensor.size())\n",
        "print(y_train_tensor.size())\n",
        "print(X_test_tensor.size())\n",
        "print(y_test_tensor.size())"
      ]
    },
    {
      "cell_type": "code",
      "execution_count": null,
      "metadata": {
        "id": "z13fasAyDDou"
      },
      "outputs": [],
      "source": [
        "def calculate_class_weights(y):\n",
        "    unique_classes, class_counts = np.unique(y, return_counts=True)\n",
        "    print(unique_classes)\n",
        "    print(class_counts)\n",
        "    total_samples = len(y)\n",
        "    class_weights = []\n",
        "    class_weights.append(1)\n",
        "\n",
        "    for class_label, class_count in zip(unique_classes, class_counts):\n",
        "        class_weight = math.log(total_samples / (class_count))\n",
        "        class_weights.append(class_weight)\n",
        "\n",
        "    class_weights = torch.tensor(class_weights, dtype=torch.float32).to(device)\n",
        "\n",
        "    return class_weights"
      ]
    },
    {
      "cell_type": "code",
      "execution_count": null,
      "metadata": {
        "colab": {
          "base_uri": "https://localhost:8080/"
        },
        "id": "X03BMluYDFaC",
        "outputId": "fb094ef2-0d36-4973-d7ee-7a935d76f31c"
      },
      "outputs": [
        {
          "name": "stdout",
          "output_type": "stream",
          "text": [
            "[ 1  2  3  4  5  6  7  8  9 10 11 12 13 14 15 16 17]\n",
            "[14676   119  4339  4830  1059   138  4934  1657 12216  1503  3942 15063\n",
            "  2599    15  4339   233  4422]\n",
            "Class weights: tensor([1.0000, 1.6456, 6.4605, 2.8642, 2.7570, 4.2745, 6.3123, 2.7357, 3.8268,\n",
            "        1.8291, 3.9244, 2.9601, 1.6196, 3.3767, 8.5315, 2.8642, 5.7886, 2.8452],\n",
            "       device='cuda:0')\n",
            "18\n",
            "18\n"
          ]
        }
      ],
      "source": [
        "class_weights = calculate_class_weights(allenctags)\n",
        "print(\"Class weights:\", class_weights)\n",
        "print(len(class_weights))\n",
        "print(len(alltags)+1)"
      ]
    },
    {
      "cell_type": "code",
      "execution_count": null,
      "metadata": {
        "id": "RJSXbDoAjdZe"
      },
      "outputs": [],
      "source": [
        "class Model(nn.Module):\n",
        "  def __init__(self):\n",
        "    super().__init__()\n",
        "\n",
        "  def categorical_accuracy(self, preds, y, mask, tag_pad_idx = 0):\n",
        "    max_preds = preds.argmax(dim = 1, keepdim = False)\n",
        "    max_preds = max_preds*mask\n",
        "    y = y*mask\n",
        "    max_preds = torch.flatten(max_preds)\n",
        "    y = torch.flatten(y)\n",
        "    non_pad_elements = y.nonzero()\n",
        "    correct = max_preds[non_pad_elements].eq(y[non_pad_elements])\n",
        "    return correct.sum() / y[non_pad_elements].shape[0]\n",
        "\n",
        "  def early_stop(self, validation_loss, patience = 3, min_delta = 0):\n",
        "    if validation_loss < self.min_validation_loss:\n",
        "        self.min_validation_loss = validation_loss\n",
        "        self.patiencecount = 0\n",
        "    elif validation_loss > (self.min_validation_loss + min_delta):\n",
        "        self.patiencecount += 1\n",
        "        print(f\"Early stopping counter: {self.patiencecount} out of {patience}\")\n",
        "        if self.patiencecount >= patience:\n",
        "            return True\n",
        "    return False\n",
        "\n",
        "  def fit(self, train_dl, val_dl, epochs, pad_idx = 0):\n",
        "    optimizer = torch.optim.Adam(self.parameters(), lr = 0.001)\n",
        "\n",
        "    self.patiencecount = 0\n",
        "    self.min_validation_loss = float('inf')\n",
        "\n",
        "    self.trainlosses = []\n",
        "    self.vallosses = []\n",
        "\n",
        "    self.train_accs = []\n",
        "    self.val_accs = []\n",
        "\n",
        "    counter = 0\n",
        "    for epoch in range(epochs):\n",
        "      for batch in train_dl:\n",
        "        counter += 1\n",
        "        text = batch[0]\n",
        "\n",
        "        output = batch[1]\n",
        "        output = output.transpose(0,1)\n",
        "        tags = output[0]\n",
        "        mask = output[1]\n",
        "        optimizer.zero_grad()\n",
        "        predictions = self.forward(text)\n",
        "        predictions = predictions.transpose(1,2)\n",
        "        loss = self.loss_fn(predictions, tags)\n",
        "        loss = (loss * mask).sum() / mask.sum()\n",
        "        loss.backward()\n",
        "        optimizer.step()\n",
        "      train_loss, train_acc = self.evaluate(train_dl)\n",
        "      val_loss, val_acc = self.evaluate(val_dl)\n",
        "      self.trainlosses.append(train_loss)\n",
        "      self.vallosses.append(val_loss)\n",
        "      self.train_accs.append(train_acc)\n",
        "      self.val_accs.append(val_acc)\n",
        "      if self.early_stop(val_loss):\n",
        "        break\n",
        "      train_acc = train_acc*100\n",
        "      val_acc = val_acc*100\n",
        "      print(f\"Epoch [{epoch + 1}/{epochs}] - TrainLoss: {train_loss:.4f}, ValLoss: {val_loss:.4f}, TrainAcc: {train_acc:.2f},% ValAcc: {val_acc:.2f}%\")\n",
        "\n",
        "  def evaluate(self, val_dl, pad_idx = 0):\n",
        "    losses = []\n",
        "    accuracies = []\n",
        "    with torch.no_grad():\n",
        "      for batch in val_dl:\n",
        "          text = batch[0]\n",
        "          output = batch[1]\n",
        "          output = output.transpose(0,1)\n",
        "          tags = output[0]\n",
        "          mask = output[1]\n",
        "          predictions = self.forward(text)\n",
        "          predictions = predictions.transpose(1,2)\n",
        "          loss = self.loss_fn(predictions, tags)\n",
        "          loss = (loss * mask).sum() / mask.sum()\n",
        "          losses.append(loss)\n",
        "          acc = self.categorical_accuracy(predictions, tags, mask, pad_idx)\n",
        "          accuracies.append(acc)\n",
        "    return torch.Tensor(losses).mean(), torch.Tensor(accuracies).mean()"
      ]
    },
    {
      "cell_type": "code",
      "execution_count": null,
      "metadata": {
        "id": "xc51Oh8ajpEO"
      },
      "outputs": [],
      "source": [
        "class GOTHTagger(Model):\n",
        "    def __init__(self, vocab, embeds, hidden, tagset, n_layers, dropout, criterion, pad_idx = 0):\n",
        "        super().__init__()\n",
        "\n",
        "        self.embedding = nn.Embedding(vocab, embeds, padding_idx = pad_idx, scale_grad_by_freq = True)\n",
        "\n",
        "        self.lstm = nn.LSTM(embeds, hidden, num_layers = n_layers, bidirectional = True,\n",
        "                            dropout = dropout if n_layers > 1 else 0)\n",
        "\n",
        "        self.lin = nn.Linear(hidden * 2, tagset)\n",
        "\n",
        "        self.dropout = nn.Dropout(dropout)\n",
        "\n",
        "        self.loss_fn = criterion\n",
        "\n",
        "    def forward(self, sent):\n",
        "        x = self.embedding(sent)\n",
        "        x, (hidden, cell) = self.lstm(x)\n",
        "        x = self.lin(self.dropout(x))\n",
        "        return x"
      ]
    },
    {
      "cell_type": "code",
      "execution_count": null,
      "metadata": {
        "id": "HpDNtwPZjtRs"
      },
      "outputs": [],
      "source": [
        "vocab = len(allwords)+1\n",
        "n_emb = 300\n",
        "n_hidden = 60\n",
        "n_tags = len(alltags)+1\n",
        "n_layers = 3\n",
        "dropout = .2\n",
        "pad_idx = 0\n",
        "criterion = nn.CrossEntropyLoss(reduction = 'none', weight = class_weights, ignore_index = pad_idx).to(device)\n",
        "criterion = nn.CrossEntropyLoss(reduction = 'none', ignore_index = pad_idx).to(device)"
      ]
    },
    {
      "cell_type": "code",
      "execution_count": null,
      "metadata": {
        "id": "DmjssqHyjxLo"
      },
      "outputs": [],
      "source": [
        "network_GOTHTagger = GOTHTagger(vocab, n_emb, n_hidden, n_tags, n_layers, dropout, criterion, pad_idx).to(device)"
      ]
    },
    {
      "cell_type": "code",
      "execution_count": null,
      "metadata": {
        "colab": {
          "base_uri": "https://localhost:8080/"
        },
        "id": "R6pda2Dwjzwe",
        "outputId": "7977252a-ce5b-40d4-de8d-777bb7db52d9"
      },
      "outputs": [
        {
          "name": "stdout",
          "output_type": "stream",
          "text": [
            "Epoch [1/100] - TrainLoss: 0.3451, ValLoss: 0.3438, TrainAcc: 27.05,% ValAcc: 27.29%\n",
            "Epoch [2/100] - TrainLoss: 0.2019, ValLoss: 0.2059, TrainAcc: 63.07,% ValAcc: 61.07%\n",
            "Epoch [3/100] - TrainLoss: 0.1312, ValLoss: 0.1406, TrainAcc: 78.92,% ValAcc: 75.43%\n",
            "Epoch [4/100] - TrainLoss: 0.0801, ValLoss: 0.1010, TrainAcc: 87.87,% ValAcc: 82.77%\n",
            "Epoch [5/100] - TrainLoss: 0.0512, ValLoss: 0.0818, TrainAcc: 93.00,% ValAcc: 86.99%\n",
            "Epoch [6/100] - TrainLoss: 0.0355, ValLoss: 0.0773, TrainAcc: 95.11,% ValAcc: 87.72%\n",
            "Early stopping counter: 1 out of 3\n",
            "Epoch [7/100] - TrainLoss: 0.0267, ValLoss: 0.0778, TrainAcc: 96.25,% ValAcc: 88.13%\n",
            "Early stopping counter: 2 out of 3\n",
            "Epoch [8/100] - TrainLoss: 0.0208, ValLoss: 0.0774, TrainAcc: 97.03,% ValAcc: 88.41%\n",
            "Early stopping counter: 3 out of 3\n",
            "CPU times: user 8.25 s, sys: 534 ms, total: 8.78 s\n",
            "Wall time: 10.2 s\n"
          ]
        }
      ],
      "source": [
        "%time network_GOTHTagger.fit(train_loader, test_loader, 100)"
      ]
    },
    {
      "cell_type": "code",
      "execution_count": null,
      "metadata": {
        "colab": {
          "base_uri": "https://localhost:8080/",
          "height": 449
        },
        "id": "HOP1DYrij3lN",
        "outputId": "93cc90de-9641-40d3-c717-1371411c28c3"
      },
      "outputs": [
        {
          "data": {
            "image/png": "[encoded data removed]",
            "text/plain": [
              "<Figure size 640x480 with 1 Axes>"
            ]
          },
          "metadata": {},
          "output_type": "display_data"
        }
      ],
      "source": [
        "epochs = range(1, len(network_GOTHTagger.trainlosses) + 1)\n",
        "\n",
        "plt.plot(epochs, network_GOTHTagger.trainlosses, 'blue', label='Training loss')\n",
        "plt.plot(epochs, network_GOTHTagger.vallosses, 'red', label='Validation loss')\n",
        "plt.xlabel('Epochs')\n",
        "plt.ylabel('Loss')\n",
        "plt.legend()\n",
        "plt.show()"
      ]
    },
    {
      "cell_type": "code",
      "execution_count": null,
      "metadata": {
        "colab": {
          "base_uri": "https://localhost:8080/",
          "height": 451
        },
        "id": "R4IUgQ3VlQpv",
        "outputId": "20ec71fe-c4c8-4341-8a6a-8ec6d30b123b"
      },
      "outputs": [
        {
          "data": {
            "image/png": "[encoded data removed]",
            "text/plain": [
              "<Figure size 640x480 with 1 Axes>"
            ]
          },
          "metadata": {},
          "output_type": "display_data"
        }
      ],
      "source": [
        "epochs = range(1, len(network_GOTHTagger.train_accs) + 1)\n",
        "\n",
        "plt.plot(epochs, network_GOTHTagger.train_accs, 'blue', label='Training Acc')\n",
        "plt.plot(epochs, network_GOTHTagger.val_accs, 'red', label='Validation Acc')\n",
        "plt.xlabel('Epochs')\n",
        "plt.ylabel('Acc')\n",
        "plt.legend()\n",
        "plt.show()"
      ]
    },
    {
      "cell_type": "code",
      "execution_count": null,
      "metadata": {
        "id": "b4H-CjEomCc8"
      },
      "outputs": [],
      "source": [
        "def predict(model, data, pad_idx):\n",
        "    with torch.no_grad():\n",
        "      predicts_out = []\n",
        "      tags_out = []\n",
        "      text_out = []\n",
        "      for batch in data:\n",
        "        text = batch[0]\n",
        "        output = batch[1]\n",
        "        output = output.transpose(0,1)\n",
        "        tags = output[0]\n",
        "        mask = output[1]\n",
        "        predictions = model.forward(text)\n",
        "        predictions = predictions.transpose(1,2)\n",
        "        predictions = predictions.argmax(dim = 1)\n",
        "        for idx, sent in enumerate(text):\n",
        "          predicts_out.append(np.array(predictions[idx].cpu()))\n",
        "          tags_out.append(np.array(tags[idx].cpu()))\n",
        "          text_out.append(np.array(sent.cpu()))\n",
        "    for idx, ele in enumerate(predicts_out):\n",
        "      predicts_out[idx] = predicts_out[idx].tolist()\n",
        "    for idx, ele in enumerate(tags_out):\n",
        "      tags_out[idx] = tags_out[idx].tolist()\n",
        "    for idx, ele in enumerate(text_out):\n",
        "      text_out[idx] = text_out[idx].tolist()\n",
        "\n",
        "    return predicts_out, tags_out, text_out"
      ]
    },
    {
      "cell_type": "code",
      "execution_count": null,
      "metadata": {
        "id": "zZUWAaHgmDYy"
      },
      "outputs": [],
      "source": [
        "preds, tags, texts = predict(network_GOTHTagger, test_loader, pad_idx)"
      ]
    },
    {
      "cell_type": "code",
      "execution_count": null,
      "metadata": {
        "colab": {
          "base_uri": "https://localhost:8080/"
        },
        "id": "vS7LmDAwSlzI",
        "outputId": "c923b45d-ed00-4a94-bec3-59a186a9e63f"
      },
      "outputs": [
        {
          "name": "stdout",
          "output_type": "stream",
          "text": [
            "[12, 12, 12, 12, 12, 12, 12, 12, 12, 12, 12, 12, 12, 12, 12, 12, 12, 12, 12, 12, 12, 12, 12, 12, 12, 12, 1, 9, 12, 9, 1, 12, 1, 12, 4, 1, 1, 4, 12, 1, 12, 12, 9, 12, 9, 12, 1, 12, 12, 12, 12, 12, 12, 12, 12, 12, 12, 12, 1, 12, 12, 12, 12, 12, 12, 12, 12, 12, 12, 12, 12, 1, 12]\n",
            "[0, 0, 0, 0, 0, 0, 0, 0, 0, 0, 0, 0, 0, 0, 0, 0, 0, 0, 0, 0, 0, 0, 0, 0, 0, 15, 17, 9, 12, 9, 1, 12, 17, 12, 4, 1, 17, 4, 1, 17, 12, 12, 9, 12, 9, 12, 3, 0, 0, 0, 0, 0, 0, 0, 0, 0, 0, 0, 0, 0, 0, 0, 0, 0, 0, 0, 0, 0, 0, 0, 0, 0, 0]\n"
          ]
        }
      ],
      "source": [
        "print(preds[0])\n",
        "print(tags[0])"
      ]
    },
    {
      "cell_type": "code",
      "execution_count": null,
      "metadata": {
        "id": "Sqe4GfuLRwiq"
      },
      "outputs": [],
      "source": [
        "for i in range(len(preds)):\n",
        "  for j in range(len(preds[i])):\n",
        "    if tags[i][j] == 0:\n",
        "      preds[i][j] = 0\n",
        "  preds[i] = [ele for ele in preds[i] if ele != 0]\n",
        "  tags[i] = [ele for ele in tags[i] if ele != 0]\n",
        "  texts[i] = [ele for ele in texts[i] if ele != 0]"
      ]
    },
    {
      "cell_type": "code",
      "execution_count": null,
      "metadata": {
        "id": "dOMt0RhUShv9"
      },
      "outputs": [],
      "source": []
    },
    {
      "cell_type": "code",
      "execution_count": null,
      "metadata": {
        "id": "5JNt8Ue6R1yC"
      },
      "outputs": [],
      "source": [
        "decpreds, dectags, dectext, declangs = [], [], [], []\n",
        "decpreds.append(tokenize(preds, tag_decoder))\n",
        "dectags.append(tokenize(tags, tag_decoder))\n",
        "dectext.append(tokenize(texts, word_decoder))\n",
        "decpreds = decpreds[0]\n",
        "dectags = dectags[0]\n",
        "dectext = dectext[0]"
      ]
    },
    {
      "cell_type": "code",
      "execution_count": null,
      "metadata": {
        "colab": {
          "base_uri": "https://localhost:8080/"
        },
        "id": "6Q7O4sGNmMe_",
        "outputId": "b4762c30-6d23-49e8-8287-7ba72666bf42"
      },
      "outputs": [
        {
          "name": "stdout",
          "output_type": "stream",
          "text": [
            "['VB', 'N', 'PRO', 'VB', 'PRO', 'N', 'VB', 'N', 'VB', 'P', 'N', 'N', 'P', 'VB', 'N', 'VB', 'VB', 'PRO', 'VB', 'PRO', 'VB', 'N']\n",
            "['start', 'JAH', 'PRO', 'VB', 'PRO', 'N', 'VB', 'JAH', 'VB', 'P', 'N', 'JAH', 'P', 'N', 'JAH', 'VB', 'VB', 'PRO', 'VB', 'PRO', 'VB', 'stop']\n",
            "['start', 'jah', 'þai', 'haldandans', 'þo', 'sweina', 'gaþlauhun', 'jah', 'gataihun', 'in', 'baurg', 'jah', 'in', 'haimom', 'jah', 'qemun', 'saiƕan', 'ƕa', 'wesi', 'þata', 'waurþano', 'stop']\n"
          ]
        }
      ],
      "source": [
        "print(decpreds[0])\n",
        "print(dectags[0])\n",
        "print(dectext[0])"
      ]
    },
    {
      "cell_type": "code",
      "execution_count": null,
      "metadata": {
        "id": "E8jaBu5pmOS1"
      },
      "outputs": [],
      "source": [
        "in_set_vocab = []\n",
        "for batch in train_loader:\n",
        "  texts = batch[0]\n",
        "  for sent in texts:\n",
        "    sent = sent.tolist()\n",
        "    sent = [ele for ele in sent if ele != 0]\n",
        "    x = []\n",
        "    for i in sent:\n",
        "      x.append([i])\n",
        "    x = tokenize(x, word_decoder)\n",
        "    for word in x:\n",
        "      in_set_vocab.append(word)\n",
        "in_set_vocab = set([x for y in in_set_vocab for x in y])"
      ]
    },
    {
      "cell_type": "code",
      "execution_count": null,
      "metadata": {
        "colab": {
          "base_uri": "https://localhost:8080/"
        },
        "id": "EW7WRc_CmTf1",
        "outputId": "cca69161-3544-499d-badb-9c3fcf80dcd8"
      },
      "outputs": [
        {
          "name": "stdout",
          "output_type": "stream",
          "text": [
            "Total Accuracy:\n",
            "VB | 86.91% of 3048\n",
            "N | 88.68% of 2845\n",
            "PRO | 95.63% of 2380\n",
            "CONJ | 93.88% of 1030\n",
            "P | 96.87% of 959\n",
            "JAH | 0% of 895\n",
            "start | 0% of 867\n",
            "stop | 0% of 867\n",
            "ADJ | 74.67% of 821\n",
            "ADV | 85.69% of 510\n",
            "XX | 0% of 335\n",
            "NI | 0% of 318\n",
            "DU | 0% of 210\n",
            "NUM | 20.37% of 54\n",
            "NIH | 0% of 22\n",
            "PART | 0% of 13\n",
            "INTJ | 0% of 3\n"
          ]
        }
      ],
      "source": [
        "corrects, incorrects, totals = [], [], []\n",
        "uk_corrects, uk_incorrects, uk_totals = [], [], []\n",
        "for i in range(len(decpreds)):\n",
        "  for j in range(len(decpreds[i])):\n",
        "    totals.append(dectags[i][j])\n",
        "    if decpreds[i][j] == dectags[i][j]:\n",
        "      corrects.append(decpreds[i][j])\n",
        "    else:\n",
        "      incorrects.append(decpreds[i][j])\n",
        "    if dectext[i][j] not in in_set_vocab:\n",
        "      uk_totals.append(dectags[i][j])\n",
        "      if decpreds[i][j] == dectags[i][j]:\n",
        "        uk_corrects.append(decpreds[i][j])\n",
        "      else:\n",
        "        uk_incorrects.append(decpreds[i][j])\n",
        "\n",
        "c_freqs = Counter(corrects)\n",
        "ic_freqs = Counter(incorrects)\n",
        "t_freqs = Counter(totals)\n",
        "uk_c_freqs = Counter(uk_corrects)\n",
        "uk_ic_freqs = Counter(uk_incorrects)\n",
        "uk_t_freqs = Counter(uk_totals)\n",
        "\n",
        "print('Total Accuracy:')\n",
        "data = []\n",
        "labels = []\n",
        "any_c = [x[0] for x in c_freqs.most_common()]\n",
        "for i in t_freqs.most_common():\n",
        "  if i[0] not in any_c:\n",
        "    data.append(0)\n",
        "    labels.append(i[0])\n",
        "    print(f'{i[0]} | 0% of {i[1]}')\n",
        "  else:\n",
        "    for ele in c_freqs.most_common():\n",
        "      if ele[0] == i[0]:\n",
        "        num_c = ele[1]\n",
        "    class_acc = num_c/i[1]\n",
        "    data.append(class_acc*100)\n",
        "    labels.append(i[0])\n",
        "    print(f'{i[0]} | {class_acc*100:.2f}% of {i[1]}')"
      ]
    },
    {
      "cell_type": "markdown",
      "metadata": {
        "id": "5FXqdLb8f5pA"
      },
      "source": []
    },
    {
      "cell_type": "code",
      "execution_count": null,
      "metadata": {
        "id": "IFOEUvfxYBRy"
      },
      "outputs": [],
      "source": [
        "plot_list = ['N', 'VB', 'PRO', 'P', 'CONJ', 'ADJ', 'ADV', 'NUM', 'PART', 'INTJ']"
      ]
    },
    {
      "cell_type": "code",
      "execution_count": null,
      "metadata": {
        "colab": {
          "base_uri": "https://localhost:8080/"
        },
        "id": "GOOQ5r0Z9x-Z",
        "outputId": "e889df64-7b44-431f-ab7a-6984ee980899"
      },
      "outputs": [
        {
          "name": "stdout",
          "output_type": "stream",
          "text": [
            "['VB', 'N', 'PRO', 'CONJ', 'P', 'JAH', 'start', 'stop', 'ADJ', 'ADV', 'XX', 'NI', 'DU', 'NUM', 'NIH', 'PART', 'INTJ']\n"
          ]
        }
      ],
      "source": [
        "print(labels)"
      ]
    },
    {
      "cell_type": "code",
      "execution_count": null,
      "metadata": {
        "colab": {
          "base_uri": "https://localhost:8080/",
          "height": 607
        },
        "id": "ujL1i8OuqXXl",
        "outputId": "a7dee170-5309-4e8d-a8bf-21bc38831a22"
      },
      "outputs": [
        {
          "data": {
            "image/png": "[encoded data removed]",
            "text/plain": [
              "<Figure size 1000x600 with 1 Axes>"
            ]
          },
          "metadata": {},
          "output_type": "display_data"
        }
      ],
      "source": [
        "plot_data = []\n",
        "plot_labels = []\n",
        "for label, value in zip(labels, data):\n",
        "    if label in plot_list:\n",
        "        plot_data.append(value)\n",
        "        plot_labels.append(label)\n",
        "\n",
        "plt.figure(figsize=(10, 6))\n",
        "plt.bar(plot_labels, plot_data)\n",
        "plt.xlabel(\"POS Tags\")\n",
        "plt.ylabel(\"Accuracy (%)\")\n",
        "plt.title(\"Accuracy per POS Tag\")\n",
        "plt.xticks(rotation=45, ha='right')\n",
        "for i, v in enumerate(plot_data):\n",
        "    plt.text(i, v + 1, f\"{v:.2f}%\", ha='center', va='bottom')\n",
        "\n",
        "plt.tight_layout()\n",
        "plt.show()"
      ]
    },
    {
      "cell_type": "code",
      "execution_count": null,
      "metadata": {
        "colab": {
          "base_uri": "https://localhost:8080/"
        },
        "id": "n51qqXUp-o7g",
        "outputId": "d9000aaf-80e0-4418-d27b-937fdb45c01b"
      },
      "outputs": [
        {
          "name": "stdout",
          "output_type": "stream",
          "text": [
            "\\begin{tabular}{lr}\n",
            "\\toprule\n",
            "Labels & Data \\\\\n",
            "\\midrule\n",
            "VB & 86.909449 \\\\\n",
            "N & 88.681898 \\\\\n",
            "PRO & 95.630252 \\\\\n",
            "CONJ & 93.883495 \\\\\n",
            "P & 96.871741 \\\\\n",
            "JAH & 0.000000 \\\\\n",
            "start & 0.000000 \\\\\n",
            "stop & 0.000000 \\\\\n",
            "ADJ & 74.665043 \\\\\n",
            "ADV & 85.686275 \\\\\n",
            "XX & 0.000000 \\\\\n",
            "NI & 0.000000 \\\\\n",
            "DU & 0.000000 \\\\\n",
            "NUM & 20.370370 \\\\\n",
            "NIH & 0.000000 \\\\\n",
            "PART & 0.000000 \\\\\n",
            "INTJ & 0.000000 \\\\\n",
            "\\bottomrule\n",
            "\\end{tabular}\n",
            "\n"
          ]
        }
      ],
      "source": [
        "df = pd.DataFrame({'Labels': labels, 'Data': data})\n",
        "print(df.to_latex(index=False))"
      ]
    }
  ],
  "metadata": {
    "accelerator": "GPU",
    "colab": {
      "gpuType": "T4",
      "machine_shape": "hm",
      "provenance": []
    },
    "kernelspec": {
      "display_name": "Python 3",
      "name": "python3"
    },
    "language_info": {
      "name": "python"
    }
  },
  "nbformat": 4,
  "nbformat_minor": 0
}
