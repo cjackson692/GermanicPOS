{
  "cells": [
    {
      "cell_type": "code",
      "execution_count": null,
      "metadata": {
        "id": "VMGp9ag-BtMj"
      },
      "outputs": [],
      "source": [
        "import torch\n",
        "import torch.nn as nn\n",
        "import torch.optim as optim\n",
        "import spacy\n",
        "import numpy as np\n",
        "import time\n",
        "import random\n",
        "from collections import Counter\n",
        "from sklearn.model_selection import train_test_split\n",
        "from torch.utils.data import TensorDataset, DataLoader\n",
        "import tensorflow as tf\n",
        "import matplotlib.pyplot as plt\n",
        "import math\n",
        "import pandas as pd"
      ]
    },
    {
      "cell_type": "code",
      "execution_count": null,
      "metadata": {
        "colab": {
          "base_uri": "https://localhost:8080/"
        },
        "id": "4jNr589HBv7n",
        "outputId": "5effff1d-a764-4f42-f373-952fe4b2cdc8"
      },
      "outputs": [
        {
          "name": "stdout",
          "output_type": "stream",
          "text": [
            "Script is running with GPU\n"
          ]
        }
      ],
      "source": [
        "if torch.cuda.is_available():\n",
        "    device = torch.device(\"cuda\")\n",
        "    print('Script is running with GPU')\n",
        "else:\n",
        "  device = torch.device(\"cpu\")\n",
        "  print('Script is running WITHOUT GPU')"
      ]
    },
    {
      "cell_type": "code",
      "execution_count": null,
      "metadata": {
        "id": "vSGKKyomByIn"
      },
      "outputs": [],
      "source": [
        "sents = list(np.load('OS_sents.npy', allow_pickle=True))\n",
        "tags = list(np.load('OS_tags_minimal.npy', allow_pickle=True))\n",
        "problems = []"
      ]
    },
    {
      "cell_type": "code",
      "execution_count": null,
      "metadata": {
        "colab": {
          "base_uri": "https://localhost:8080/"
        },
        "id": "t8mJmZEfbT3n",
        "outputId": "a9680d37-2a01-4244-f935-1e7bb053cbed"
      },
      "outputs": [
        {
          "data": {
            "text/plain": [
              "['start',\n",
              " 'Manega',\n",
              " 'uuaron',\n",
              " 'the',\n",
              " 'sia',\n",
              " 'iro',\n",
              " 'mod',\n",
              " 'gespon',\n",
              " ',',\n",
              " 'that',\n",
              " 'sia',\n",
              " 'uuord',\n",
              " 'godes',\n",
              " 'uuisean',\n",
              " 'bigunnun',\n",
              " ',',\n",
              " 'reckean',\n",
              " 'that',\n",
              " 'giruni',\n",
              " ',',\n",
              " 'that',\n",
              " 'thie',\n",
              " 'riceo',\n",
              " 'Crist',\n",
              " 'undar',\n",
              " 'mancunnea',\n",
              " 'maritha',\n",
              " 'gifrumida',\n",
              " 'mid',\n",
              " 'uuordun',\n",
              " 'endi',\n",
              " 'mid',\n",
              " 'uuercun',\n",
              " '.',\n",
              " 'stop']"
            ]
          },
          "execution_count": 344,
          "metadata": {},
          "output_type": "execute_result"
        }
      ],
      "source": [
        "sents[0]"
      ]
    },
    {
      "cell_type": "code",
      "execution_count": null,
      "metadata": {
        "id": "Qhb9N3rAB6YM"
      },
      "outputs": [],
      "source": [
        "#for idx, sent in enumerate(sents):\n",
        "#  sent.insert(0, 'start')\n",
        "#  sent.append('stop')\n",
        "#  sents[idx] = sent\n",
        "#for idx, sent in enumerate(tags):\n",
        "#  sent.insert(0, 'start')\n",
        "#  sent.append('stop')\n",
        "#  tags[idx] = sent\n",
        "#for idx, sent in enumerate(tags):\n",
        "#  if 'XX' in sent:\n",
        "#    problems.append(idx)"
      ]
    },
    {
      "cell_type": "code",
      "execution_count": null,
      "metadata": {
        "id": "M-UuX3k4CRRU"
      },
      "outputs": [],
      "source": [
        "rawwords = []\n",
        "for sent in sents:\n",
        "  for word in sent:\n",
        "    rawwords.append(word)\n",
        "\n",
        "rawtags = []\n",
        "for sequence in tags:\n",
        "  for tag in sequence:\n",
        "    rawtags.append(tag)"
      ]
    },
    {
      "cell_type": "code",
      "execution_count": null,
      "metadata": {
        "id": "XldbNrfKCT7U"
      },
      "outputs": [],
      "source": [
        "allwords = list(set(rawwords))\n",
        "alltags = list(set(rawtags))"
      ]
    },
    {
      "cell_type": "code",
      "execution_count": null,
      "metadata": {
        "id": "0lHYaW1mCXNC"
      },
      "outputs": [],
      "source": [
        "word_tokenizer = {word: idx+1 for idx, word in enumerate(allwords)}\n",
        "word_decoder = {idx+1: word for idx, word in enumerate(allwords)}\n",
        "tag_tokenizer = {tag: idx+1 for idx, tag in enumerate(alltags)}\n",
        "tag_decoder = {idx+1: tag for idx, tag in enumerate(alltags)}\n",
        "\n",
        "def tokenize(sentences, tokenizer):\n",
        "  indexed_sentences = []\n",
        "  for sentence in sentences:\n",
        "    indexed_sentence = [tokenizer[word] for word in sentence]\n",
        "    indexed_sentences.append(indexed_sentence)\n",
        "  return indexed_sentences\n",
        "\n",
        "encsents = tokenize(sents, word_tokenizer)\n",
        "enctags = tokenize(tags, tag_tokenizer)\n",
        "\n",
        "padsents, padtags = [], []\n",
        "\n",
        "maxlen = max(len(sublist) for sublist in encsents)\n",
        "for sublist in encsents:\n",
        "  while len(sublist) < maxlen:\n",
        "    sublist = sublist + [0]\n",
        "    if len(sublist) == maxlen:\n",
        "      break\n",
        "    sublist = [0] + sublist\n",
        "  padsents.append(sublist)\n",
        "allenctags = []\n",
        "maxlen = max(len(sublist) for sublist in enctags)\n",
        "for sublist in enctags:\n",
        "  for i in sublist:\n",
        "    allenctags.append(i)\n",
        "  while len(sublist) < maxlen:\n",
        "    sublist = sublist + [0]\n",
        "    if len(sublist) == maxlen:\n",
        "      break\n",
        "    sublist = [0] + sublist\n",
        "  padtags.append(sublist)"
      ]
    },
    {
      "cell_type": "code",
      "execution_count": null,
      "metadata": {
        "id": "y-RUarDSoU7C"
      },
      "outputs": [],
      "source": []
    },
    {
      "cell_type": "code",
      "execution_count": null,
      "metadata": {
        "id": "8JbQFWsZnZHC"
      },
      "outputs": [],
      "source": [
        "tag_mask = []\n",
        "for seq in padtags:\n",
        "  mask = [1]*len(seq)\n",
        "  for idx, tag in enumerate(seq):\n",
        "    if tag == tag_tokenizer['XX']:\n",
        "      mask[idx] = 0\n",
        "    if tag == tag_tokenizer['PUNCT']:\n",
        "      mask[idx] = 0\n",
        "    if tag == tag_tokenizer['start']:\n",
        "      mask[idx] = 0\n",
        "    if tag == tag_tokenizer['stop']:\n",
        "      mask[idx] = 0\n",
        "  tag_mask.append(mask)"
      ]
    },
    {
      "cell_type": "code",
      "execution_count": null,
      "metadata": {
        "id": "4Y4f1bH1nbpt"
      },
      "outputs": [],
      "source": [
        "pad_tags_mask = []\n",
        "for i in range(len(padtags)):\n",
        "  pad_tags_mask.append([padtags[i], tag_mask[i]])"
      ]
    },
    {
      "cell_type": "code",
      "execution_count": null,
      "metadata": {
        "id": "icJ63bniCpuy"
      },
      "outputs": [],
      "source": [
        "X_test, X_train, y_test, y_train = train_test_split(padsents, pad_tags_mask, test_size=0.8)\n",
        "X_train_tensor = torch.tensor(X_train, dtype=torch.long).to(device)\n",
        "y_train_tensor = torch.tensor(y_train, dtype=torch.long).to(device)\n",
        "X_test_tensor = torch.tensor(X_test, dtype=torch.long).to(device)\n",
        "y_test_tensor = torch.tensor(y_test, dtype=torch.long).to(device)\n",
        "train_dataset = TensorDataset(X_train_tensor, y_train_tensor)\n",
        "test_dataset = TensorDataset(X_test_tensor, y_test_tensor)\n",
        "batch_size = 64\n",
        "train_loader = DataLoader(train_dataset, batch_size=batch_size)\n",
        "test_loader = DataLoader(test_dataset, batch_size=batch_size)"
      ]
    },
    {
      "cell_type": "code",
      "execution_count": null,
      "metadata": {
        "id": "eM-yLrO1Ct4g"
      },
      "outputs": [],
      "source": [
        "#torch.save(train_loader, 'OSTrain.pth')\n",
        "#torch.save(test_loader, 'OSTest.pth')"
      ]
    },
    {
      "cell_type": "code",
      "execution_count": null,
      "metadata": {
        "id": "BAOUciJCC5e2"
      },
      "outputs": [],
      "source": [
        "#train_loader = torch.load('OSTrain.pth', map_location=device)\n",
        "#test_loader = torch.load('OSTest.pth', map_location=device)"
      ]
    },
    {
      "cell_type": "code",
      "execution_count": null,
      "metadata": {
        "colab": {
          "base_uri": "https://localhost:8080/"
        },
        "id": "mhBXG2t4C-TU",
        "outputId": "804b3589-fd98-4eca-f544-c81d4bb6df4a"
      },
      "outputs": [
        {
          "name": "stdout",
          "output_type": "stream",
          "text": [
            "torch.Size([2840, 89])\n",
            "torch.Size([2840, 2, 89])\n",
            "torch.Size([709, 89])\n",
            "torch.Size([709, 2, 89])\n"
          ]
        }
      ],
      "source": [
        "print(X_train_tensor.size())\n",
        "print(y_train_tensor.size())\n",
        "print(X_test_tensor.size())\n",
        "print(y_test_tensor.size())"
      ]
    },
    {
      "cell_type": "code",
      "execution_count": null,
      "metadata": {
        "id": "z13fasAyDDou"
      },
      "outputs": [],
      "source": [
        "def calculate_class_weights(y):\n",
        "    unique_classes, class_counts = np.unique(y, return_counts=True)\n",
        "    print(unique_classes)\n",
        "    print(class_counts)\n",
        "    total_samples = len(y)\n",
        "    class_weights = []\n",
        "    class_weights.append(1)\n",
        "\n",
        "    for class_label, class_count in zip(unique_classes, class_counts):\n",
        "        class_weight = math.log(total_samples / (class_count))\n",
        "        class_weights.append(class_weight)\n",
        "\n",
        "    class_weights = torch.tensor(class_weights, dtype=torch.float32).to(device)\n",
        "\n",
        "    return class_weights"
      ]
    },
    {
      "cell_type": "code",
      "execution_count": null,
      "metadata": {
        "colab": {
          "base_uri": "https://localhost:8080/"
        },
        "id": "X03BMluYDFaC",
        "outputId": "8f167534-5ec5-40df-82d6-cc806cae7675"
      },
      "outputs": [
        {
          "name": "stdout",
          "output_type": "stream",
          "text": [
            "[ 1  2  3  4  5  6  7  8  9 10 11 12 13 14 15 16 17 18 19 20]\n",
            "[ 4655   805  7286  3509  3809   106  1551  3549    53  1112     7  8728\n",
            "   177  4447   608  3549 11823   225  3167  1398]\n",
            "Class weights: tensor([1.0000, 2.5658, 4.3206, 2.1177, 2.8484, 2.7663, 6.3480, 3.6648, 2.8370,\n",
            "        7.0412, 3.9975, 9.0655, 1.9372, 5.8353, 2.6115, 4.6013, 2.8370, 1.6337,\n",
            "        5.5954, 2.9509, 3.7687], device='cuda:0')\n",
            "21\n",
            "21\n"
          ]
        }
      ],
      "source": [
        "class_weights = calculate_class_weights(allenctags)\n",
        "print(\"Class weights:\", class_weights)\n",
        "print(len(class_weights))\n",
        "print(len(alltags)+1)"
      ]
    },
    {
      "cell_type": "code",
      "execution_count": null,
      "metadata": {
        "id": "RJSXbDoAjdZe"
      },
      "outputs": [],
      "source": [
        "class Model(nn.Module):\n",
        "  def __init__(self):\n",
        "    super().__init__()\n",
        "\n",
        "  def categorical_accuracy(self, preds, y, mask, tag_pad_idx = 0):\n",
        "    max_preds = preds.argmax(dim = 1, keepdim = False)\n",
        "    max_preds = max_preds*mask\n",
        "    y = y*mask\n",
        "    max_preds = torch.flatten(max_preds)\n",
        "    y = torch.flatten(y)\n",
        "    non_pad_elements = y.nonzero()\n",
        "    correct = max_preds[non_pad_elements].eq(y[non_pad_elements])\n",
        "    return correct.sum() / y[non_pad_elements].shape[0]\n",
        "\n",
        "  def early_stop(self, validation_loss, patience = 3, min_delta = 0):\n",
        "    if validation_loss < self.min_validation_loss:\n",
        "        self.min_validation_loss = validation_loss\n",
        "        self.patiencecount = 0\n",
        "    elif validation_loss > (self.min_validation_loss + min_delta):\n",
        "        self.patiencecount += 1\n",
        "        print(f\"Early stopping counter: {self.patiencecount} out of {patience}\")\n",
        "        if self.patiencecount >= patience:\n",
        "            return True\n",
        "    return False\n",
        "\n",
        "  def fit(self, train_dl, val_dl, epochs, pad_idx = 0):\n",
        "    optimizer = torch.optim.Adam(self.parameters(), lr = 0.001)\n",
        "\n",
        "    self.patiencecount = 0\n",
        "    self.min_validation_loss = float('inf')\n",
        "\n",
        "    self.trainlosses = []\n",
        "    self.vallosses = []\n",
        "\n",
        "    self.train_accs = []\n",
        "    self.val_accs = []\n",
        "\n",
        "    counter = 0\n",
        "    for epoch in range(epochs):\n",
        "      for batch in train_dl:\n",
        "        counter += 1\n",
        "        text = batch[0]\n",
        "\n",
        "        output = batch[1]\n",
        "        output = output.transpose(0,1)\n",
        "        tags = output[0]\n",
        "        mask = output[1]\n",
        "        optimizer.zero_grad()\n",
        "        predictions = self.forward(text)\n",
        "        predictions = predictions.transpose(1,2)\n",
        "        loss = self.loss_fn(predictions, tags)\n",
        "        loss = (loss * mask).sum() / mask.sum()\n",
        "        loss.backward()\n",
        "        optimizer.step()\n",
        "      train_loss, train_acc = self.evaluate(train_dl)\n",
        "      val_loss, val_acc = self.evaluate(val_dl)\n",
        "      self.trainlosses.append(train_loss)\n",
        "      self.vallosses.append(val_loss)\n",
        "      self.train_accs.append(train_acc)\n",
        "      self.val_accs.append(val_acc)\n",
        "      if self.early_stop(val_loss):\n",
        "        break\n",
        "      train_acc = train_acc*100\n",
        "      val_acc = val_acc*100\n",
        "      print(f\"Epoch [{epoch + 1}/{epochs}] - TrainLoss: {train_loss:.4f}, ValLoss: {val_loss:.4f}, TrainAcc: {train_acc:.2f},% ValAcc: {val_acc:.2f}%\")\n",
        "\n",
        "  def evaluate(self, val_dl, pad_idx = 0):\n",
        "    losses = []\n",
        "    accuracies = []\n",
        "    with torch.no_grad():\n",
        "      for batch in val_dl:\n",
        "          text = batch[0]\n",
        "          output = batch[1]\n",
        "          output = output.transpose(0,1)\n",
        "          tags = output[0]\n",
        "          mask = output[1]\n",
        "          predictions = self.forward(text)\n",
        "          predictions = predictions.transpose(1,2)\n",
        "          loss = self.loss_fn(predictions, tags)\n",
        "          loss = (loss * mask).sum() / mask.sum()\n",
        "          losses.append(loss)\n",
        "          acc = self.categorical_accuracy(predictions, tags, mask, pad_idx)\n",
        "          accuracies.append(acc)\n",
        "    return torch.Tensor(losses).mean(), torch.Tensor(accuracies).mean()"
      ]
    },
    {
      "cell_type": "code",
      "execution_count": null,
      "metadata": {
        "id": "xc51Oh8ajpEO"
      },
      "outputs": [],
      "source": [
        "class OSTagger(Model):\n",
        "    def __init__(self, vocab, embeds, hidden, tagset, n_layers, dropout, criterion, pad_idx = 0):\n",
        "        super().__init__()\n",
        "\n",
        "        self.embedding = nn.Embedding(vocab, embeds, padding_idx = pad_idx, scale_grad_by_freq = True)\n",
        "\n",
        "        self.lstm = nn.LSTM(embeds, hidden, num_layers = n_layers, bidirectional = True,\n",
        "                            dropout = dropout if n_layers > 1 else 0)\n",
        "\n",
        "        self.lin = nn.Linear(hidden * 2, tagset)\n",
        "\n",
        "        self.dropout = nn.Dropout(dropout)\n",
        "\n",
        "        self.loss_fn = criterion\n",
        "\n",
        "    def forward(self, sent):\n",
        "        x = self.embedding(sent)\n",
        "        x, (hidden, cell) = self.lstm(x)\n",
        "        x = self.lin(self.dropout(x))\n",
        "        return x"
      ]
    },
    {
      "cell_type": "code",
      "execution_count": null,
      "metadata": {
        "id": "HpDNtwPZjtRs"
      },
      "outputs": [],
      "source": [
        "vocab = len(allwords)+1\n",
        "n_emb = 5\n",
        "n_hidden = 120\n",
        "n_tags = len(alltags)+1\n",
        "n_layers = 3\n",
        "dropout = .2\n",
        "pad_idx = 0\n",
        "criterion = nn.CrossEntropyLoss(reduction = 'none', ignore_index = pad_idx).to(device)"
      ]
    },
    {
      "cell_type": "code",
      "execution_count": null,
      "metadata": {
        "id": "DmjssqHyjxLo"
      },
      "outputs": [],
      "source": [
        "network_OSTagger = OSTagger(vocab, n_emb, n_hidden, n_tags, n_layers, dropout, criterion, pad_idx).to(device)"
      ]
    },
    {
      "cell_type": "code",
      "execution_count": null,
      "metadata": {
        "colab": {
          "base_uri": "https://localhost:8080/"
        },
        "id": "R6pda2Dwjzwe",
        "outputId": "94ea7a6f-6f54-4398-f37c-76d3f0a7e960"
      },
      "outputs": [
        {
          "name": "stdout",
          "output_type": "stream",
          "text": [
            "Epoch [1/100] - TrainLoss: 0.3400, ValLoss: 0.3277, TrainAcc: 25.16,% ValAcc: 24.79%\n",
            "Epoch [2/100] - TrainLoss: 0.3373, ValLoss: 0.3251, TrainAcc: 25.63,% ValAcc: 25.53%\n",
            "Epoch [3/100] - TrainLoss: 0.3148, ValLoss: 0.3029, TrainAcc: 29.00,% ValAcc: 28.12%\n",
            "Epoch [4/100] - TrainLoss: 0.2937, ValLoss: 0.2824, TrainAcc: 33.10,% ValAcc: 32.10%\n",
            "Epoch [5/100] - TrainLoss: 0.2701, ValLoss: 0.2596, TrainAcc: 38.23,% ValAcc: 37.29%\n",
            "Epoch [6/100] - TrainLoss: 0.2441, ValLoss: 0.2356, TrainAcc: 46.14,% ValAcc: 45.03%\n",
            "Epoch [7/100] - TrainLoss: 0.2211, ValLoss: 0.2133, TrainAcc: 52.56,% ValAcc: 51.78%\n",
            "Epoch [8/100] - TrainLoss: 0.1979, ValLoss: 0.1915, TrainAcc: 57.84,% ValAcc: 57.14%\n",
            "Epoch [9/100] - TrainLoss: 0.1817, ValLoss: 0.1755, TrainAcc: 60.67,% ValAcc: 60.50%\n",
            "Epoch [10/100] - TrainLoss: 0.1666, ValLoss: 0.1617, TrainAcc: 63.77,% ValAcc: 63.21%\n",
            "Epoch [11/100] - TrainLoss: 0.1549, ValLoss: 0.1506, TrainAcc: 66.24,% ValAcc: 66.67%\n",
            "Epoch [12/100] - TrainLoss: 0.1437, ValLoss: 0.1421, TrainAcc: 69.37,% ValAcc: 68.65%\n",
            "Epoch [13/100] - TrainLoss: 0.1343, ValLoss: 0.1353, TrainAcc: 71.93,% ValAcc: 70.36%\n",
            "Epoch [14/100] - TrainLoss: 0.1267, ValLoss: 0.1305, TrainAcc: 73.75,% ValAcc: 72.06%\n",
            "Epoch [15/100] - TrainLoss: 0.1199, ValLoss: 0.1244, TrainAcc: 75.34,% ValAcc: 73.42%\n",
            "Epoch [16/100] - TrainLoss: 0.1128, ValLoss: 0.1194, TrainAcc: 76.91,% ValAcc: 74.62%\n",
            "Epoch [17/100] - TrainLoss: 0.1071, ValLoss: 0.1151, TrainAcc: 77.86,% ValAcc: 75.81%\n",
            "Epoch [18/100] - TrainLoss: 0.1003, ValLoss: 0.1100, TrainAcc: 79.27,% ValAcc: 76.85%\n",
            "Epoch [19/100] - TrainLoss: 0.0951, ValLoss: 0.1067, TrainAcc: 80.47,% ValAcc: 77.60%\n",
            "Epoch [20/100] - TrainLoss: 0.0899, ValLoss: 0.1040, TrainAcc: 81.54,% ValAcc: 77.97%\n",
            "Epoch [21/100] - TrainLoss: 0.0851, ValLoss: 0.1012, TrainAcc: 82.56,% ValAcc: 79.04%\n",
            "Epoch [22/100] - TrainLoss: 0.0807, ValLoss: 0.0978, TrainAcc: 83.20,% ValAcc: 79.37%\n",
            "Epoch [23/100] - TrainLoss: 0.0781, ValLoss: 0.0971, TrainAcc: 83.90,% ValAcc: 79.90%\n",
            "Epoch [24/100] - TrainLoss: 0.0746, ValLoss: 0.0941, TrainAcc: 84.62,% ValAcc: 80.20%\n",
            "Epoch [25/100] - TrainLoss: 0.0717, ValLoss: 0.0934, TrainAcc: 85.12,% ValAcc: 80.25%\n",
            "Epoch [26/100] - TrainLoss: 0.0685, ValLoss: 0.0926, TrainAcc: 85.86,% ValAcc: 80.64%\n",
            "Epoch [27/100] - TrainLoss: 0.0648, ValLoss: 0.0900, TrainAcc: 86.65,% ValAcc: 81.39%\n",
            "Early stopping counter: 1 out of 3\n",
            "Epoch [28/100] - TrainLoss: 0.0626, ValLoss: 0.0902, TrainAcc: 87.07,% ValAcc: 81.41%\n",
            "Epoch [29/100] - TrainLoss: 0.0600, ValLoss: 0.0885, TrainAcc: 87.49,% ValAcc: 81.93%\n",
            "Epoch [30/100] - TrainLoss: 0.0580, ValLoss: 0.0879, TrainAcc: 87.87,% ValAcc: 82.55%\n",
            "Epoch [31/100] - TrainLoss: 0.0552, ValLoss: 0.0862, TrainAcc: 88.50,% ValAcc: 83.04%\n",
            "Early stopping counter: 1 out of 3\n",
            "Epoch [32/100] - TrainLoss: 0.0535, ValLoss: 0.0875, TrainAcc: 88.95,% ValAcc: 82.55%\n",
            "Early stopping counter: 2 out of 3\n",
            "Epoch [33/100] - TrainLoss: 0.0513, ValLoss: 0.0881, TrainAcc: 89.20,% ValAcc: 82.69%\n",
            "Epoch [34/100] - TrainLoss: 0.0494, ValLoss: 0.0862, TrainAcc: 89.57,% ValAcc: 83.18%\n",
            "Early stopping counter: 1 out of 3\n",
            "Epoch [35/100] - TrainLoss: 0.0478, ValLoss: 0.0872, TrainAcc: 90.01,% ValAcc: 83.41%\n",
            "Early stopping counter: 2 out of 3\n",
            "Epoch [36/100] - TrainLoss: 0.0463, ValLoss: 0.0867, TrainAcc: 90.29,% ValAcc: 83.49%\n",
            "Early stopping counter: 3 out of 3\n",
            "CPU times: user 41.1 s, sys: 5.57 s, total: 46.6 s\n",
            "Wall time: 46.9 s\n"
          ]
        }
      ],
      "source": [
        "%time network_OSTagger.fit(train_loader, test_loader, 100)"
      ]
    },
    {
      "cell_type": "code",
      "execution_count": null,
      "metadata": {
        "colab": {
          "base_uri": "https://localhost:8080/",
          "height": 449
        },
        "id": "HOP1DYrij3lN",
        "outputId": "80c3a6e5-f303-4819-bae3-ff751d60c829"
      },
      "outputs": [
        {
          "data": {
            "image/png": "[encoded data removed]",
            "text/plain": [
              "<Figure size 640x480 with 1 Axes>"
            ]
          },
          "metadata": {},
          "output_type": "display_data"
        }
      ],
      "source": [
        "epochs = range(1, len(network_OSTagger.trainlosses) + 1)\n",
        "\n",
        "plt.plot(epochs, network_OSTagger.trainlosses, 'blue', label='Training loss')\n",
        "plt.plot(epochs, network_OSTagger.vallosses, 'red', label='Validation loss')\n",
        "plt.xlabel('Epochs')\n",
        "plt.ylabel('Loss')\n",
        "plt.legend()\n",
        "plt.show()"
      ]
    },
    {
      "cell_type": "code",
      "execution_count": null,
      "metadata": {
        "colab": {
          "base_uri": "https://localhost:8080/",
          "height": 449
        },
        "id": "R4IUgQ3VlQpv",
        "outputId": "4d292d68-1cb4-49f0-99cc-a3579ff0027d"
      },
      "outputs": [
        {
          "data": {
            "image/png": "[encoded data removed]",
            "text/plain": [
              "<Figure size 640x480 with 1 Axes>"
            ]
          },
          "metadata": {},
          "output_type": "display_data"
        }
      ],
      "source": [
        "epochs = range(1, len(network_OSTagger.train_accs) + 1)\n",
        "\n",
        "plt.plot(epochs, network_OSTagger.train_accs, 'blue', label='Training Acc')\n",
        "plt.plot(epochs, network_OSTagger.val_accs, 'red', label='Validation Acc')\n",
        "plt.xlabel('Epochs')\n",
        "plt.ylabel('Acc')\n",
        "plt.legend()\n",
        "plt.show()"
      ]
    },
    {
      "cell_type": "code",
      "execution_count": null,
      "metadata": {
        "id": "b4H-CjEomCc8"
      },
      "outputs": [],
      "source": [
        "def predict(model, data, pad_idx):\n",
        "    with torch.no_grad():\n",
        "      predicts_out = []\n",
        "      tags_out = []\n",
        "      text_out = []\n",
        "      for batch in data:\n",
        "        text = batch[0]\n",
        "        output = batch[1]\n",
        "        output = output.transpose(0,1)\n",
        "        tags = output[0]\n",
        "        mask = output[1]\n",
        "        predictions = model.forward(text)\n",
        "        predictions = predictions.transpose(1,2)\n",
        "        predictions = predictions.argmax(dim = 1)\n",
        "        for idx, sent in enumerate(text):\n",
        "          predicts_out.append(np.array(predictions[idx].cpu()))\n",
        "          tags_out.append(np.array(tags[idx].cpu()))\n",
        "          text_out.append(np.array(sent.cpu()))\n",
        "    for idx, ele in enumerate(predicts_out):\n",
        "      predicts_out[idx] = predicts_out[idx].tolist()\n",
        "    for idx, ele in enumerate(tags_out):\n",
        "      tags_out[idx] = tags_out[idx].tolist()\n",
        "    for idx, ele in enumerate(text_out):\n",
        "      text_out[idx] = text_out[idx].tolist()\n",
        "\n",
        "    return predicts_out, tags_out, text_out"
      ]
    },
    {
      "cell_type": "code",
      "execution_count": null,
      "metadata": {
        "id": "zZUWAaHgmDYy"
      },
      "outputs": [],
      "source": [
        "preds, tags, texts = predict(network_OSTagger, test_loader, pad_idx)"
      ]
    },
    {
      "cell_type": "code",
      "execution_count": null,
      "metadata": {
        "id": "re9onYp4n4DR"
      },
      "outputs": [],
      "source": []
    },
    {
      "cell_type": "code",
      "execution_count": null,
      "metadata": {
        "colab": {
          "base_uri": "https://localhost:8080/"
        },
        "id": "vS7LmDAwSlzI",
        "outputId": "732fdda8-0473-447b-8e44-75424d0f2a34"
      },
      "outputs": [
        {
          "name": "stdout",
          "output_type": "stream",
          "text": [
            "[17, 17, 17, 17, 17, 17, 17, 19, 17, 17, 19, 17, 17, 17, 17, 17, 19, 17, 17, 17, 17, 17, 17, 17, 17, 17, 19, 19, 17, 17, 17, 1, 17, 14, 14, 5, 17, 20, 2, 4, 17, 15, 19, 17, 4, 17, 17, 1, 1, 12, 12, 20, 17, 7, 17, 17, 17, 12, 17, 17, 17, 17, 19, 17, 17, 17, 17, 17, 19, 17, 17, 17, 17, 17, 17, 17, 17, 17, 19, 17, 17, 17, 17, 17, 19, 17, 17, 17, 17]\n",
            "[0, 0, 0, 0, 0, 0, 0, 0, 0, 0, 0, 0, 0, 0, 0, 0, 0, 0, 0, 0, 0, 0, 0, 0, 0, 0, 0, 0, 0, 0, 8, 1, 12, 14, 14, 5, 17, 20, 1, 4, 17, 15, 12, 12, 4, 17, 3, 1, 1, 12, 12, 1, 3, 7, 17, 12, 3, 16, 0, 0, 0, 0, 0, 0, 0, 0, 0, 0, 0, 0, 0, 0, 0, 0, 0, 0, 0, 0, 0, 0, 0, 0, 0, 0, 0, 0, 0, 0, 0]\n"
          ]
        }
      ],
      "source": [
        "print(preds[0])\n",
        "print(tags[0])"
      ]
    },
    {
      "cell_type": "code",
      "execution_count": null,
      "metadata": {
        "id": "Sqe4GfuLRwiq"
      },
      "outputs": [],
      "source": [
        "for i in range(len(preds)):\n",
        "  for j in range(len(preds[i])):\n",
        "    if tags[i][j] == 0:\n",
        "      preds[i][j] = 0\n",
        "  preds[i] = [ele for ele in preds[i] if ele != 0]\n",
        "  tags[i] = [ele for ele in tags[i] if ele != 0]\n",
        "  texts[i] = [ele for ele in texts[i] if ele != 0]"
      ]
    },
    {
      "cell_type": "code",
      "execution_count": null,
      "metadata": {
        "id": "5JNt8Ue6R1yC"
      },
      "outputs": [],
      "source": [
        "decpreds, dectags, dectext, declangs = [], [], [], []\n",
        "decpreds.append(tokenize(preds, tag_decoder))\n",
        "dectags.append(tokenize(tags, tag_decoder))\n",
        "dectext.append(tokenize(texts, word_decoder))\n",
        "decpreds = decpreds[0]\n",
        "dectags = dectags[0]\n",
        "dectext = dectext[0]"
      ]
    },
    {
      "cell_type": "code",
      "execution_count": null,
      "metadata": {
        "colab": {
          "base_uri": "https://localhost:8080/"
        },
        "id": "6Q7O4sGNmMe_",
        "outputId": "c04f9817-b81d-4a44-81b3-0db2b5aa9ad3"
      },
      "outputs": [
        {
          "name": "stdout",
          "output_type": "stream",
          "text": [
            "['N', 'ADV', 'N', 'PRO', 'PRO', 'P', 'N', 'C', 'Q', 'D', 'N', 'NEG', 'ADJ', 'N', 'D', 'N', 'N', 'ADV', 'ADV', 'VB', 'VB', 'C', 'N', 'PRO$', 'N', 'N', 'N', 'VB']\n",
            "['start', 'ADV', 'VB', 'PRO', 'PRO', 'P', 'N', 'C', 'ADV', 'D', 'N', 'NEG', 'VB', 'VB', 'D', 'N', 'PUNCT', 'ADV', 'ADV', 'VB', 'VB', 'ADV', 'PUNCT', 'PRO$', 'N', 'VB', 'PUNCT', 'stop']\n",
            "['start', 'Thann', 'seggio', 'ik', 'iu', 'te', 'uuaren', 'that', 'err', 'thit', 'uuerod', 'ni', 'mot', 'tefaran', 'thit', 'folcscipi', ',', 'er', 'than', 'uuirdit', 'gifullid', 'so', ',', 'mina', 'uuord', 'giuuarod', '.', 'stop']\n"
          ]
        }
      ],
      "source": [
        "print(decpreds[0])\n",
        "print(dectags[0])\n",
        "print(dectext[0])"
      ]
    },
    {
      "cell_type": "code",
      "execution_count": null,
      "metadata": {
        "id": "E8jaBu5pmOS1"
      },
      "outputs": [],
      "source": [
        "in_set_vocab = []\n",
        "for batch in train_loader:\n",
        "  texts = batch[0]\n",
        "  for sent in texts:\n",
        "    sent = sent.tolist()\n",
        "    sent = [ele for ele in sent if ele != 0]\n",
        "    x = []\n",
        "    for i in sent:\n",
        "      x.append([i])\n",
        "    x = tokenize(x, word_decoder)\n",
        "    for word in x:\n",
        "      in_set_vocab.append(word)\n",
        "in_set_vocab = set([x for y in in_set_vocab for x in y])"
      ]
    },
    {
      "cell_type": "code",
      "execution_count": null,
      "metadata": {
        "colab": {
          "base_uri": "https://localhost:8080/"
        },
        "id": "EW7WRc_CmTf1",
        "outputId": "58269806-ec84-4b06-dd0f-a38f4bdcd1ed"
      },
      "outputs": [
        {
          "name": "stdout",
          "output_type": "stream",
          "text": [
            "Total Accuracy:\n",
            "N | 86.28% of 2296\n",
            "VB | 75.27% of 1686\n",
            "PUNCT | 0% of 1422\n",
            "ADV | 85.28% of 924\n",
            "PRO | 94.89% of 881\n",
            "P | 95.15% of 742\n",
            "start | 0% of 709\n",
            "stop | 0% of 709\n",
            "D | 87.03% of 663\n",
            "ADJ | 57.69% of 624\n",
            "PRO$ | 86.63% of 329\n",
            "C | 71.16% of 267\n",
            "CONJ | 91.56% of 225\n",
            "Q | 81.08% of 148\n",
            "NEG | 92.25% of 142\n",
            "NUM | 21.95% of 41\n",
            "WH | 62.50% of 32\n",
            "XX | 0% of 15\n",
            "PART | 45.45% of 11\n",
            "INTJ | 0% of 3\n"
          ]
        }
      ],
      "source": [
        "corrects, incorrects, totals = [], [], []\n",
        "uk_corrects, uk_incorrects, uk_totals = [], [], []\n",
        "for i in range(len(decpreds)):\n",
        "  for j in range(len(decpreds[i])):\n",
        "    totals.append(dectags[i][j])\n",
        "    if decpreds[i][j] == dectags[i][j]:\n",
        "      corrects.append(decpreds[i][j])\n",
        "    else:\n",
        "      incorrects.append(decpreds[i][j])\n",
        "    if dectext[i][j] not in in_set_vocab:\n",
        "      uk_totals.append(dectags[i][j])\n",
        "      if decpreds[i][j] == dectags[i][j]:\n",
        "        uk_corrects.append(decpreds[i][j])\n",
        "      else:\n",
        "        uk_incorrects.append(decpreds[i][j])\n",
        "\n",
        "c_freqs = Counter(corrects)\n",
        "ic_freqs = Counter(incorrects)\n",
        "t_freqs = Counter(totals)\n",
        "uk_c_freqs = Counter(uk_corrects)\n",
        "uk_ic_freqs = Counter(uk_incorrects)\n",
        "uk_t_freqs = Counter(uk_totals)\n",
        "\n",
        "print('Total Accuracy:')\n",
        "data = []\n",
        "labels = []\n",
        "any_c = [x[0] for x in c_freqs.most_common()]\n",
        "for i in t_freqs.most_common():\n",
        "  if i[0] not in any_c:\n",
        "    data.append(0)\n",
        "    labels.append(i[0])\n",
        "    print(f'{i[0]} | 0% of {i[1]}')\n",
        "  else:\n",
        "    for ele in c_freqs.most_common():\n",
        "      if ele[0] == i[0]:\n",
        "        num_c = ele[1]\n",
        "    class_acc = num_c/i[1]\n",
        "    data.append(class_acc*100)\n",
        "    labels.append(i[0])\n",
        "    print(f'{i[0]} | {class_acc*100:.2f}% of {i[1]}')"
      ]
    },
    {
      "cell_type": "code",
      "execution_count": null,
      "metadata": {
        "id": "IFOEUvfxYBRy"
      },
      "outputs": [],
      "source": [
        "plot_list = ['N', 'VB', 'ADV', 'PRO', 'P', 'D', 'ADJ', 'C', 'PRO$', 'CONJ', 'Q', 'NEG', 'NUM', 'WH', 'PART', 'INTJ']"
      ]
    },
    {
      "cell_type": "code",
      "execution_count": null,
      "metadata": {
        "colab": {
          "base_uri": "https://localhost:8080/"
        },
        "id": "ZAR4QXJ1-Ebw",
        "outputId": "4b1995db-9738-4ccd-9732-ec8287500072"
      },
      "outputs": [
        {
          "name": "stdout",
          "output_type": "stream",
          "text": [
            "['N', 'VB', 'PUNCT', 'ADV', 'PRO', 'P', 'start', 'stop', 'D', 'ADJ', 'PRO$', 'C', 'CONJ', 'Q', 'NEG', 'NUM', 'WH', 'XX', 'PART', 'INTJ']\n"
          ]
        }
      ],
      "source": [
        "print(labels)"
      ]
    },
    {
      "cell_type": "code",
      "execution_count": null,
      "metadata": {
        "colab": {
          "base_uri": "https://localhost:8080/",
          "height": 607
        },
        "id": "ujL1i8OuqXXl",
        "outputId": "d6177c92-81a2-411d-8e55-f2188773904c"
      },
      "outputs": [
        {
          "data": {
            "image/png": "[encoded data removed]",
            "text/plain": [
              "<Figure size 1000x600 with 1 Axes>"
            ]
          },
          "metadata": {},
          "output_type": "display_data"
        }
      ],
      "source": [
        "plot_data = []\n",
        "plot_labels = []\n",
        "for label, value in zip(labels, data):\n",
        "    if label in plot_list:\n",
        "        plot_data.append(value)\n",
        "        plot_labels.append(label)\n",
        "\n",
        "plt.figure(figsize=(10, 6))\n",
        "plt.bar(plot_labels, plot_data)\n",
        "plt.xlabel(\"POS Tags\")\n",
        "plt.ylabel(\"Accuracy (%)\")\n",
        "plt.title(\"Accuracy per POS Tag\")\n",
        "plt.xticks(rotation=45, ha='right')\n",
        "for i, v in enumerate(plot_data):\n",
        "    plt.text(i, v + 1, f\"{v:.2f}%\", ha='center', va='bottom')\n",
        "\n",
        "plt.tight_layout()\n",
        "plt.show()\n"
      ]
    },
    {
      "cell_type": "code",
      "execution_count": null,
      "metadata": {
        "colab": {
          "base_uri": "https://localhost:8080/",
          "height": 70
        },
        "id": "wmDD7SSreKTo",
        "outputId": "f02ffcd0-fda7-4d45-968a-9d147c015bb7"
      },
      "outputs": [
        {
          "data": {
            "application/vnd.google.colaboratory.intrinsic+json": {
              "type": "string"
            },
            "text/plain": [
              "'\\\\begin{tabular}{lr}\\n\\\\toprule\\nPOS Tag & Accuracy (%) \\\\\\\\\\n\\\\midrule\\nN & 86.280488 \\\\\\\\\\nVB & 75.266904 \\\\\\\\\\nPUNCT & 0.000000 \\\\\\\\\\nADV & 85.281385 \\\\\\\\\\nPRO & 94.892168 \\\\\\\\\\nP & 95.148248 \\\\\\\\\\nstart & 0.000000 \\\\\\\\\\nstop & 0.000000 \\\\\\\\\\nD & 87.028658 \\\\\\\\\\nADJ & 57.692308 \\\\\\\\\\nPRO$ & 86.626140 \\\\\\\\\\nC & 71.161049 \\\\\\\\\\nCONJ & 91.555556 \\\\\\\\\\nQ & 81.081081 \\\\\\\\\\nNEG & 92.253521 \\\\\\\\\\nNUM & 21.951220 \\\\\\\\\\nWH & 62.500000 \\\\\\\\\\nXX & 0.000000 \\\\\\\\\\nPART & 45.454545 \\\\\\\\\\nINTJ & 0.000000 \\\\\\\\\\n\\\\bottomrule\\n\\\\end{tabular}\\n'"
            ]
          },
          "execution_count": 375,
          "metadata": {},
          "output_type": "execute_result"
        }
      ],
      "source": [
        "df = pd.DataFrame({'POS Tag': labels, 'Accuracy (%)': data})\n",
        "latex_table = df.to_latex(index=False)\n",
        "latex_table"
      ]
    }
  ],
  "metadata": {
    "accelerator": "GPU",
    "colab": {
      "gpuType": "T4",
      "provenance": []
    },
    "kernelspec": {
      "display_name": "Python 3",
      "name": "python3"
    },
    "language_info": {
      "name": "python"
    }
  },
  "nbformat": 4,
  "nbformat_minor": 0
}
