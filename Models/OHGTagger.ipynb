{
  "cells": [
    {
      "cell_type": "code",
      "execution_count": null,
      "metadata": {
        "id": "VMGp9ag-BtMj"
      },
      "outputs": [],
      "source": [
        "import torch\n",
        "import torch.nn as nn\n",
        "import torch.optim as optim\n",
        "import spacy\n",
        "import numpy as np\n",
        "import time\n",
        "import random\n",
        "from collections import Counter\n",
        "from sklearn.model_selection import train_test_split\n",
        "from torch.utils.data import TensorDataset, DataLoader\n",
        "import tensorflow as tf\n",
        "import matplotlib.pyplot as plt\n",
        "import math\n",
        "import pandas as pd"
      ]
    },
    {
      "cell_type": "code",
      "execution_count": null,
      "metadata": {
        "colab": {
          "base_uri": "https://localhost:8080/"
        },
        "id": "4jNr589HBv7n",
        "outputId": "6f04ce9a-20e6-4101-9e6e-9c61ec8373b8"
      },
      "outputs": [
        {
          "name": "stdout",
          "output_type": "stream",
          "text": [
            "Script is running with GPU\n"
          ]
        }
      ],
      "source": [
        "if torch.cuda.is_available():\n",
        "    device = torch.device(\"cuda\")\n",
        "    print('Script is running with GPU')\n",
        "else:\n",
        "  device = torch.device(\"cpu\")\n",
        "  print('Script is running WITHOUT GPU')"
      ]
    },
    {
      "cell_type": "code",
      "execution_count": null,
      "metadata": {
        "id": "vSGKKyomByIn"
      },
      "outputs": [],
      "source": [
        "sents = list(np.load('OHG_sents.npy', allow_pickle=True))\n",
        "tags = list(np.load('OHG_tags_minimal.npy', allow_pickle=True))\n",
        "problems = []"
      ]
    },
    {
      "cell_type": "code",
      "execution_count": null,
      "metadata": {
        "id": "Qhb9N3rAB6YM"
      },
      "outputs": [],
      "source": [
        "for idx, sent in enumerate(sents):\n",
        "  sent.insert(0, 'start')\n",
        "  sent.append('stop')\n",
        "  sents[idx] = sent\n",
        "for idx, sent in enumerate(tags):\n",
        "  sent.insert(0, 'start')\n",
        "  sent.append('stop')\n",
        "  tags[idx] = sent\n",
        "for idx, sent in enumerate(tags):\n",
        "  if 'XX' in sent:\n",
        "    problems.append(idx)"
      ]
    },
    {
      "cell_type": "code",
      "execution_count": null,
      "metadata": {
        "id": "M-UuX3k4CRRU"
      },
      "outputs": [],
      "source": [
        "rawwords = []\n",
        "for sent in sents:\n",
        "  for word in sent:\n",
        "    rawwords.append(word)\n",
        "\n",
        "rawtags = []\n",
        "for sequence in tags:\n",
        "  for tag in sequence:\n",
        "    rawtags.append(tag)"
      ]
    },
    {
      "cell_type": "code",
      "execution_count": null,
      "metadata": {
        "colab": {
          "base_uri": "https://localhost:8080/"
        },
        "id": "F15I4B2CbyZy",
        "outputId": "8f77c879-af3f-4f15-eb94-de287d7c8892"
      },
      "outputs": [
        {
          "data": {
            "text/plain": [
              "226317"
            ]
          },
          "execution_count": 7,
          "metadata": {},
          "output_type": "execute_result"
        }
      ],
      "source": [
        "len(rawwords)"
      ]
    },
    {
      "cell_type": "code",
      "execution_count": null,
      "metadata": {
        "colab": {
          "base_uri": "https://localhost:8080/"
        },
        "id": "uX-ITDD2bz0C",
        "outputId": "a665b1a0-2a5e-4514-c614-033ad04bff81"
      },
      "outputs": [
        {
          "data": {
            "text/plain": [
              "18853"
            ]
          },
          "execution_count": 8,
          "metadata": {},
          "output_type": "execute_result"
        }
      ],
      "source": [
        "len(sents)"
      ]
    },
    {
      "cell_type": "code",
      "execution_count": null,
      "metadata": {
        "id": "XldbNrfKCT7U"
      },
      "outputs": [],
      "source": [
        "allwords = list(set(rawwords))\n",
        "alltags = list(set(rawtags))"
      ]
    },
    {
      "cell_type": "code",
      "execution_count": null,
      "metadata": {
        "colab": {
          "base_uri": "https://localhost:8080/"
        },
        "id": "8ySOBcbyFEqV",
        "outputId": "d0657ae4-2aef-4407-aaa7-839473ed4903"
      },
      "outputs": [
        {
          "name": "stdout",
          "output_type": "stream",
          "text": [
            "['start', 'indi', 'so', 'fliohente', 'dera', 'hella', 'uuizzi', 'ze', 'libe', 'uuellemes', 'duruh', 'qhuueman', 'euuikemu', ',', 'denne', 'nu', 'noh', 'muazzot', 'indi', 'in', 'desemu', 'lihhamin', 'pirumes', 'indi', 'desiu', 'alliu', 'duruh', 'desan', 'leoht', 'lib', 'muazzo', 'erfullan', ';', 'ze', 'hlauffanne', 'indi', 'ze', 'tuenne', 'nu', 'ist', ',', 'daz', 'in', 'euuin', 'uns', 'piderbit', '.', 'stop']\n"
          ]
        }
      ],
      "source": [
        "print(sents[0])"
      ]
    },
    {
      "cell_type": "code",
      "execution_count": null,
      "metadata": {
        "colab": {
          "base_uri": "https://localhost:8080/"
        },
        "id": "RC_hvFmczR4Y",
        "outputId": "3e2633bd-1c9d-412e-d309-432b063aeec4"
      },
      "outputs": [
        {
          "name": "stdout",
          "output_type": "stream",
          "text": [
            "['start', 'indi', 'so', 'fliohente', 'dera', 'hella', 'uuizzi', 'ze', 'libe', 'uuellemes', 'duruh', 'qhuueman', 'euuikemu', ',', 'denne', 'nu', 'noh', 'muazzot', 'indi', 'in', 'desemu', 'lihhamin', 'pirumes', 'indi', 'desiu', 'alliu', 'duruh', 'desan', 'leoht', 'lib', 'muazzo', 'erfullan', ';', 'ze', 'hlauffanne', 'indi', 'ze', 'tuenne', 'nu', 'ist', ',', 'daz', 'in', 'euuin', 'uns', 'piderbit', '.', 'stop']\n",
            "['start', 'CONJ', 'ADV', 'VB', 'D', 'N', 'N', 'AP', 'N', 'VB', 'AP', 'VB', 'ADJ', 'PUNCT', 'ADV', 'ADV', 'ADV', 'VB', 'CONJ', 'AP', 'D', 'N', 'VB', 'CONJ', 'D', 'WH', 'AP', 'D', 'N', 'N', 'VB', 'VB', 'PUNCT', 'AP', 'VB', 'CONJ', 'AP', 'VB', 'ADV', 'VB', 'PUNCT', 'D', 'AP', 'N', 'PRO', 'VB', 'PUNCT', 'stop']\n"
          ]
        }
      ],
      "source": [
        "print(sents[0])\n",
        "print(tags[0])"
      ]
    },
    {
      "cell_type": "code",
      "execution_count": null,
      "metadata": {
        "id": "0lHYaW1mCXNC"
      },
      "outputs": [],
      "source": [
        "word_tokenizer = {word: idx+1 for idx, word in enumerate(allwords)}\n",
        "word_decoder = {idx+1: word for idx, word in enumerate(allwords)}\n",
        "tag_tokenizer = {tag: idx+1 for idx, tag in enumerate(alltags)}\n",
        "tag_decoder = {idx+1: tag for idx, tag in enumerate(alltags)}\n",
        "\n",
        "def tokenize(sentences, tokenizer):\n",
        "  indexed_sentences = []\n",
        "  for sentence in sentences:\n",
        "    indexed_sentence = [tokenizer[word] for word in sentence]\n",
        "    indexed_sentences.append(indexed_sentence)\n",
        "  return indexed_sentences\n",
        "\n",
        "encsents = tokenize(sents, word_tokenizer)\n",
        "enctags = tokenize(tags, tag_tokenizer)\n",
        "\n",
        "padsents, padtags = [], []\n",
        "\n",
        "maxlen = max(len(sublist) for sublist in encsents)\n",
        "for sublist in encsents:\n",
        "  while len(sublist) < maxlen:\n",
        "    sublist = sublist + [0]\n",
        "    if len(sublist) == maxlen:\n",
        "      break\n",
        "    sublist = [0] + sublist\n",
        "  padsents.append(sublist)\n",
        "allenctags = []\n",
        "maxlen = max(len(sublist) for sublist in enctags)\n",
        "for sublist in enctags:\n",
        "  for i in sublist:\n",
        "    allenctags.append(i)\n",
        "  while len(sublist) < maxlen:\n",
        "    sublist = sublist + [0]\n",
        "    if len(sublist) == maxlen:\n",
        "      break\n",
        "    sublist = [0] + sublist\n",
        "  padtags.append(sublist)"
      ]
    },
    {
      "cell_type": "code",
      "execution_count": null,
      "metadata": {
        "id": "hrR3_pzFZn5a"
      },
      "outputs": [],
      "source": [
        "tag_mask = []\n",
        "for seq in padtags:\n",
        "  mask = [1]*len(seq)\n",
        "  for idx, tag in enumerate(seq):\n",
        "    if tag == tag_tokenizer['XX']:\n",
        "      mask[idx] = 0\n",
        "    if tag == tag_tokenizer['PUNCT']:\n",
        "      mask[idx] = 0\n",
        "    if tag == tag_tokenizer['start']:\n",
        "      mask[idx] = 0\n",
        "    if tag == tag_tokenizer['stop']:\n",
        "      mask[idx] = 0\n",
        "  tag_mask.append(mask)"
      ]
    },
    {
      "cell_type": "code",
      "execution_count": null,
      "metadata": {
        "id": "4tn_nKfyZvb9"
      },
      "outputs": [],
      "source": [
        "pad_tags_mask = []\n",
        "for i in range(len(padtags)):\n",
        "  pad_tags_mask.append([padtags[i], tag_mask[i]])"
      ]
    },
    {
      "cell_type": "code",
      "execution_count": null,
      "metadata": {
        "id": "icJ63bniCpuy"
      },
      "outputs": [],
      "source": [
        "X_test, X_train, y_test, y_train = train_test_split(padsents, pad_tags_mask, test_size=0.8)\n",
        "X_train_tensor = torch.tensor(X_train, dtype=torch.long).to(device)\n",
        "y_train_tensor = torch.tensor(y_train, dtype=torch.long).to(device)\n",
        "X_test_tensor = torch.tensor(X_test, dtype=torch.long).to(device)\n",
        "y_test_tensor = torch.tensor(y_test, dtype=torch.long).to(device)\n",
        "train_dataset = TensorDataset(X_train_tensor, y_train_tensor)\n",
        "test_dataset = TensorDataset(X_test_tensor, y_test_tensor)\n",
        "batch_size = 64\n",
        "train_loader = DataLoader(train_dataset, batch_size=batch_size)\n",
        "test_loader = DataLoader(test_dataset, batch_size=batch_size)"
      ]
    },
    {
      "cell_type": "code",
      "execution_count": null,
      "metadata": {
        "id": "eM-yLrO1Ct4g"
      },
      "outputs": [],
      "source": [
        "torch.save(train_loader, 'OHGTrain.pth')\n",
        "torch.save(test_loader, 'OHGTest.pth')"
      ]
    },
    {
      "cell_type": "code",
      "execution_count": null,
      "metadata": {
        "id": "BAOUciJCC5e2"
      },
      "outputs": [],
      "source": [
        "#train_loader = torch.load('OHGTrain.pth', map_location=device)\n",
        "#test_loader = torch.load('OHGTest.pth', map_location=device)"
      ]
    },
    {
      "cell_type": "code",
      "execution_count": null,
      "metadata": {
        "colab": {
          "base_uri": "https://localhost:8080/"
        },
        "id": "mhBXG2t4C-TU",
        "outputId": "398a8731-4034-4845-ec80-b7307f0e66c7"
      },
      "outputs": [
        {
          "name": "stdout",
          "output_type": "stream",
          "text": [
            "torch.Size([15083, 236])\n",
            "torch.Size([15083, 2, 236])\n",
            "torch.Size([3770, 236])\n",
            "torch.Size([3770, 2, 236])\n"
          ]
        }
      ],
      "source": [
        "print(X_train_tensor.size())\n",
        "print(y_train_tensor.size())\n",
        "print(X_test_tensor.size())\n",
        "print(y_test_tensor.size())"
      ]
    },
    {
      "cell_type": "code",
      "execution_count": null,
      "metadata": {
        "id": "z13fasAyDDou"
      },
      "outputs": [],
      "source": [
        "def calculate_class_weights(y):\n",
        "    unique_classes, class_counts = np.unique(y, return_counts=True)\n",
        "    print(unique_classes)\n",
        "    print(class_counts)\n",
        "    total_samples = len(y)\n",
        "    class_weights = []\n",
        "    class_weights.append(1)\n",
        "\n",
        "    for class_label, class_count in zip(unique_classes, class_counts):\n",
        "        class_weight = math.log(total_samples / (class_count))\n",
        "        class_weights.append(class_weight)\n",
        "\n",
        "    class_weights = torch.tensor(class_weights, dtype=torch.float32).to(device)\n",
        "\n",
        "    return class_weights"
      ]
    },
    {
      "cell_type": "code",
      "execution_count": null,
      "metadata": {
        "colab": {
          "base_uri": "https://localhost:8080/"
        },
        "id": "X03BMluYDFaC",
        "outputId": "2e9e1872-f561-4cea-e582-d813530e12aa"
      },
      "outputs": [
        {
          "name": "stdout",
          "output_type": "stream",
          "text": [
            "[ 1  2  3  4  5  6  7  8  9 10 11 12 13 14 15 16]\n",
            "[19324 30694   217  2622 10842 12621  4609 17041   749  8423 18853    28\n",
            " 18853 27677 33692 20072]\n",
            "Class weights: tensor([1.0000, 2.4606, 1.9979, 6.9498, 4.4580, 3.0385, 2.8866, 3.8939, 2.5863,\n",
            "        5.7110, 3.2910, 2.4853, 8.9975, 2.4853, 2.1013, 1.9047, 2.4226],\n",
            "       device='cuda:0')\n",
            "17\n",
            "17\n"
          ]
        }
      ],
      "source": [
        "class_weights = calculate_class_weights(allenctags)\n",
        "print(\"Class weights:\", class_weights)\n",
        "print(len(class_weights))\n",
        "print(len(alltags)+1)"
      ]
    },
    {
      "cell_type": "code",
      "execution_count": null,
      "metadata": {
        "id": "_LDtBShPTf84"
      },
      "outputs": [],
      "source": []
    },
    {
      "cell_type": "code",
      "execution_count": null,
      "metadata": {
        "id": "RJSXbDoAjdZe"
      },
      "outputs": [],
      "source": [
        "class Model(nn.Module):\n",
        "  def __init__(self):\n",
        "    super().__init__()\n",
        "\n",
        "  def categorical_accuracy(self, preds, y, mask, tag_pad_idx = 0):\n",
        "    max_preds = preds.argmax(dim = 1, keepdim = False)\n",
        "    max_preds = max_preds*mask\n",
        "    y = y*mask\n",
        "    max_preds = torch.flatten(max_preds)\n",
        "    y = torch.flatten(y)\n",
        "    non_pad_elements = y.nonzero()\n",
        "    correct = max_preds[non_pad_elements].eq(y[non_pad_elements])\n",
        "    return correct.sum() / y[non_pad_elements].shape[0]\n",
        "\n",
        "  def early_stop(self, validation_loss, patience = 3, min_delta = 0):\n",
        "    if validation_loss < self.min_validation_loss:\n",
        "        self.min_validation_loss = validation_loss\n",
        "        self.patiencecount = 0\n",
        "    elif validation_loss > (self.min_validation_loss + min_delta):\n",
        "        self.patiencecount += 1\n",
        "        print(f\"Early stopping counter: {self.patiencecount} out of {patience}\")\n",
        "        if self.patiencecount >= patience:\n",
        "            return True\n",
        "    return False\n",
        "\n",
        "  def fit(self, train_dl, val_dl, epochs, pad_idx = 0):\n",
        "    optimizer = torch.optim.Adam(self.parameters(), lr = 0.001)\n",
        "\n",
        "    self.patiencecount = 0\n",
        "    self.min_validation_loss = float('inf')\n",
        "\n",
        "    self.trainlosses = []\n",
        "    self.vallosses = []\n",
        "\n",
        "    self.train_accs = []\n",
        "    self.val_accs = []\n",
        "\n",
        "    counter = 0\n",
        "    for epoch in range(epochs):\n",
        "      for batch in train_dl:\n",
        "        counter += 1\n",
        "        text = batch[0]\n",
        "\n",
        "        output = batch[1]\n",
        "        output = output.transpose(0,1)\n",
        "        tags = output[0]\n",
        "        mask = output[1]\n",
        "        optimizer.zero_grad()\n",
        "        predictions = self.forward(text)\n",
        "        predictions = predictions.transpose(1,2)\n",
        "        loss = self.loss_fn(predictions, tags)\n",
        "        loss = (loss * mask).sum() / mask.sum()\n",
        "        loss.backward()\n",
        "        optimizer.step()\n",
        "      train_loss, train_acc = self.evaluate(train_dl)\n",
        "      val_loss, val_acc = self.evaluate(val_dl)\n",
        "      self.trainlosses.append(train_loss)\n",
        "      self.vallosses.append(val_loss)\n",
        "      self.train_accs.append(train_acc)\n",
        "      self.val_accs.append(val_acc)\n",
        "      if self.early_stop(val_loss):\n",
        "        break\n",
        "      train_acc = train_acc*100\n",
        "      val_acc = val_acc*100\n",
        "      print(f\"Epoch [{epoch + 1}/{epochs}] - TrainLoss: {train_loss:.4f}, ValLoss: {val_loss:.4f}, TrainAcc: {train_acc:.2f},% ValAcc: {val_acc:.2f}%\")\n",
        "\n",
        "  def evaluate(self, val_dl, pad_idx = 0):\n",
        "    losses = []\n",
        "    accuracies = []\n",
        "    with torch.no_grad():\n",
        "      for batch in val_dl:\n",
        "          text = batch[0]\n",
        "          output = batch[1]\n",
        "          output = output.transpose(0,1)\n",
        "          tags = output[0]\n",
        "          mask = output[1]\n",
        "          predictions = self.forward(text)\n",
        "          predictions = predictions.transpose(1,2)\n",
        "          loss = self.loss_fn(predictions, tags)\n",
        "          loss = (loss * mask).sum() / mask.sum()\n",
        "          losses.append(loss)\n",
        "          acc = self.categorical_accuracy(predictions, tags, mask, pad_idx)\n",
        "          accuracies.append(acc)\n",
        "    return torch.Tensor(losses).mean(), torch.Tensor(accuracies).mean()"
      ]
    },
    {
      "cell_type": "code",
      "execution_count": null,
      "metadata": {
        "id": "xc51Oh8ajpEO"
      },
      "outputs": [],
      "source": [
        "class OHGTagger(Model):\n",
        "    def __init__(self, vocab, embeds, hidden, tagset, n_layers, dropout, criterion, pad_idx = 0):\n",
        "        super().__init__()\n",
        "\n",
        "        self.embedding = nn.Embedding(vocab, embeds, padding_idx = pad_idx, scale_grad_by_freq = True)\n",
        "\n",
        "        self.lstm = nn.LSTM(embeds, hidden, num_layers = n_layers, bidirectional = True,\n",
        "                            dropout = dropout if n_layers > 1 else 0)\n",
        "\n",
        "        self.lin = nn.Linear(hidden * 2, tagset)\n",
        "\n",
        "        self.dropout = nn.Dropout(dropout)\n",
        "\n",
        "        self.loss_fn = criterion\n",
        "\n",
        "    def forward(self, sent):\n",
        "        x = self.embedding(sent)\n",
        "        x, (hidden, cell) = self.lstm(x)\n",
        "        x = self.lin(self.dropout(x))\n",
        "        return x"
      ]
    },
    {
      "cell_type": "code",
      "execution_count": null,
      "metadata": {
        "id": "HpDNtwPZjtRs"
      },
      "outputs": [],
      "source": [
        "vocab = len(allwords)+1\n",
        "n_emb = 300\n",
        "n_hidden = 60\n",
        "n_tags = len(alltags)+1\n",
        "n_layers = 3\n",
        "dropout = .2\n",
        "pad_idx = 0\n",
        "criterion = nn.CrossEntropyLoss(reduction = 'none', ignore_index = pad_idx).to(device)"
      ]
    },
    {
      "cell_type": "code",
      "execution_count": null,
      "metadata": {
        "id": "DmjssqHyjxLo"
      },
      "outputs": [],
      "source": [
        "network_OHGTagger = OHGTagger(vocab, n_emb, n_hidden, n_tags, n_layers, dropout, criterion, pad_idx).to(device)"
      ]
    },
    {
      "cell_type": "code",
      "execution_count": null,
      "metadata": {
        "colab": {
          "base_uri": "https://localhost:8080/"
        },
        "id": "R6pda2Dwjzwe",
        "outputId": "81d3823f-a028-4c46-f2f8-0b943256f1c8"
      },
      "outputs": [
        {
          "name": "stdout",
          "output_type": "stream",
          "text": [
            "Epoch [1/50] - TrainLoss: 0.0306, ValLoss: 0.0330, TrainAcc: 70.06,% ValAcc: 68.16%\n",
            "Epoch [2/50] - TrainLoss: 0.0201, ValLoss: 0.0254, TrainAcc: 81.02,% ValAcc: 75.88%\n",
            "Epoch [3/50] - TrainLoss: 0.0144, ValLoss: 0.0237, TrainAcc: 86.66,% ValAcc: 78.59%\n",
            "Early stopping counter: 1 out of 3\n",
            "Epoch [4/50] - TrainLoss: 0.0109, ValLoss: 0.0237, TrainAcc: 90.06,% ValAcc: 79.92%\n",
            "Early stopping counter: 2 out of 3\n",
            "Epoch [5/50] - TrainLoss: 0.0089, ValLoss: 0.0248, TrainAcc: 91.71,% ValAcc: 80.57%\n",
            "Early stopping counter: 3 out of 3\n",
            "CPU times: user 30.4 s, sys: 4.62 s, total: 35 s\n",
            "Wall time: 42.3 s\n"
          ]
        }
      ],
      "source": [
        "%time network_OHGTagger.fit(train_loader, test_loader, 50)"
      ]
    },
    {
      "cell_type": "code",
      "execution_count": null,
      "metadata": {
        "colab": {
          "base_uri": "https://localhost:8080/",
          "height": 449
        },
        "id": "HOP1DYrij3lN",
        "outputId": "b146d912-0338-44ce-8b3b-039642d353d0"
      },
      "outputs": [
        {
          "data": {
            "image/png": "[encoded data removed]",
            "text/plain": [
              "<Figure size 640x480 with 1 Axes>"
            ]
          },
          "metadata": {},
          "output_type": "display_data"
        }
      ],
      "source": [
        "epochs = range(1, len(network_OHGTagger.trainlosses) + 1)\n",
        "\n",
        "plt.plot(epochs, network_OHGTagger.trainlosses, 'blue', label='Training loss')\n",
        "plt.plot(epochs, network_OHGTagger.vallosses, 'red', label='Validation loss')\n",
        "plt.xlabel('Epochs')\n",
        "plt.ylabel('Loss')\n",
        "plt.legend()\n",
        "plt.show()"
      ]
    },
    {
      "cell_type": "code",
      "execution_count": null,
      "metadata": {
        "colab": {
          "base_uri": "https://localhost:8080/",
          "height": 449
        },
        "id": "R4IUgQ3VlQpv",
        "outputId": "ab0e8f08-c28e-432b-b36b-e8bf9f8f624e"
      },
      "outputs": [
        {
          "data": {
            "image/png": "[encoded data removed]",
            "text/plain": [
              "<Figure size 640x480 with 1 Axes>"
            ]
          },
          "metadata": {},
          "output_type": "display_data"
        }
      ],
      "source": [
        "epochs = range(1, len(network_OHGTagger.train_accs) + 1)\n",
        "\n",
        "plt.plot(epochs, network_OHGTagger.train_accs, 'blue', label='Training Acc')\n",
        "plt.plot(epochs, network_OHGTagger.val_accs, 'red', label='Validation Acc')\n",
        "plt.xlabel('Epochs')\n",
        "plt.ylabel('Acc')\n",
        "plt.legend()\n",
        "plt.show()"
      ]
    },
    {
      "cell_type": "code",
      "execution_count": null,
      "metadata": {
        "id": "b4H-CjEomCc8"
      },
      "outputs": [],
      "source": [
        "def predict(model, data, pad_idx):\n",
        "    with torch.no_grad():\n",
        "      predicts_out = []\n",
        "      tags_out = []\n",
        "      text_out = []\n",
        "      for batch in data:\n",
        "        text = batch[0]\n",
        "        output = batch[1]\n",
        "        output = output.transpose(0,1)\n",
        "        tags = output[0]\n",
        "        mask = output[1]\n",
        "        predictions = model.forward(text)\n",
        "        predictions = predictions.transpose(1,2)\n",
        "        predictions = predictions.argmax(dim = 1)\n",
        "        for idx, sent in enumerate(text):\n",
        "          predicts_out.append(np.array(predictions[idx].cpu()))\n",
        "          tags_out.append(np.array(tags[idx].cpu()))\n",
        "          text_out.append(np.array(sent.cpu()))\n",
        "    for idx, ele in enumerate(predicts_out):\n",
        "      predicts_out[idx] = predicts_out[idx].tolist()\n",
        "    for idx, ele in enumerate(tags_out):\n",
        "      tags_out[idx] = tags_out[idx].tolist()\n",
        "    for idx, ele in enumerate(text_out):\n",
        "      text_out[idx] = text_out[idx].tolist()\n",
        "\n",
        "    return predicts_out, tags_out, text_out"
      ]
    },
    {
      "cell_type": "code",
      "execution_count": null,
      "metadata": {
        "id": "zZUWAaHgmDYy"
      },
      "outputs": [],
      "source": [
        "preds, tags, texts = predict(network_OHGTagger, test_loader, pad_idx)"
      ]
    },
    {
      "cell_type": "code",
      "execution_count": null,
      "metadata": {
        "colab": {
          "base_uri": "https://localhost:8080/"
        },
        "id": "vS7LmDAwSlzI",
        "outputId": "5136009a-7c02-4dd5-a20d-b85f2b18b329"
      },
      "outputs": [
        {
          "name": "stdout",
          "output_type": "stream",
          "text": [
            "[15, 15, 15, 15, 15, 15, 15, 15, 15, 15, 15, 15, 15, 15, 15, 15, 15, 15, 15, 15, 15, 15, 15, 15, 15, 15, 15, 15, 15, 15, 15, 15, 15, 15, 15, 15, 15, 15, 15, 15, 15, 15, 15, 15, 15, 15, 15, 15, 15, 15, 15, 15, 15, 15, 15, 15, 15, 15, 15, 15, 15, 15, 15, 15, 15, 15, 15, 15, 15, 15, 15, 15, 15, 15, 15, 15, 15, 15, 15, 15, 15, 15, 15, 15, 15, 15, 15, 15, 15, 15, 15, 15, 15, 15, 15, 15, 15, 15, 15, 15, 15, 15, 15, 15, 15, 15, 15, 15, 15, 15, 15, 15, 15, 15, 15, 15, 6, 1, 15, 10, 15, 15, 15, 15, 15, 15, 15, 15, 15, 15, 15, 15, 15, 15, 15, 15, 15, 15, 15, 15, 15, 15, 15, 15, 15, 15, 15, 15, 15, 15, 15, 15, 15, 15, 15, 15, 15, 15, 15, 15, 15, 15, 15, 15, 15, 15, 15, 15, 15, 15, 15, 15, 15, 15, 15, 15, 15, 15, 15, 15, 15, 15, 15, 15, 15, 15, 15, 15, 15, 15, 15, 15, 15, 15, 15, 15, 15, 15, 15, 15, 15, 15, 15, 15, 15, 15, 15, 15, 15, 15, 15, 15, 15, 15, 15, 15, 15, 15, 15, 15, 15, 15, 15, 15, 15, 15, 15, 15, 15, 15, 15, 15, 15, 15, 15, 15]\n",
            "[0, 0, 0, 0, 0, 0, 0, 0, 0, 0, 0, 0, 0, 0, 0, 0, 0, 0, 0, 0, 0, 0, 0, 0, 0, 0, 0, 0, 0, 0, 0, 0, 0, 0, 0, 0, 0, 0, 0, 0, 0, 0, 0, 0, 0, 0, 0, 0, 0, 0, 0, 0, 0, 0, 0, 0, 0, 0, 0, 0, 0, 0, 0, 0, 0, 0, 0, 0, 0, 0, 0, 0, 0, 0, 0, 0, 0, 0, 0, 0, 0, 0, 0, 0, 0, 0, 0, 0, 0, 0, 0, 0, 0, 0, 0, 0, 0, 0, 0, 0, 0, 0, 0, 0, 0, 0, 0, 0, 0, 0, 0, 0, 0, 0, 0, 11, 6, 1, 10, 2, 13, 0, 0, 0, 0, 0, 0, 0, 0, 0, 0, 0, 0, 0, 0, 0, 0, 0, 0, 0, 0, 0, 0, 0, 0, 0, 0, 0, 0, 0, 0, 0, 0, 0, 0, 0, 0, 0, 0, 0, 0, 0, 0, 0, 0, 0, 0, 0, 0, 0, 0, 0, 0, 0, 0, 0, 0, 0, 0, 0, 0, 0, 0, 0, 0, 0, 0, 0, 0, 0, 0, 0, 0, 0, 0, 0, 0, 0, 0, 0, 0, 0, 0, 0, 0, 0, 0, 0, 0, 0, 0, 0, 0, 0, 0, 0, 0, 0, 0, 0, 0, 0, 0, 0, 0, 0, 0, 0, 0, 0, 0, 0, 0, 0, 0, 0]\n"
          ]
        }
      ],
      "source": [
        "print(preds[0])\n",
        "print(tags[0])"
      ]
    },
    {
      "cell_type": "code",
      "execution_count": null,
      "metadata": {
        "id": "Sqe4GfuLRwiq"
      },
      "outputs": [],
      "source": [
        "for i in range(len(preds)):\n",
        "  for j in range(len(preds[i])):\n",
        "    if tags[i][j] == 0:\n",
        "      preds[i][j] = 0\n",
        "  preds[i] = [ele for ele in preds[i] if ele != 0]\n",
        "  tags[i] = [ele for ele in tags[i] if ele != 0]\n",
        "  texts[i] = [ele for ele in texts[i] if ele != 0]"
      ]
    },
    {
      "cell_type": "code",
      "execution_count": null,
      "metadata": {
        "id": "5JNt8Ue6R1yC"
      },
      "outputs": [],
      "source": [
        "decpreds, dectags, dectext, declangs = [], [], [], []\n",
        "decpreds.append(tokenize(preds, tag_decoder))\n",
        "dectags.append(tokenize(tags, tag_decoder))\n",
        "dectext.append(tokenize(texts, word_decoder))\n",
        "decpreds = decpreds[0]\n",
        "dectags = dectags[0]\n",
        "dectext = dectext[0]"
      ]
    },
    {
      "cell_type": "code",
      "execution_count": null,
      "metadata": {
        "colab": {
          "base_uri": "https://localhost:8080/"
        },
        "id": "6Q7O4sGNmMe_",
        "outputId": "ba276118-8ff5-4a98-c237-ae42e26b0da7"
      },
      "outputs": [
        {
          "name": "stdout",
          "output_type": "stream",
          "text": [
            "['VB', 'CONJ', 'D', 'VB', 'ADJ', 'VB']\n",
            "['start', 'CONJ', 'D', 'ADJ', 'PUNCT', 'stop']\n",
            "['start', 'únde', 'dén', 'snéllen', '.', 'stop']\n"
          ]
        }
      ],
      "source": [
        "print(decpreds[0])\n",
        "print(dectags[0])\n",
        "print(dectext[0])"
      ]
    },
    {
      "cell_type": "code",
      "execution_count": null,
      "metadata": {
        "colab": {
          "base_uri": "https://localhost:8080/"
        },
        "id": "DkueTqDSvkT8",
        "outputId": "19897a7f-1f8e-4867-c1e6-d81061766499"
      },
      "outputs": [
        {
          "name": "stdout",
          "output_type": "stream",
          "text": [
            "Number of times 'D' occurs in decpreds: 4331\n",
            "Number of times 'D' occurs in the same location in dectags: 3727\n"
          ]
        }
      ],
      "source": [
        "# prompt: count how many times D occurs in decpreds, and how many times there is a D in the same location in dectags\n",
        "\n",
        "decpreds_correct_d_count = 0\n",
        "decpreds_d_count = 0\n",
        "for i in range(len(decpreds)):\n",
        "  for j in range(len(decpreds[i])):\n",
        "    if decpreds[i][j] == 'D':\n",
        "      decpreds_d_count += 1\n",
        "      if dectags[i][j] == 'D':\n",
        "        decpreds_correct_d_count +=1\n",
        "print(f\"Number of times 'D' occurs in decpreds: {decpreds_d_count}\")\n",
        "print(f\"Number of times 'D' occurs in the same location in dectags: {decpreds_correct_d_count}\")\n"
      ]
    },
    {
      "cell_type": "code",
      "execution_count": null,
      "metadata": {
        "id": "E8jaBu5pmOS1"
      },
      "outputs": [],
      "source": [
        "in_set_vocab = []\n",
        "for batch in train_loader:\n",
        "  texts = batch[0]\n",
        "  for sent in texts:\n",
        "    sent = sent.tolist()\n",
        "    sent = [ele for ele in sent if ele != 0]\n",
        "    x = []\n",
        "    for i in sent:\n",
        "      x.append([i])\n",
        "    x = tokenize(x, word_decoder)\n",
        "    for word in x:\n",
        "      in_set_vocab.append(word)\n",
        "in_set_vocab = set([x for y in in_set_vocab for x in y])"
      ]
    },
    {
      "cell_type": "code",
      "execution_count": null,
      "metadata": {
        "colab": {
          "base_uri": "https://localhost:8080/"
        },
        "id": "EW7WRc_CmTf1",
        "outputId": "c3f7bd35-9f65-41a4-e526-84da7c6578b0"
      },
      "outputs": [
        {
          "name": "stdout",
          "output_type": "stream",
          "text": [
            "Total Accuracy:\n",
            "VB | 77.89% of 6937\n",
            "PUNCT | 0% of 6274\n",
            "N | 76.72% of 5636\n",
            "PRO | 91.89% of 4094\n",
            "D | 94.09% of 3961\n",
            "start | 0% of 3770\n",
            "stop | 0% of 3770\n",
            "ADV | 78.53% of 3507\n",
            "CONJ | 72.92% of 2548\n",
            "AP | 92.82% of 2144\n",
            "ADJ | 50.23% of 1730\n",
            "WH | 74.83% of 894\n",
            "PART | 95.77% of 568\n",
            "NUM | 49.66% of 147\n",
            "INTJ | 33.33% of 36\n",
            "XX | 0% of 4\n"
          ]
        }
      ],
      "source": [
        "corrects, incorrects, totals = [], [], []\n",
        "uk_corrects, uk_incorrects, uk_totals = [], [], []\n",
        "for i in range(len(decpreds)):\n",
        "  for j in range(len(decpreds[i])):\n",
        "    totals.append(dectags[i][j])\n",
        "    if decpreds[i][j] == dectags[i][j]:\n",
        "      corrects.append(decpreds[i][j])\n",
        "    else:\n",
        "      incorrects.append(decpreds[i][j])\n",
        "    if dectext[i][j] not in in_set_vocab:\n",
        "      uk_totals.append(dectags[i][j])\n",
        "      if decpreds[i][j] == dectags[i][j]:\n",
        "        uk_corrects.append(decpreds[i][j])\n",
        "      else:\n",
        "        uk_incorrects.append(decpreds[i][j])\n",
        "\n",
        "c_freqs = Counter(corrects)\n",
        "ic_freqs = Counter(incorrects)\n",
        "t_freqs = Counter(totals)\n",
        "uk_c_freqs = Counter(uk_corrects)\n",
        "uk_ic_freqs = Counter(uk_incorrects)\n",
        "uk_t_freqs = Counter(uk_totals)\n",
        "\n",
        "print('Total Accuracy:')\n",
        "data = []\n",
        "labels = []\n",
        "any_c = [x[0] for x in c_freqs.most_common()]\n",
        "for i in t_freqs.most_common():\n",
        "  if i[0] not in any_c:\n",
        "    data.append(0)\n",
        "    labels.append(i[0])\n",
        "    print(f'{i[0]} | 0% of {i[1]}')\n",
        "  else:\n",
        "    for ele in c_freqs.most_common():\n",
        "      if ele[0] == i[0]:\n",
        "        num_c = ele[1]\n",
        "    class_acc = num_c/i[1]\n",
        "    data.append(class_acc*100)\n",
        "    labels.append(i[0])\n",
        "    print(f'{i[0]} | {class_acc*100:.2f}% of {i[1]}')"
      ]
    },
    {
      "cell_type": "code",
      "execution_count": null,
      "metadata": {
        "id": "IFOEUvfxYBRy"
      },
      "outputs": [],
      "source": [
        "plot_list = ['VB', 'PRO', 'D', 'ADV', 'CONJ', 'AP', 'ADJ', 'WH', 'PART', 'N', 'NUM', 'INTJ']"
      ]
    },
    {
      "cell_type": "code",
      "execution_count": null,
      "metadata": {
        "colab": {
          "base_uri": "https://localhost:8080/"
        },
        "id": "Vh4KWQX39ffi",
        "outputId": "7ad29b1d-7b6b-4718-926f-5fd06f940348"
      },
      "outputs": [
        {
          "name": "stdout",
          "output_type": "stream",
          "text": [
            "['VB', 'PUNCT', 'N', 'PRO', 'D', 'start', 'stop', 'ADV', 'CONJ', 'AP', 'ADJ', 'WH', 'PART', 'NUM', 'INTJ', 'XX']\n"
          ]
        }
      ],
      "source": [
        "print(labels)"
      ]
    },
    {
      "cell_type": "code",
      "execution_count": null,
      "metadata": {
        "colab": {
          "base_uri": "https://localhost:8080/",
          "height": 607
        },
        "id": "ujL1i8OuqXXl",
        "outputId": "78cfb740-9511-473e-86b8-a0cc9631bc88"
      },
      "outputs": [
        {
          "data": {
            "image/png": "[encoded data removed]",
            "text/plain": [
              "<Figure size 1000x600 with 1 Axes>"
            ]
          },
          "metadata": {},
          "output_type": "display_data"
        }
      ],
      "source": [
        "plot_data = []\n",
        "plot_labels = []\n",
        "for label, value in zip(labels, data):\n",
        "    if label in plot_list:\n",
        "        plot_data.append(value)\n",
        "        plot_labels.append(label)\n",
        "\n",
        "plt.figure(figsize=(10, 6))\n",
        "plt.bar(plot_labels, plot_data)\n",
        "plt.xlabel(\"POS Tags\")\n",
        "plt.ylabel(\"Accuracy (%)\")\n",
        "plt.title(\"Accuracy per POS Tag\")\n",
        "plt.xticks(rotation=45, ha='right')\n",
        "for i, v in enumerate(plot_data):\n",
        "    plt.text(i, v + 1, f\"{v:.2f}%\", ha='center', va='bottom')\n",
        "\n",
        "plt.tight_layout()\n",
        "plt.show()\n"
      ]
    }
  ],
  "metadata": {
    "accelerator": "GPU",
    "colab": {
      "gpuType": "T4",
      "provenance": []
    },
    "kernelspec": {
      "display_name": "Python 3",
      "name": "python3"
    },
    "language_info": {
      "name": "python"
    }
  },
  "nbformat": 4,
  "nbformat_minor": 0
}
