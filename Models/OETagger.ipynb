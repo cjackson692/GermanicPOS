{
  "cells": [
    {
      "cell_type": "code",
      "execution_count": null,
      "metadata": {
        "id": "VMGp9ag-BtMj"
      },
      "outputs": [],
      "source": [
        "import torch\n",
        "import torch.nn as nn\n",
        "import torch.optim as optim\n",
        "import spacy\n",
        "import numpy as np\n",
        "import time\n",
        "import random\n",
        "from collections import Counter\n",
        "from sklearn.model_selection import train_test_split\n",
        "from torch.utils.data import TensorDataset, DataLoader\n",
        "import tensorflow as tf\n",
        "import matplotlib.pyplot as plt\n",
        "import math\n",
        "import pandas as pd"
      ]
    },
    {
      "cell_type": "code",
      "execution_count": null,
      "metadata": {
        "colab": {
          "base_uri": "https://localhost:8080/"
        },
        "id": "4jNr589HBv7n",
        "outputId": "25ab5cb6-c8ec-4be5-f68d-e38eef061d9f"
      },
      "outputs": [
        {
          "name": "stdout",
          "output_type": "stream",
          "text": [
            "Script is running with GPU\n"
          ]
        }
      ],
      "source": [
        "if torch.cuda.is_available():\n",
        "    device = torch.device(\"cuda\")\n",
        "    print('Script is running with GPU')\n",
        "else:\n",
        "  device = torch.device(\"cpu\")\n",
        "  print('Script is running WITHOUT GPU')"
      ]
    },
    {
      "cell_type": "code",
      "execution_count": null,
      "metadata": {
        "id": "vSGKKyomByIn"
      },
      "outputs": [],
      "source": [
        "sents = list(np.load('OE_sents.npy', allow_pickle=True))\n",
        "tags = list(np.load('OE_tags_minimal.npy', allow_pickle=True))\n",
        "problems = []"
      ]
    },
    {
      "cell_type": "code",
      "execution_count": null,
      "metadata": {
        "colab": {
          "base_uri": "https://localhost:8080/"
        },
        "id": "t8mJmZEfbT3n",
        "outputId": "9f25b0f6-6311-4b49-e4ef-da688117e8ce"
      },
      "outputs": [
        {
          "data": {
            "text/plain": [
              "['start', 'Adrianus', 'cw+a+d', 'to', 'Ritheus', '.', 'stop']"
            ]
          },
          "execution_count": 5,
          "metadata": {},
          "output_type": "execute_result"
        }
      ],
      "source": [
        "sents[0]"
      ]
    },
    {
      "cell_type": "code",
      "execution_count": null,
      "metadata": {
        "id": "Qhb9N3rAB6YM"
      },
      "outputs": [],
      "source": [
        "#for idx, sent in enumerate(sents):\n",
        "#  sent.insert(0, 'start')\n",
        "#  sent.append('stop')\n",
        "#  sents[idx] = sent\n",
        "#for idx, sent in enumerate(tags):\n",
        "#  sent.insert(0, 'start')\n",
        "#  sent.append('stop')\n",
        "#  tags[idx] = sent\n",
        "#for idx, sent in enumerate(tags):\n",
        "#  if 'XX' in sent:\n",
        "#    problems.append(idx)"
      ]
    },
    {
      "cell_type": "code",
      "execution_count": null,
      "metadata": {
        "id": "M-UuX3k4CRRU"
      },
      "outputs": [],
      "source": [
        "rawwords = []\n",
        "for sent in sents:\n",
        "  for word in sent:\n",
        "    rawwords.append(word)\n",
        "\n",
        "rawtags = []\n",
        "for sequence in tags:\n",
        "  for tag in sequence:\n",
        "    rawtags.append(tag)"
      ]
    },
    {
      "cell_type": "code",
      "execution_count": null,
      "metadata": {
        "id": "XldbNrfKCT7U"
      },
      "outputs": [],
      "source": [
        "allwords = list(set(rawwords))\n",
        "alltags = list(set(rawtags))"
      ]
    },
    {
      "cell_type": "code",
      "execution_count": null,
      "metadata": {
        "id": "0lHYaW1mCXNC"
      },
      "outputs": [],
      "source": [
        "word_tokenizer = {word: idx+1 for idx, word in enumerate(allwords)}\n",
        "word_decoder = {idx+1: word for idx, word in enumerate(allwords)}\n",
        "tag_tokenizer = {tag: idx+1 for idx, tag in enumerate(alltags)}\n",
        "tag_decoder = {idx+1: tag for idx, tag in enumerate(alltags)}\n",
        "\n",
        "def tokenize(sentences, tokenizer):\n",
        "  indexed_sentences = []\n",
        "  for sentence in sentences:\n",
        "    indexed_sentence = [tokenizer[word] for word in sentence]\n",
        "    indexed_sentences.append(indexed_sentence)\n",
        "  return indexed_sentences\n",
        "\n",
        "encsents = tokenize(sents, word_tokenizer)\n",
        "enctags = tokenize(tags, tag_tokenizer)\n",
        "\n",
        "padsents, padtags = [], []\n",
        "\n",
        "maxlen = max(len(sublist) for sublist in encsents)\n",
        "for sublist in encsents:\n",
        "  while len(sublist) < maxlen:\n",
        "    sublist = sublist + [0]\n",
        "    if len(sublist) == maxlen:\n",
        "      break\n",
        "    sublist = [0] + sublist\n",
        "  padsents.append(sublist)\n",
        "allenctags = []\n",
        "maxlen = max(len(sublist) for sublist in enctags)\n",
        "for sublist in enctags:\n",
        "  for i in sublist:\n",
        "    allenctags.append(i)\n",
        "  while len(sublist) < maxlen:\n",
        "    sublist = sublist + [0]\n",
        "    if len(sublist) == maxlen:\n",
        "      break\n",
        "    sublist = [0] + sublist\n",
        "  padtags.append(sublist)"
      ]
    },
    {
      "cell_type": "code",
      "execution_count": null,
      "metadata": {
        "id": "8JbQFWsZnZHC"
      },
      "outputs": [],
      "source": [
        "tag_mask = []\n",
        "for seq in padtags:\n",
        "  mask = [1]*len(seq)\n",
        "  for idx, tag in enumerate(seq):\n",
        "    if tag == tag_tokenizer['XX']:\n",
        "      mask[idx] = 0\n",
        "    if tag == tag_tokenizer['start']:\n",
        "      mask[idx] = 0\n",
        "    if tag == tag_tokenizer['stop']:\n",
        "      mask[idx] = 0\n",
        "    if tag == tag_tokenizer['PUNCT']:\n",
        "      mask[idx] = 0\n",
        "  tag_mask.append(mask)"
      ]
    },
    {
      "cell_type": "code",
      "execution_count": null,
      "metadata": {
        "id": "4Y4f1bH1nbpt"
      },
      "outputs": [],
      "source": [
        "pad_tags_mask = []\n",
        "for i in range(len(padtags)):\n",
        "  pad_tags_mask.append([padtags[i], tag_mask[i]])"
      ]
    },
    {
      "cell_type": "code",
      "execution_count": null,
      "metadata": {
        "id": "icJ63bniCpuy"
      },
      "outputs": [],
      "source": [
        "X_test, X_train, y_test, y_train = train_test_split(padsents, pad_tags_mask, test_size=0.8)\n",
        "X_train_tensor = torch.tensor(X_train, dtype=torch.long).to(device)\n",
        "y_train_tensor = torch.tensor(y_train, dtype=torch.long).to(device)\n",
        "X_test_tensor = torch.tensor(X_test, dtype=torch.long).to(device)\n",
        "y_test_tensor = torch.tensor(y_test, dtype=torch.long).to(device)\n",
        "train_dataset = TensorDataset(X_train_tensor, y_train_tensor)\n",
        "test_dataset = TensorDataset(X_test_tensor, y_test_tensor)\n",
        "batch_size = 64\n",
        "train_loader = DataLoader(train_dataset, batch_size=batch_size)\n",
        "test_loader = DataLoader(test_dataset, batch_size=batch_size)"
      ]
    },
    {
      "cell_type": "code",
      "execution_count": null,
      "metadata": {
        "id": "eM-yLrO1Ct4g"
      },
      "outputs": [],
      "source": [
        "torch.save(train_loader, 'OETrain.pth')\n",
        "torch.save(test_loader, 'OETest.pth')"
      ]
    },
    {
      "cell_type": "code",
      "execution_count": null,
      "metadata": {
        "id": "BAOUciJCC5e2"
      },
      "outputs": [],
      "source": [
        "train_loader = torch.load('OETrain.pth', map_location=device, weights_only=False)\n",
        "test_loader = torch.load('OETest.pth', map_location=device, weights_only=False)"
      ]
    },
    {
      "cell_type": "code",
      "execution_count": null,
      "metadata": {
        "colab": {
          "base_uri": "https://localhost:8080/"
        },
        "id": "mhBXG2t4C-TU",
        "outputId": "9befb8bc-4954-4390-dc55-cf9631dedda7"
      },
      "outputs": [
        {
          "name": "stdout",
          "output_type": "stream",
          "text": [
            "torch.Size([90128, 125])\n",
            "torch.Size([90128, 2, 125])\n",
            "torch.Size([22532, 125])\n",
            "torch.Size([22532, 2, 125])\n"
          ]
        }
      ],
      "source": [
        "print(X_train_tensor.size())\n",
        "print(y_train_tensor.size())\n",
        "print(X_test_tensor.size())\n",
        "print(y_test_tensor.size())"
      ]
    },
    {
      "cell_type": "code",
      "execution_count": null,
      "metadata": {
        "id": "z13fasAyDDou"
      },
      "outputs": [],
      "source": [
        "def calculate_class_weights(y):\n",
        "    unique_classes, class_counts = np.unique(y, return_counts=True)\n",
        "    print(unique_classes)\n",
        "    print(class_counts)\n",
        "    total_samples = len(y)\n",
        "    class_weights = []\n",
        "    class_weights.append(1)\n",
        "\n",
        "    for class_label, class_count in zip(unique_classes, class_counts):\n",
        "        class_weight = math.log(total_samples / (class_count))\n",
        "        class_weights.append(class_weight)\n",
        "\n",
        "    class_weights = torch.tensor(class_weights, dtype=torch.float32).to(device)\n",
        "\n",
        "    return class_weights"
      ]
    },
    {
      "cell_type": "code",
      "execution_count": null,
      "metadata": {
        "colab": {
          "base_uri": "https://localhost:8080/"
        },
        "id": "X03BMluYDFaC",
        "outputId": "1ae24d39-64a7-475c-e029-da5a5b59f895"
      },
      "outputs": [
        {
          "name": "stdout",
          "output_type": "stream",
          "text": [
            "[ 1  2  3  4  5  6  7  8  9 10 11 12 13 14 15 16 17 18 19 20]\n",
            "[ 36069  12141  74684 121584   3734  14542 101892   1250   6160 272179\n",
            " 108744 154240 127608  47993  36366 188729 112660 112660 316481  14731]\n",
            "Class weights: tensor([1.0000, 3.9453, 5.0341, 3.2175, 2.7301, 6.2132, 4.8537, 2.9068, 7.3076,\n",
            "        5.7126, 1.9243, 2.8417, 2.4922, 2.6818, 3.6597, 3.9371, 2.2904, 2.8063,\n",
            "        2.8063, 1.7735, 4.8408], device='cuda:0')\n",
            "21\n",
            "21\n"
          ]
        }
      ],
      "source": [
        "class_weights = calculate_class_weights(allenctags)\n",
        "print(\"Class weights:\", class_weights)\n",
        "print(len(class_weights))\n",
        "print(len(alltags)+1)"
      ]
    },
    {
      "cell_type": "code",
      "execution_count": null,
      "metadata": {
        "id": "RJSXbDoAjdZe"
      },
      "outputs": [],
      "source": [
        "class Model(nn.Module):\n",
        "  def __init__(self):\n",
        "    super().__init__()\n",
        "\n",
        "  def categorical_accuracy(self, preds, y, mask, tag_pad_idx = 0):\n",
        "    max_preds = preds.argmax(dim = 1, keepdim = False)\n",
        "    max_preds = max_preds*mask\n",
        "    y = y*mask\n",
        "    max_preds = torch.flatten(max_preds)\n",
        "    y = torch.flatten(y)\n",
        "    non_pad_elements = y.nonzero()\n",
        "    correct = max_preds[non_pad_elements].eq(y[non_pad_elements])\n",
        "    return correct.sum() / y[non_pad_elements].shape[0]\n",
        "\n",
        "  def early_stop(self, validation_loss, patience = 3, min_delta = 0):\n",
        "    if validation_loss < self.min_validation_loss:\n",
        "        self.min_validation_loss = validation_loss\n",
        "        self.patiencecount = 0\n",
        "    elif validation_loss > (self.min_validation_loss + min_delta):\n",
        "        self.patiencecount += 1\n",
        "        print(f\"Early stopping counter: {self.patiencecount} out of {patience}\")\n",
        "        if self.patiencecount >= patience:\n",
        "            return True\n",
        "    return False\n",
        "\n",
        "  def fit(self, train_dl, val_dl, epochs, pad_idx = 0):\n",
        "    optimizer = torch.optim.Adam(self.parameters(), lr = 0.001)\n",
        "\n",
        "    self.patiencecount = 0\n",
        "    self.min_validation_loss = float('inf')\n",
        "\n",
        "    self.trainlosses = []\n",
        "    self.vallosses = []\n",
        "\n",
        "    self.train_accs = []\n",
        "    self.val_accs = []\n",
        "\n",
        "    counter = 0\n",
        "    for epoch in range(epochs):\n",
        "      for batch in train_dl:\n",
        "        counter += 1\n",
        "        text = batch[0]\n",
        "\n",
        "        output = batch[1]\n",
        "        output = output.transpose(0,1)\n",
        "        tags = output[0]\n",
        "        mask = output[1]\n",
        "        optimizer.zero_grad()\n",
        "        predictions = self.forward(text)\n",
        "        predictions = predictions.transpose(1,2)\n",
        "        loss = self.loss_fn(predictions, tags)\n",
        "        loss = (loss * mask).sum() / mask.sum()\n",
        "        loss.backward()\n",
        "        optimizer.step()\n",
        "      train_loss, train_acc = self.evaluate(train_dl)\n",
        "      val_loss, val_acc = self.evaluate(val_dl)\n",
        "      self.trainlosses.append(train_loss)\n",
        "      self.vallosses.append(val_loss)\n",
        "      self.train_accs.append(train_acc)\n",
        "      self.val_accs.append(val_acc)\n",
        "      if self.early_stop(val_loss):\n",
        "        break\n",
        "      train_acc = train_acc*100\n",
        "      val_acc = val_acc*100\n",
        "      print(f\"Epoch [{epoch + 1}/{epochs}] - TrainLoss: {train_loss:.4f}, ValLoss: {val_loss:.4f}, TrainAcc: {train_acc:.2f},% ValAcc: {val_acc:.2f}%\")\n",
        "\n",
        "  def evaluate(self, val_dl, pad_idx = 0):\n",
        "    losses = []\n",
        "    accuracies = []\n",
        "    with torch.no_grad():\n",
        "      for batch in val_dl:\n",
        "          text = batch[0]\n",
        "          output = batch[1]\n",
        "          output = output.transpose(0,1)\n",
        "          tags = output[0]\n",
        "          mask = output[1]\n",
        "          predictions = self.forward(text)\n",
        "          predictions = predictions.transpose(1,2)\n",
        "          loss = self.loss_fn(predictions, tags)\n",
        "          loss = (loss * mask).sum() / mask.sum()\n",
        "          losses.append(loss)\n",
        "          acc = self.categorical_accuracy(predictions, tags, mask, pad_idx)\n",
        "          accuracies.append(acc)\n",
        "    return torch.Tensor(losses).mean(), torch.Tensor(accuracies).mean()"
      ]
    },
    {
      "cell_type": "code",
      "execution_count": null,
      "metadata": {
        "id": "xc51Oh8ajpEO"
      },
      "outputs": [],
      "source": [
        "class OETagger(Model):\n",
        "    def __init__(self, vocab, embeds, hidden, tagset, n_layers, dropout, criterion, pad_idx = 0):\n",
        "        super().__init__()\n",
        "\n",
        "        self.embedding = nn.Embedding(vocab, embeds, padding_idx = pad_idx, scale_grad_by_freq = True)\n",
        "\n",
        "        self.lstm = nn.LSTM(embeds, hidden, num_layers = n_layers, bidirectional = True,\n",
        "                            dropout = dropout if n_layers > 1 else 0)\n",
        "\n",
        "        self.lin = nn.Linear(hidden * 2, tagset)\n",
        "\n",
        "        self.dropout = nn.Dropout(dropout)\n",
        "\n",
        "        self.loss_fn = criterion\n",
        "\n",
        "    def forward(self, sent):\n",
        "        x = self.embedding(sent)\n",
        "        x, (hidden, cell) = self.lstm(x)\n",
        "        x = self.lin(self.dropout(x))\n",
        "        return x"
      ]
    },
    {
      "cell_type": "code",
      "execution_count": null,
      "metadata": {
        "id": "HpDNtwPZjtRs"
      },
      "outputs": [],
      "source": [
        "vocab = len(allwords)+1\n",
        "n_emb = 300\n",
        "n_hidden = 60\n",
        "n_tags = len(alltags)+1\n",
        "n_layers = 3\n",
        "dropout = .2\n",
        "pad_idx = 0\n",
        "criterion = nn.CrossEntropyLoss(reduction = 'none', ignore_index = pad_idx).to(device)"
      ]
    },
    {
      "cell_type": "code",
      "execution_count": null,
      "metadata": {
        "id": "DmjssqHyjxLo"
      },
      "outputs": [],
      "source": [
        "network_OETagger = OETagger(vocab, n_emb, n_hidden, n_tags, n_layers, dropout, criterion, pad_idx).to(device)"
      ]
    },
    {
      "cell_type": "code",
      "execution_count": null,
      "metadata": {
        "colab": {
          "base_uri": "https://localhost:8080/"
        },
        "id": "R6pda2Dwjzwe",
        "outputId": "d576d0a4-8c94-4df2-8329-e5e0031870b7"
      },
      "outputs": [
        {
          "name": "stdout",
          "output_type": "stream",
          "text": [
            "Epoch [1/20] - TrainLoss: 0.0293, ValLoss: 0.0337, TrainAcc: 90.22,% ValAcc: 88.76%\n",
            "Epoch [2/20] - TrainLoss: 0.0219, ValLoss: 0.0288, TrainAcc: 92.40,% ValAcc: 90.31%\n",
            "Epoch [3/20] - TrainLoss: 0.0186, ValLoss: 0.0276, TrainAcc: 93.37,% ValAcc: 90.89%\n",
            "Early stopping counter: 1 out of 3\n",
            "Epoch [4/20] - TrainLoss: 0.0168, ValLoss: 0.0278, TrainAcc: 93.84,% ValAcc: 91.06%\n",
            "Early stopping counter: 2 out of 3\n",
            "Epoch [5/20] - TrainLoss: 0.0157, ValLoss: 0.0281, TrainAcc: 94.14,% ValAcc: 91.20%\n",
            "Early stopping counter: 3 out of 3\n",
            "CPU times: user 2min 17s, sys: 51.3 s, total: 3min 8s\n",
            "Wall time: 3min 9s\n"
          ]
        }
      ],
      "source": [
        "%time network_OETagger.fit(train_loader, test_loader, 20)"
      ]
    },
    {
      "cell_type": "code",
      "execution_count": null,
      "metadata": {
        "colab": {
          "base_uri": "https://localhost:8080/",
          "height": 449
        },
        "id": "HOP1DYrij3lN",
        "outputId": "2156c493-f4a0-4765-de0e-5212598f73b4"
      },
      "outputs": [
        {
          "data": {
            "image/png": "[encoded data removed]",
            "text/plain": [
              "<Figure size 640x480 with 1 Axes>"
            ]
          },
          "metadata": {},
          "output_type": "display_data"
        }
      ],
      "source": [
        "epochs = range(1, len(network_OETagger.trainlosses) + 1)\n",
        "\n",
        "plt.plot(epochs, network_OETagger.trainlosses, 'blue', label='Training loss')\n",
        "plt.plot(epochs, network_OETagger.vallosses, 'red', label='Validation loss')\n",
        "plt.xlabel('Epochs')\n",
        "plt.ylabel('Loss')\n",
        "plt.legend()\n",
        "plt.show()"
      ]
    },
    {
      "cell_type": "code",
      "execution_count": null,
      "metadata": {
        "colab": {
          "base_uri": "https://localhost:8080/",
          "height": 449
        },
        "id": "R4IUgQ3VlQpv",
        "outputId": "e2a061be-bda1-4e65-a65b-baeff27cdf6b"
      },
      "outputs": [
        {
          "data": {
            "image/png": "[encoded data removed]",
            "text/plain": [
              "<Figure size 640x480 with 1 Axes>"
            ]
          },
          "metadata": {},
          "output_type": "display_data"
        }
      ],
      "source": [
        "epochs = range(1, len(network_OETagger.train_accs) + 1)\n",
        "\n",
        "plt.plot(epochs, network_OETagger.train_accs, 'blue', label='Training Acc')\n",
        "plt.plot(epochs, network_OETagger.val_accs, 'red', label='Validation Acc')\n",
        "plt.xlabel('Epochs')\n",
        "plt.ylabel('Acc')\n",
        "plt.legend()\n",
        "plt.show()"
      ]
    },
    {
      "cell_type": "code",
      "execution_count": null,
      "metadata": {
        "id": "b4H-CjEomCc8"
      },
      "outputs": [],
      "source": [
        "def predict(model, data, pad_idx):\n",
        "    with torch.no_grad():\n",
        "      predicts_out = []\n",
        "      tags_out = []\n",
        "      text_out = []\n",
        "      for batch in data:\n",
        "        text = batch[0]\n",
        "        output = batch[1]\n",
        "        output = output.transpose(0,1)\n",
        "        tags = output[0]\n",
        "        mask = output[1]\n",
        "        predictions = model.forward(text)\n",
        "        predictions = predictions.transpose(1,2)\n",
        "        predictions = predictions.argmax(dim = 1)\n",
        "        for idx, sent in enumerate(text):\n",
        "          predicts_out.append(np.array(predictions[idx].cpu()))\n",
        "          tags_out.append(np.array(tags[idx].cpu()))\n",
        "          text_out.append(np.array(sent.cpu()))\n",
        "    for idx, ele in enumerate(predicts_out):\n",
        "      predicts_out[idx] = predicts_out[idx].tolist()\n",
        "    for idx, ele in enumerate(tags_out):\n",
        "      tags_out[idx] = tags_out[idx].tolist()\n",
        "    for idx, ele in enumerate(text_out):\n",
        "      text_out[idx] = text_out[idx].tolist()\n",
        "\n",
        "    return predicts_out, tags_out, text_out"
      ]
    },
    {
      "cell_type": "code",
      "execution_count": null,
      "metadata": {
        "id": "zZUWAaHgmDYy"
      },
      "outputs": [],
      "source": [
        "preds, tags, texts = predict(network_OETagger, test_loader, pad_idx)"
      ]
    },
    {
      "cell_type": "code",
      "execution_count": null,
      "metadata": {
        "colab": {
          "base_uri": "https://localhost:8080/"
        },
        "id": "vS7LmDAwSlzI",
        "outputId": "0fcf811c-77ae-460a-e7d7-92e85a3c8dec"
      },
      "outputs": [
        {
          "name": "stdout",
          "output_type": "stream",
          "text": [
            "[10, 3, 19, 10, 10, 10, 3, 19, 3, 10, 19, 10, 3, 3, 19, 19, 19, 19, 19, 19, 19, 19, 10, 3, 3, 3, 3, 10, 19, 3, 10, 19, 10, 3, 19, 19, 3, 19, 3, 3, 3, 19, 19, 19, 10, 19, 19, 10, 11, 7, 4, 1, 11, 10, 10, 3, 3, 10, 4, 19, 14, 12, 4, 19, 10, 19, 11, 3, 7, 12, 14, 10, 14, 3, 19, 19, 10, 3, 19, 19, 19, 19, 19, 10, 10, 19, 10, 3, 19, 19, 10, 19, 19, 10, 19, 19, 3, 3, 10, 3, 10, 19, 3, 19, 19, 19, 19, 3, 19, 19, 19, 19, 19, 10, 19, 19, 3, 19, 10, 3, 19, 19, 19, 19, 19]\n",
            "[0, 0, 0, 0, 0, 0, 0, 0, 0, 0, 0, 0, 0, 0, 0, 0, 0, 0, 0, 0, 0, 0, 0, 0, 0, 0, 0, 0, 0, 0, 0, 0, 0, 0, 0, 0, 0, 0, 0, 0, 0, 0, 0, 0, 0, 0, 0, 0, 17, 7, 4, 1, 11, 10, 10, 16, 3, 10, 4, 19, 14, 12, 4, 19, 10, 19, 3, 16, 7, 12, 4, 10, 4, 3, 19, 16, 18, 0, 0, 0, 0, 0, 0, 0, 0, 0, 0, 0, 0, 0, 0, 0, 0, 0, 0, 0, 0, 0, 0, 0, 0, 0, 0, 0, 0, 0, 0, 0, 0, 0, 0, 0, 0, 0, 0, 0, 0, 0, 0, 0, 0, 0, 0, 0, 0]\n"
          ]
        }
      ],
      "source": [
        "print(preds[0])\n",
        "print(tags[0])"
      ]
    },
    {
      "cell_type": "code",
      "execution_count": null,
      "metadata": {
        "id": "Sqe4GfuLRwiq"
      },
      "outputs": [],
      "source": [
        "for i in range(len(preds)):\n",
        "  for j in range(len(preds[i])):\n",
        "    if tags[i][j] == 0:\n",
        "      preds[i][j] = 0\n",
        "  preds[i] = [ele for ele in preds[i] if ele != 0]\n",
        "  tags[i] = [ele for ele in tags[i] if ele != 0]\n",
        "  texts[i] = [ele for ele in texts[i] if ele != 0]"
      ]
    },
    {
      "cell_type": "code",
      "execution_count": null,
      "metadata": {
        "id": "5JNt8Ue6R1yC"
      },
      "outputs": [],
      "source": [
        "decpreds, dectags, dectext, declangs = [], [], [], []\n",
        "decpreds.append(tokenize(preds, tag_decoder))\n",
        "dectags.append(tokenize(tags, tag_decoder))\n",
        "dectext.append(tokenize(texts, word_decoder))\n",
        "decpreds = decpreds[0]\n",
        "dectags = dectags[0]\n",
        "dectext = dectext[0]"
      ]
    },
    {
      "cell_type": "code",
      "execution_count": null,
      "metadata": {
        "colab": {
          "base_uri": "https://localhost:8080/"
        },
        "id": "6Q7O4sGNmMe_",
        "outputId": "ddee7e65-f170-4cbf-b5e9-7cb6eddadbfd"
      },
      "outputs": [
        {
          "name": "stdout",
          "output_type": "stream",
          "text": [
            "['ADV', 'CONJ', 'D', 'Q', 'ADV', 'VB', 'VB', 'ADJ', 'ADJ', 'VB', 'D', 'N', 'C', 'P', 'D', 'N', 'VB', 'N', 'ADV', 'ADJ', 'CONJ', 'P', 'C', 'VB', 'C', 'ADJ', 'N', 'N', 'VB']\n",
            "['start', 'CONJ', 'D', 'Q', 'ADV', 'VB', 'VB', 'PUNCT', 'ADJ', 'VB', 'D', 'N', 'C', 'P', 'D', 'N', 'VB', 'N', 'ADJ', 'PUNCT', 'CONJ', 'P', 'D', 'VB', 'D', 'ADJ', 'N', 'PUNCT', 'stop']\n",
            "['start', 'and', '+t+as', 'ealles', 'swi+te', 'wundrigende', 'cw+a+d', ',', 'Eadige', 'synd', '+tas', 'weras', '+te', 'on', '+tisse', 'worulde', 'syndon', 'englum', 'gelice', ',', 'and', '+turh', '+t+at', 'begita+d', '+t+at', 'ece', 'lif', '.', 'stop']\n"
          ]
        }
      ],
      "source": [
        "print(decpreds[0])\n",
        "print(dectags[0])\n",
        "print(dectext[0])"
      ]
    },
    {
      "cell_type": "code",
      "execution_count": null,
      "metadata": {
        "id": "E8jaBu5pmOS1"
      },
      "outputs": [],
      "source": [
        "in_set_vocab = []\n",
        "for batch in train_loader:\n",
        "  texts = batch[0]\n",
        "  for sent in texts:\n",
        "    sent = sent.tolist()\n",
        "    sent = [ele for ele in sent if ele != 0]\n",
        "    x = []\n",
        "    for i in sent:\n",
        "      x.append([i])\n",
        "    x = tokenize(x, word_decoder)\n",
        "    for word in x:\n",
        "      in_set_vocab.append(word)\n",
        "in_set_vocab = set([x for y in in_set_vocab for x in y])"
      ]
    },
    {
      "cell_type": "code",
      "execution_count": null,
      "metadata": {
        "colab": {
          "base_uri": "https://localhost:8080/"
        },
        "id": "EW7WRc_CmTf1",
        "outputId": "ec8d3560-85cc-48aa-c68a-c82f1664ee6b"
      },
      "outputs": [
        {
          "name": "stdout",
          "output_type": "stream",
          "text": [
            "Total Accuracy:\n",
            "N | 93.76% of 63929\n",
            "VB | 91.94% of 54609\n",
            "PUNCT | 0% of 37861\n",
            "P | 89.00% of 31121\n",
            "PRO | 94.80% of 25662\n",
            "D | 84.08% of 24322\n",
            "start | 0% of 22532\n",
            "stop | 0% of 22532\n",
            "ADV | 84.63% of 21970\n",
            "CONJ | 94.11% of 20561\n",
            "ADJ | 85.48% of 15059\n",
            "C | 95.79% of 9604\n",
            "PRO$ | 97.28% of 7323\n",
            "Q | 95.18% of 7310\n",
            "NUM | 94.88% of 2889\n",
            "XX | 0% of 2644\n",
            "NEG | 99.96% of 2430\n",
            "PART | 64.08% of 1264\n",
            "WH | 90.71% of 732\n",
            "INTJ | 87.88% of 231\n"
          ]
        }
      ],
      "source": [
        "corrects, incorrects, totals = [], [], []\n",
        "uk_corrects, uk_incorrects, uk_totals = [], [], []\n",
        "for i in range(len(decpreds)):\n",
        "  for j in range(len(decpreds[i])):\n",
        "    totals.append(dectags[i][j])\n",
        "    if decpreds[i][j] == dectags[i][j]:\n",
        "      corrects.append(decpreds[i][j])\n",
        "    else:\n",
        "      incorrects.append(decpreds[i][j])\n",
        "    if dectext[i][j] not in in_set_vocab:\n",
        "      uk_totals.append(dectags[i][j])\n",
        "      if decpreds[i][j] == dectags[i][j]:\n",
        "        uk_corrects.append(decpreds[i][j])\n",
        "      else:\n",
        "        uk_incorrects.append(decpreds[i][j])\n",
        "\n",
        "c_freqs = Counter(corrects)\n",
        "ic_freqs = Counter(incorrects)\n",
        "t_freqs = Counter(totals)\n",
        "uk_c_freqs = Counter(uk_corrects)\n",
        "uk_ic_freqs = Counter(uk_incorrects)\n",
        "uk_t_freqs = Counter(uk_totals)\n",
        "\n",
        "print('Total Accuracy:')\n",
        "data = []\n",
        "labels = []\n",
        "any_c = [x[0] for x in c_freqs.most_common()]\n",
        "for i in t_freqs.most_common():\n",
        "  if i[0] not in any_c:\n",
        "    data.append(0)\n",
        "    labels.append(i[0])\n",
        "    print(f'{i[0]} | 0% of {i[1]}')\n",
        "  else:\n",
        "    for ele in c_freqs.most_common():\n",
        "      if ele[0] == i[0]:\n",
        "        num_c = ele[1]\n",
        "    class_acc = num_c/i[1]\n",
        "    data.append(class_acc*100)\n",
        "    labels.append(i[0])\n",
        "    print(f'{i[0]} | {class_acc*100:.2f}% of {i[1]}')"
      ]
    },
    {
      "cell_type": "code",
      "execution_count": null,
      "metadata": {
        "id": "IFOEUvfxYBRy"
      },
      "outputs": [],
      "source": [
        "plot_list = ['N', 'VB', 'P', 'PRO', 'D', 'ADV', 'CONJ', 'ADJ', 'C', 'PRO$', 'Q', 'NUM', 'NEG', 'PART', 'WH', 'INTJ']"
      ]
    },
    {
      "cell_type": "code",
      "execution_count": null,
      "metadata": {
        "colab": {
          "base_uri": "https://localhost:8080/"
        },
        "id": "VkoNJCct-MPR",
        "outputId": "ac556937-c2b6-41a0-a244-7176b57cb355"
      },
      "outputs": [
        {
          "name": "stdout",
          "output_type": "stream",
          "text": [
            "['N', 'VB', 'PUNCT', 'P', 'PRO', 'D', 'start', 'stop', 'ADV', 'CONJ', 'ADJ', 'C', 'PRO$', 'Q', 'NUM', 'XX', 'NEG', 'PART', 'WH', 'INTJ']\n"
          ]
        }
      ],
      "source": [
        "print(labels)"
      ]
    },
    {
      "cell_type": "code",
      "execution_count": null,
      "metadata": {
        "colab": {
          "base_uri": "https://localhost:8080/",
          "height": 607
        },
        "id": "ujL1i8OuqXXl",
        "outputId": "b130093e-e690-4a2c-e02f-eb4f4ad71980"
      },
      "outputs": [
        {
          "data": {
            "image/png": "[encoded data removed]",
            "text/plain": [
              "<Figure size 1000x600 with 1 Axes>"
            ]
          },
          "metadata": {},
          "output_type": "display_data"
        }
      ],
      "source": [
        "plot_data = []\n",
        "plot_labels = []\n",
        "for label, value in zip(labels, data):\n",
        "    if label in plot_list:\n",
        "        plot_data.append(value)\n",
        "        plot_labels.append(label)\n",
        "\n",
        "plt.figure(figsize=(10, 6))\n",
        "plt.bar(plot_labels, plot_data)\n",
        "plt.xlabel(\"POS Tags\")\n",
        "plt.ylabel(\"Accuracy (%)\")\n",
        "plt.title(\"Accuracy per POS Tag\")\n",
        "plt.xticks(rotation=45, ha='right')\n",
        "for i, v in enumerate(plot_data):\n",
        "    plt.text(i, v + 1, f\"{v:.2f}%\", ha='center', va='bottom')\n",
        "\n",
        "plt.tight_layout()\n",
        "plt.show()\n"
      ]
    }
  ],
  "metadata": {
    "accelerator": "GPU",
    "colab": {
      "gpuType": "T4",
      "machine_shape": "hm",
      "provenance": []
    },
    "kernelspec": {
      "display_name": "Python 3",
      "name": "python3"
    },
    "language_info": {
      "name": "python"
    }
  },
  "nbformat": 4,
  "nbformat_minor": 0
}
