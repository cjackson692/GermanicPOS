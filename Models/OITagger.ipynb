{
  "cells": [
    {
      "cell_type": "code",
      "execution_count": null,
      "metadata": {
        "id": "VMGp9ag-BtMj"
      },
      "outputs": [],
      "source": [
        "import torch\n",
        "import torch.nn as nn\n",
        "import torch.optim as optim\n",
        "import spacy\n",
        "import numpy as np\n",
        "import time\n",
        "import random\n",
        "from collections import Counter\n",
        "from sklearn.model_selection import train_test_split\n",
        "from torch.utils.data import TensorDataset, DataLoader\n",
        "import tensorflow as tf\n",
        "import matplotlib.pyplot as plt\n",
        "import math\n",
        "import pandas as pd"
      ]
    },
    {
      "cell_type": "code",
      "execution_count": null,
      "metadata": {
        "colab": {
          "base_uri": "https://localhost:8080/"
        },
        "id": "4jNr589HBv7n",
        "outputId": "19d8bb42-e85c-4e1f-86b5-5b2996fa2578"
      },
      "outputs": [
        {
          "name": "stdout",
          "output_type": "stream",
          "text": [
            "Script is running with GPU\n"
          ]
        }
      ],
      "source": [
        "if torch.cuda.is_available():\n",
        "    device = torch.device(\"cuda\")\n",
        "    print('Script is running with GPU')\n",
        "else:\n",
        "  device = torch.device(\"cpu\")\n",
        "  print('Script is running WITHOUT GPU')"
      ]
    },
    {
      "cell_type": "code",
      "execution_count": null,
      "metadata": {
        "id": "vSGKKyomByIn"
      },
      "outputs": [],
      "source": [
        "sents = list(np.load('OI_sents.npy', allow_pickle=True))\n",
        "tags = list(np.load('OI_tags_minimal.npy', allow_pickle=True))\n",
        "problems = []\n",
        "#sents = sents[:500]\n",
        "#tags = tags[:500]"
      ]
    },
    {
      "cell_type": "code",
      "execution_count": null,
      "metadata": {
        "id": "Qhb9N3rAB6YM"
      },
      "outputs": [],
      "source": [
        "for idx, sent in enumerate(sents):\n",
        "  sent.insert(0, 'start')\n",
        "  sent.append('stop')\n",
        "  sents[idx] = sent\n",
        "for idx, sent in enumerate(tags):\n",
        "  sent.insert(0, 'start')\n",
        "  sent.append('stop')\n",
        "  tags[idx] = sent\n",
        "for idx, sent in enumerate(tags):\n",
        "  if 'XX' in sent:\n",
        "    problems.append(idx)"
      ]
    },
    {
      "cell_type": "code",
      "execution_count": null,
      "metadata": {
        "id": "M-UuX3k4CRRU"
      },
      "outputs": [],
      "source": [
        "rawwords = []\n",
        "for sent in sents:\n",
        "  for word in sent:\n",
        "    rawwords.append(word)\n",
        "\n",
        "rawtags = []\n",
        "for sequence in tags:\n",
        "  for tag in sequence:\n",
        "    rawtags.append(tag)"
      ]
    },
    {
      "cell_type": "code",
      "execution_count": null,
      "metadata": {
        "id": "XldbNrfKCT7U"
      },
      "outputs": [],
      "source": [
        "allwords = list(set(rawwords))\n",
        "alltags = list(set(rawtags))"
      ]
    },
    {
      "cell_type": "code",
      "execution_count": null,
      "metadata": {
        "colab": {
          "base_uri": "https://localhost:8080/"
        },
        "id": "jVCulph8CFGI",
        "outputId": "b09d8d1f-0dbf-4323-edde-e41f31221cdf"
      },
      "outputs": [
        {
          "data": {
            "text/plain": [
              "{'ADJ',\n",
              " 'ADV',\n",
              " 'C',\n",
              " 'CONJ',\n",
              " 'D',\n",
              " 'INTJ',\n",
              " 'N',\n",
              " 'NEG',\n",
              " 'NUM',\n",
              " 'P',\n",
              " 'PART',\n",
              " 'PRO',\n",
              " 'PUNCT',\n",
              " 'Q',\n",
              " 'VB',\n",
              " 'WH',\n",
              " 'XX',\n",
              " 'start',\n",
              " 'stop'}"
            ]
          },
          "execution_count": 8,
          "metadata": {},
          "output_type": "execute_result"
        }
      ],
      "source": [
        "set(rawtags)"
      ]
    },
    {
      "cell_type": "code",
      "execution_count": null,
      "metadata": {
        "colab": {
          "base_uri": "https://localhost:8080/"
        },
        "id": "ujz_UD_hXpGM",
        "outputId": "7055e41d-5d36-4445-f3a9-61997b4e56ea"
      },
      "outputs": [
        {
          "name": "stdout",
          "output_type": "stream",
          "text": [
            "331823\n",
            "21847\n"
          ]
        }
      ],
      "source": [
        "print(len(rawtags))\n",
        "print(len(sents))"
      ]
    },
    {
      "cell_type": "code",
      "execution_count": null,
      "metadata": {
        "id": "0lHYaW1mCXNC"
      },
      "outputs": [],
      "source": [
        "word_tokenizer = {word: idx+1 for idx, word in enumerate(allwords)}\n",
        "word_decoder = {idx+1: word for idx, word in enumerate(allwords)}\n",
        "tag_tokenizer = {tag: idx+1 for idx, tag in enumerate(alltags)}\n",
        "tag_decoder = {idx+1: tag for idx, tag in enumerate(alltags)}\n",
        "\n",
        "def tokenize(sentences, tokenizer):\n",
        "  indexed_sentences = []\n",
        "  for sentence in sentences:\n",
        "    indexed_sentence = [tokenizer[word] for word in sentence]\n",
        "    indexed_sentences.append(indexed_sentence)\n",
        "  return indexed_sentences\n",
        "\n",
        "encsents = tokenize(sents, word_tokenizer)\n",
        "enctags = tokenize(tags, tag_tokenizer)\n",
        "\n",
        "padsents, padtags = [], []\n",
        "\n",
        "maxlen = max(len(sublist) for sublist in encsents)\n",
        "for sublist in encsents:\n",
        "  while len(sublist) < maxlen:\n",
        "    sublist = sublist + [0]\n",
        "    if len(sublist) == maxlen:\n",
        "      break\n",
        "    sublist = [0] + sublist\n",
        "  padsents.append(sublist)\n",
        "allenctags = []\n",
        "maxlen = max(len(sublist) for sublist in enctags)\n",
        "for sublist in enctags:\n",
        "  for i in sublist:\n",
        "    allenctags.append(i)\n",
        "  while len(sublist) < maxlen:\n",
        "    sublist = sublist + [0]\n",
        "    if len(sublist) == maxlen:\n",
        "      break\n",
        "    sublist = [0] + sublist\n",
        "  padtags.append(sublist)"
      ]
    },
    {
      "cell_type": "code",
      "execution_count": null,
      "metadata": {
        "id": "QEL86wudpzrK"
      },
      "outputs": [],
      "source": []
    },
    {
      "cell_type": "code",
      "execution_count": null,
      "metadata": {
        "id": "8JbQFWsZnZHC"
      },
      "outputs": [],
      "source": [
        "tag_mask = []\n",
        "for seq in padtags:\n",
        "  mask = [1]*len(seq)\n",
        "  for idx, tag in enumerate(seq):\n",
        "    if tag == tag_tokenizer['XX']:\n",
        "      mask[idx] = 0\n",
        "    if tag == tag_tokenizer['PUNCT']:\n",
        "      mask[idx] = 0\n",
        "    if tag == tag_tokenizer['start']:\n",
        "      mask[idx] = 0\n",
        "    if tag == tag_tokenizer['stop']:\n",
        "      mask[idx] = 0\n",
        "  tag_mask.append(mask)"
      ]
    },
    {
      "cell_type": "code",
      "execution_count": null,
      "metadata": {
        "id": "4Y4f1bH1nbpt"
      },
      "outputs": [],
      "source": [
        "pad_tags_mask = []\n",
        "for i in range(len(padtags)):\n",
        "  pad_tags_mask.append([padtags[i], tag_mask[i]])"
      ]
    },
    {
      "cell_type": "code",
      "execution_count": null,
      "metadata": {
        "id": "icJ63bniCpuy"
      },
      "outputs": [],
      "source": [
        "X_test, X_train, y_test, y_train = train_test_split(padsents, pad_tags_mask, test_size=0.8)\n",
        "X_train_tensor = torch.tensor(X_train, dtype=torch.long).to(device)\n",
        "y_train_tensor = torch.tensor(y_train, dtype=torch.long).to(device)\n",
        "X_test_tensor = torch.tensor(X_test, dtype=torch.long).to(device)\n",
        "y_test_tensor = torch.tensor(y_test, dtype=torch.long).to(device)\n",
        "train_dataset = TensorDataset(X_train_tensor, y_train_tensor)\n",
        "test_dataset = TensorDataset(X_test_tensor, y_test_tensor)\n",
        "batch_size = 64\n",
        "train_loader = DataLoader(train_dataset, batch_size=batch_size)\n",
        "test_loader = DataLoader(test_dataset, batch_size=batch_size)"
      ]
    },
    {
      "cell_type": "code",
      "execution_count": null,
      "metadata": {
        "id": "eM-yLrO1Ct4g"
      },
      "outputs": [],
      "source": [
        "torch.save(train_loader, 'OITrain.pth')\n",
        "torch.save(test_loader, 'OITest.pth')"
      ]
    },
    {
      "cell_type": "code",
      "execution_count": null,
      "metadata": {
        "id": "BAOUciJCC5e2"
      },
      "outputs": [],
      "source": [
        "#train_loader = torch.load('OITrain.pth', map_location=device)\n",
        "#test_loader = torch.load('OITest.pth', map_location=device)"
      ]
    },
    {
      "cell_type": "code",
      "execution_count": null,
      "metadata": {
        "colab": {
          "base_uri": "https://localhost:8080/"
        },
        "id": "mhBXG2t4C-TU",
        "outputId": "c1adb8ce-3300-444b-f1ce-773207b22486"
      },
      "outputs": [
        {
          "name": "stdout",
          "output_type": "stream",
          "text": [
            "torch.Size([17478, 319])\n",
            "torch.Size([17478, 2, 319])\n",
            "torch.Size([4369, 319])\n",
            "torch.Size([4369, 2, 319])\n"
          ]
        }
      ],
      "source": [
        "print(X_train_tensor.size())\n",
        "print(y_train_tensor.size())\n",
        "print(X_test_tensor.size())\n",
        "print(y_test_tensor.size())"
      ]
    },
    {
      "cell_type": "code",
      "execution_count": null,
      "metadata": {
        "id": "z13fasAyDDou"
      },
      "outputs": [],
      "source": [
        "def calculate_class_weights(y):\n",
        "    unique_classes, class_counts = np.unique(y, return_counts=True)\n",
        "    print(unique_classes)\n",
        "    print(class_counts)\n",
        "    total_samples = len(y)\n",
        "    class_weights = []\n",
        "    class_weights.append(1)\n",
        "\n",
        "    for class_label, class_count in zip(unique_classes, class_counts):\n",
        "        class_weight = math.log(total_samples / (class_count))\n",
        "        class_weights.append(class_weight)\n",
        "\n",
        "    class_weights = torch.tensor(class_weights, dtype=torch.float32).to(device)\n",
        "\n",
        "    return class_weights"
      ]
    },
    {
      "cell_type": "code",
      "execution_count": null,
      "metadata": {
        "colab": {
          "base_uri": "https://localhost:8080/"
        },
        "id": "X03BMluYDFaC",
        "outputId": "29d56e3b-a922-4ad9-b78b-79554d05b4f0"
      },
      "outputs": [
        {
          "name": "stdout",
          "output_type": "stream",
          "text": [
            "[ 1  2  3  4  5  6  7  8  9 10 11 12 13 14 15 16 17 18 19]\n",
            "[ 5671  9180 21847 30869 56928 21847 25561 11502  4863  2635 55459  3789\n",
            "   664 31502 19099 12237 17001  1126    43]\n",
            "Class weights: tensor([1.0000, 4.0692, 3.5876, 2.7205, 2.3748, 1.7628, 2.7205, 2.5635, 3.3621,\n",
            "        4.2229, 4.8357, 1.7890, 4.4725, 6.2141, 2.3546, 2.8550, 3.3001, 2.9713,\n",
            "        5.6859, 8.9512], device='cuda:0')\n",
            "20\n",
            "20\n"
          ]
        }
      ],
      "source": [
        "class_weights = calculate_class_weights(allenctags)\n",
        "print(\"Class weights:\", class_weights)\n",
        "print(len(class_weights))\n",
        "print(len(alltags)+1)"
      ]
    },
    {
      "cell_type": "code",
      "execution_count": null,
      "metadata": {
        "id": "RJSXbDoAjdZe"
      },
      "outputs": [],
      "source": [
        "class Model(nn.Module):\n",
        "  def __init__(self):\n",
        "    super().__init__()\n",
        "\n",
        "  def categorical_accuracy(self, preds, y, mask, tag_pad_idx = 0):\n",
        "    max_preds = preds.argmax(dim = 1, keepdim = False)\n",
        "    max_preds = max_preds*mask\n",
        "    y = y*mask\n",
        "    max_preds = torch.flatten(max_preds)\n",
        "    y = torch.flatten(y)\n",
        "    non_pad_elements = y.nonzero()\n",
        "    correct = max_preds[non_pad_elements].eq(y[non_pad_elements])\n",
        "    return correct.sum() / y[non_pad_elements].shape[0]\n",
        "\n",
        "  def early_stop(self, validation_loss, patience = 3, min_delta = 0):\n",
        "    if validation_loss < self.min_validation_loss:\n",
        "        self.min_validation_loss = validation_loss\n",
        "        self.patiencecount = 0\n",
        "    elif validation_loss > (self.min_validation_loss + min_delta):\n",
        "        self.patiencecount += 1\n",
        "        print(f\"Early stopping counter: {self.patiencecount} out of {patience}\")\n",
        "        if self.patiencecount >= patience:\n",
        "            return True\n",
        "    return False\n",
        "\n",
        "  def fit(self, train_dl, val_dl, epochs, pad_idx = 0):\n",
        "    optimizer = torch.optim.Adam(self.parameters(), lr = 0.001)\n",
        "\n",
        "    self.patiencecount = 0\n",
        "    self.min_validation_loss = float('inf')\n",
        "\n",
        "    self.trainlosses = []\n",
        "    self.vallosses = []\n",
        "\n",
        "    self.train_accs = []\n",
        "    self.val_accs = []\n",
        "\n",
        "    counter = 0\n",
        "    for epoch in range(epochs):\n",
        "      for batch in train_dl:\n",
        "        counter += 1\n",
        "        text = batch[0]\n",
        "\n",
        "        output = batch[1]\n",
        "        output = output.transpose(0,1)\n",
        "        tags = output[0]\n",
        "        mask = output[1]\n",
        "        optimizer.zero_grad()\n",
        "        predictions = self.forward(text)\n",
        "        predictions = predictions.transpose(1,2)\n",
        "        loss = self.loss_fn(predictions, tags)\n",
        "        loss = (loss * mask).sum() / mask.sum()\n",
        "        loss.backward()\n",
        "        optimizer.step()\n",
        "      train_loss, train_acc = self.evaluate(train_dl)\n",
        "      val_loss, val_acc = self.evaluate(val_dl)\n",
        "      self.trainlosses.append(train_loss)\n",
        "      self.vallosses.append(val_loss)\n",
        "      self.train_accs.append(train_acc)\n",
        "      self.val_accs.append(val_acc)\n",
        "      if self.early_stop(val_loss):\n",
        "        break\n",
        "      train_acc = train_acc*100\n",
        "      val_acc = val_acc*100\n",
        "      print(f\"Epoch [{epoch + 1}/{epochs}] - TrainLoss: {train_loss:.4f}, ValLoss: {val_loss:.4f}, TrainAcc: {train_acc:.2f},% ValAcc: {val_acc:.2f}%\")\n",
        "\n",
        "  def evaluate(self, val_dl, pad_idx = 0):\n",
        "    losses = []\n",
        "    accuracies = []\n",
        "    with torch.no_grad():\n",
        "      for batch in val_dl:\n",
        "          text = batch[0]\n",
        "          output = batch[1]\n",
        "          output = output.transpose(0,1)\n",
        "          tags = output[0]\n",
        "          mask = output[1]\n",
        "          predictions = self.forward(text)\n",
        "          predictions = predictions.transpose(1,2)\n",
        "          loss = self.loss_fn(predictions, tags)\n",
        "          loss = (loss * mask).sum() / mask.sum()\n",
        "          losses.append(loss)\n",
        "          acc = self.categorical_accuracy(predictions, tags, mask, pad_idx)\n",
        "          accuracies.append(acc)\n",
        "    return torch.Tensor(losses).mean(), torch.Tensor(accuracies).mean()"
      ]
    },
    {
      "cell_type": "code",
      "execution_count": null,
      "metadata": {
        "id": "xc51Oh8ajpEO"
      },
      "outputs": [],
      "source": [
        "class OITagger(Model):\n",
        "    def __init__(self, vocab, embeds, hidden, tagset, n_layers, dropout, criterion, pad_idx = 0):\n",
        "        super().__init__()\n",
        "\n",
        "        self.embedding = nn.Embedding(vocab, embeds, padding_idx = pad_idx, scale_grad_by_freq = True)\n",
        "\n",
        "        self.lstm = nn.LSTM(embeds, hidden, num_layers = n_layers, bidirectional = True,\n",
        "                            dropout = dropout if n_layers > 1 else 0)\n",
        "\n",
        "        self.lin = nn.Linear(hidden * 2, tagset)\n",
        "\n",
        "        self.dropout = nn.Dropout(dropout)\n",
        "\n",
        "        self.loss_fn = criterion\n",
        "\n",
        "    def forward(self, sent):\n",
        "        x = self.embedding(sent)\n",
        "        x, (hidden, cell) = self.lstm(x)\n",
        "        x = self.lin(self.dropout(x))\n",
        "        return x"
      ]
    },
    {
      "cell_type": "code",
      "execution_count": null,
      "metadata": {
        "id": "HpDNtwPZjtRs"
      },
      "outputs": [],
      "source": [
        "vocab = len(allwords)+1\n",
        "n_emb = 300\n",
        "n_hidden = 60\n",
        "n_tags = len(alltags)+1\n",
        "n_layers = 3\n",
        "dropout = .2\n",
        "pad_idx = 0\n",
        "criterion = nn.CrossEntropyLoss(reduction = 'none', ignore_index = pad_idx).to(device)"
      ]
    },
    {
      "cell_type": "code",
      "execution_count": null,
      "metadata": {
        "id": "DmjssqHyjxLo"
      },
      "outputs": [],
      "source": [
        "network_OITagger = OITagger(vocab, n_emb, n_hidden, n_tags, n_layers, dropout, criterion, pad_idx).to(device)"
      ]
    },
    {
      "cell_type": "code",
      "execution_count": null,
      "metadata": {
        "colab": {
          "base_uri": "https://localhost:8080/"
        },
        "id": "R6pda2Dwjzwe",
        "outputId": "7049d461-a489-45a6-ff1a-e8f513686a19"
      },
      "outputs": [
        {
          "name": "stdout",
          "output_type": "stream",
          "text": [
            "Epoch [1/20] - TrainLoss: 0.0179, ValLoss: 0.0195, TrainAcc: 85.41,% ValAcc: 84.04%\n",
            "Epoch [2/20] - TrainLoss: 0.0117, ValLoss: 0.0146, TrainAcc: 90.01,% ValAcc: 87.46%\n",
            "Epoch [3/20] - TrainLoss: 0.0093, ValLoss: 0.0134, TrainAcc: 91.95,% ValAcc: 88.58%\n",
            "Epoch [4/20] - TrainLoss: 0.0081, ValLoss: 0.0133, TrainAcc: 92.90,% ValAcc: 88.95%\n",
            "Early stopping counter: 1 out of 3\n",
            "Epoch [5/20] - TrainLoss: 0.0074, ValLoss: 0.0133, TrainAcc: 93.37,% ValAcc: 88.93%\n",
            "Early stopping counter: 2 out of 3\n",
            "Epoch [6/20] - TrainLoss: 0.0068, ValLoss: 0.0135, TrainAcc: 93.73,% ValAcc: 89.08%\n",
            "Early stopping counter: 3 out of 3\n",
            "CPU times: user 45.8 s, sys: 12.4 s, total: 58.2 s\n",
            "Wall time: 1min 2s\n"
          ]
        }
      ],
      "source": [
        "%time network_OITagger.fit(train_loader, test_loader, 20)"
      ]
    },
    {
      "cell_type": "code",
      "execution_count": null,
      "metadata": {
        "colab": {
          "base_uri": "https://localhost:8080/",
          "height": 452
        },
        "id": "HOP1DYrij3lN",
        "outputId": "a46b1cce-298f-4170-f392-a1ef0c5d42ce"
      },
      "outputs": [
        {
          "data": {
            "image/png": "[encoded data removed]",
            "text/plain": [
              "<Figure size 640x480 with 1 Axes>"
            ]
          },
          "metadata": {},
          "output_type": "display_data"
        }
      ],
      "source": [
        "epochs = range(1, len(network_OITagger.trainlosses) + 1)\n",
        "\n",
        "plt.plot(epochs, network_OITagger.trainlosses, 'blue', label='Training loss')\n",
        "plt.plot(epochs, network_OITagger.vallosses, 'red', label='Validation loss')\n",
        "plt.xlabel('Epochs')\n",
        "plt.ylabel('Loss')\n",
        "plt.legend()\n",
        "plt.show()"
      ]
    },
    {
      "cell_type": "code",
      "execution_count": null,
      "metadata": {
        "colab": {
          "base_uri": "https://localhost:8080/",
          "height": 449
        },
        "id": "R4IUgQ3VlQpv",
        "outputId": "ba59eef5-c31b-4881-d788-3db6d57fac51"
      },
      "outputs": [
        {
          "data": {
            "image/png": "[encoded data removed]",
            "text/plain": [
              "<Figure size 640x480 with 1 Axes>"
            ]
          },
          "metadata": {},
          "output_type": "display_data"
        }
      ],
      "source": [
        "epochs = range(1, len(network_OITagger.train_accs) + 1)\n",
        "\n",
        "plt.plot(epochs, network_OITagger.train_accs, 'blue', label='Training Acc')\n",
        "plt.plot(epochs, network_OITagger.val_accs, 'red', label='Validation Acc')\n",
        "plt.xlabel('Epochs')\n",
        "plt.ylabel('Acc')\n",
        "plt.legend()\n",
        "plt.show()"
      ]
    },
    {
      "cell_type": "code",
      "execution_count": null,
      "metadata": {
        "id": "b4H-CjEomCc8"
      },
      "outputs": [],
      "source": [
        "def predict(model, data, pad_idx):\n",
        "    with torch.no_grad():\n",
        "      predicts_out = []\n",
        "      tags_out = []\n",
        "      text_out = []\n",
        "      for batch in data:\n",
        "        text = batch[0]\n",
        "        output = batch[1]\n",
        "        output = output.transpose(0,1)\n",
        "        tags = output[0]\n",
        "        mask = output[1]\n",
        "        predictions = model.forward(text)\n",
        "        predictions = predictions.transpose(1,2)\n",
        "        predictions = predictions.argmax(dim = 1)\n",
        "        for idx, sent in enumerate(text):\n",
        "          predicts_out.append(np.array(predictions[idx].cpu()))\n",
        "          tags_out.append(np.array(tags[idx].cpu()))\n",
        "          text_out.append(np.array(sent.cpu()))\n",
        "    for idx, ele in enumerate(predicts_out):\n",
        "      predicts_out[idx] = predicts_out[idx].tolist()\n",
        "    for idx, ele in enumerate(tags_out):\n",
        "      tags_out[idx] = tags_out[idx].tolist()\n",
        "    for idx, ele in enumerate(text_out):\n",
        "      text_out[idx] = text_out[idx].tolist()\n",
        "\n",
        "    return predicts_out, tags_out, text_out"
      ]
    },
    {
      "cell_type": "code",
      "execution_count": null,
      "metadata": {
        "id": "zZUWAaHgmDYy"
      },
      "outputs": [],
      "source": [
        "preds, tags, texts = predict(network_OITagger, test_loader, pad_idx)"
      ]
    },
    {
      "cell_type": "code",
      "execution_count": null,
      "metadata": {
        "id": "re9onYp4n4DR"
      },
      "outputs": [],
      "source": []
    },
    {
      "cell_type": "code",
      "execution_count": null,
      "metadata": {
        "colab": {
          "base_uri": "https://localhost:8080/"
        },
        "id": "vS7LmDAwSlzI",
        "outputId": "8939e890-e29c-4549-851c-216f2f5be1a4"
      },
      "outputs": [
        {
          "name": "stdout",
          "output_type": "stream",
          "text": [
            "[5, 5, 5, 5, 5, 5, 5, 5, 5, 5, 5, 5, 5, 11, 5, 5, 5, 5, 11, 2, 5, 11, 2, 5, 5, 5, 11, 5, 5, 5, 5, 5, 5, 5, 5, 5, 5, 5, 5, 5, 5, 5, 5, 5, 5, 11, 5, 5, 5, 5, 11, 5, 5, 5, 2, 5, 5, 5, 5, 5, 5, 5, 5, 5, 5, 5, 5, 5, 5, 5, 5, 5, 2, 5, 5, 5, 5, 5, 5, 5, 5, 5, 5, 5, 5, 5, 5, 5, 5, 5, 5, 5, 5, 5, 5, 5, 5, 5, 5, 5, 5, 5, 5, 5, 5, 5, 5, 5, 11, 5, 5, 5, 5, 5, 5, 5, 5, 5, 5, 5, 5, 5, 5, 5, 5, 5, 2, 5, 5, 5, 5, 5, 5, 5, 5, 5, 5, 5, 11, 2, 5, 5, 5, 5, 5, 5, 5, 5, 11, 11, 11, 5, 11, 11, 5, 11, 17, 11, 12, 5, 8, 5, 5, 5, 5, 5, 5, 2, 5, 5, 5, 5, 5, 5, 2, 5, 11, 5, 5, 5, 5, 11, 5, 5, 5, 5, 5, 5, 5, 5, 5, 5, 5, 5, 5, 11, 5, 5, 2, 5, 5, 5, 5, 5, 2, 5, 5, 2, 2, 5, 2, 5, 5, 11, 2, 11, 5, 5, 5, 5, 5, 11, 5, 5, 5, 5, 5, 2, 5, 5, 5, 2, 5, 5, 5, 5, 2, 11, 5, 5, 5, 5, 11, 5, 5, 5, 5, 5, 5, 5, 5, 5, 5, 5, 5, 5, 2, 5, 5, 2, 5, 5, 11, 5, 5, 5, 5, 5, 5, 2, 5, 5, 2, 5, 5, 5, 11, 5, 5, 5, 11, 5, 5, 5, 5, 5, 5, 5, 5, 2, 2, 5, 5, 5, 5, 5, 5, 5, 5, 5, 5, 5, 5, 5, 5, 11, 5, 5, 5, 2, 5, 5, 5, 5, 5, 5, 5, 5, 5]\n",
            "[0, 0, 0, 0, 0, 0, 0, 0, 0, 0, 0, 0, 0, 0, 0, 0, 0, 0, 0, 0, 0, 0, 0, 0, 0, 0, 0, 0, 0, 0, 0, 0, 0, 0, 0, 0, 0, 0, 0, 0, 0, 0, 0, 0, 0, 0, 0, 0, 0, 0, 0, 0, 0, 0, 0, 0, 0, 0, 0, 0, 0, 0, 0, 0, 0, 0, 0, 0, 0, 0, 0, 0, 0, 0, 0, 0, 0, 0, 0, 0, 0, 0, 0, 0, 0, 0, 0, 0, 0, 0, 0, 0, 0, 0, 0, 0, 0, 0, 0, 0, 0, 0, 0, 0, 0, 0, 0, 0, 0, 0, 0, 0, 0, 0, 0, 0, 0, 0, 0, 0, 0, 0, 0, 0, 0, 0, 0, 0, 0, 0, 0, 0, 0, 0, 0, 0, 0, 0, 0, 0, 0, 0, 0, 0, 0, 0, 0, 0, 0, 0, 0, 0, 0, 0, 0, 3, 17, 11, 12, 5, 8, 14, 6, 0, 0, 0, 0, 0, 0, 0, 0, 0, 0, 0, 0, 0, 0, 0, 0, 0, 0, 0, 0, 0, 0, 0, 0, 0, 0, 0, 0, 0, 0, 0, 0, 0, 0, 0, 0, 0, 0, 0, 0, 0, 0, 0, 0, 0, 0, 0, 0, 0, 0, 0, 0, 0, 0, 0, 0, 0, 0, 0, 0, 0, 0, 0, 0, 0, 0, 0, 0, 0, 0, 0, 0, 0, 0, 0, 0, 0, 0, 0, 0, 0, 0, 0, 0, 0, 0, 0, 0, 0, 0, 0, 0, 0, 0, 0, 0, 0, 0, 0, 0, 0, 0, 0, 0, 0, 0, 0, 0, 0, 0, 0, 0, 0, 0, 0, 0, 0, 0, 0, 0, 0, 0, 0, 0, 0, 0, 0, 0, 0, 0, 0, 0, 0, 0, 0, 0, 0, 0, 0, 0, 0, 0, 0, 0, 0, 0, 0, 0, 0, 0, 0, 0, 0, 0, 0, 0]\n"
          ]
        }
      ],
      "source": [
        "print(preds[0])\n",
        "print(tags[0])"
      ]
    },
    {
      "cell_type": "code",
      "execution_count": null,
      "metadata": {
        "id": "Sqe4GfuLRwiq"
      },
      "outputs": [],
      "source": [
        "for i in range(len(preds)):\n",
        "  for j in range(len(preds[i])):\n",
        "    if tags[i][j] == 0:\n",
        "      preds[i][j] = 0\n",
        "  preds[i] = [ele for ele in preds[i] if ele != 0]\n",
        "  tags[i] = [ele for ele in tags[i] if ele != 0]\n",
        "  texts[i] = [ele for ele in texts[i] if ele != 0]"
      ]
    },
    {
      "cell_type": "code",
      "execution_count": null,
      "metadata": {
        "id": "5JNt8Ue6R1yC"
      },
      "outputs": [],
      "source": [
        "decpreds, dectags, dectext, declangs = [], [], [], []\n",
        "decpreds.append(tokenize(preds, tag_decoder))\n",
        "dectags.append(tokenize(tags, tag_decoder))\n",
        "dectext.append(tokenize(texts, word_decoder))\n",
        "decpreds = decpreds[0]\n",
        "dectags = dectags[0]\n",
        "dectext = dectext[0]"
      ]
    },
    {
      "cell_type": "code",
      "execution_count": null,
      "metadata": {
        "colab": {
          "base_uri": "https://localhost:8080/"
        },
        "id": "6Q7O4sGNmMe_",
        "outputId": "46dbf679-92c9-45d8-eb98-edcf1a88cb40"
      },
      "outputs": [
        {
          "name": "stdout",
          "output_type": "stream",
          "text": [
            "['VB', 'CONJ', 'VB', 'PART', 'N', 'D', 'N', 'N']\n",
            "['start', 'CONJ', 'VB', 'PART', 'N', 'D', 'PUNCT', 'stop']\n",
            "['start', 'og', 'brutu', 'niður', 'stengur$', '$nar', '.', 'stop']\n"
          ]
        }
      ],
      "source": [
        "print(decpreds[0])\n",
        "print(dectags[0])\n",
        "print(dectext[0])"
      ]
    },
    {
      "cell_type": "code",
      "execution_count": null,
      "metadata": {
        "id": "E8jaBu5pmOS1"
      },
      "outputs": [],
      "source": [
        "in_set_vocab = []\n",
        "for batch in train_loader:\n",
        "  texts = batch[0]\n",
        "  for sent in texts:\n",
        "    sent = sent.tolist()\n",
        "    sent = [ele for ele in sent if ele != 0]\n",
        "    x = []\n",
        "    for i in sent:\n",
        "      x.append([i])\n",
        "    x = tokenize(x, word_decoder)\n",
        "    for word in x:\n",
        "      in_set_vocab.append(word)\n",
        "in_set_vocab = set([x for y in in_set_vocab for x in y])"
      ]
    },
    {
      "cell_type": "code",
      "execution_count": null,
      "metadata": {
        "colab": {
          "base_uri": "https://localhost:8080/"
        },
        "id": "EW7WRc_CmTf1",
        "outputId": "26cef20f-7350-4725-85f1-3bff64b9aa12"
      },
      "outputs": [
        {
          "name": "stdout",
          "output_type": "stream",
          "text": [
            "Total Accuracy:\n",
            "VB | 85.95% of 11297\n",
            "N | 90.15% of 11244\n",
            "PRO | 97.01% of 6330\n",
            "PUNCT | 0% of 6270\n",
            "P | 88.14% of 5204\n",
            "start | 0% of 4369\n",
            "stop | 0% of 4369\n",
            "ADV | 93.41% of 3916\n",
            "CONJ | 99.13% of 3460\n",
            "C | 97.81% of 2507\n",
            "D | 82.21% of 2299\n",
            "ADJ | 64.17% of 1853\n",
            "Q | 92.33% of 1147\n",
            "XX | 0% of 985\n",
            "PART | 48.25% of 800\n",
            "NEG | 97.97% of 542\n",
            "NUM | 85.53% of 235\n",
            "WH | 76.76% of 142\n",
            "INTJ | 0% of 8\n"
          ]
        }
      ],
      "source": [
        "corrects, incorrects, totals = [], [], []\n",
        "uk_corrects, uk_incorrects, uk_totals = [], [], []\n",
        "for i in range(len(decpreds)):\n",
        "  for j in range(len(decpreds[i])):\n",
        "    totals.append(dectags[i][j])\n",
        "    if decpreds[i][j] == dectags[i][j]:\n",
        "      corrects.append(decpreds[i][j])\n",
        "    else:\n",
        "      incorrects.append(decpreds[i][j])\n",
        "    if dectext[i][j] not in in_set_vocab:\n",
        "      uk_totals.append(dectags[i][j])\n",
        "      if decpreds[i][j] == dectags[i][j]:\n",
        "        uk_corrects.append(decpreds[i][j])\n",
        "      else:\n",
        "        uk_incorrects.append(decpreds[i][j])\n",
        "\n",
        "c_freqs = Counter(corrects)\n",
        "ic_freqs = Counter(incorrects)\n",
        "t_freqs = Counter(totals)\n",
        "uk_c_freqs = Counter(uk_corrects)\n",
        "uk_ic_freqs = Counter(uk_incorrects)\n",
        "uk_t_freqs = Counter(uk_totals)\n",
        "\n",
        "print('Total Accuracy:')\n",
        "data = []\n",
        "labels = []\n",
        "any_c = [x[0] for x in c_freqs.most_common()]\n",
        "for i in t_freqs.most_common():\n",
        "  if i[0] not in any_c:\n",
        "    data.append(0)\n",
        "    labels.append(i[0])\n",
        "    print(f'{i[0]} | 0% of {i[1]}')\n",
        "  else:\n",
        "    for ele in c_freqs.most_common():\n",
        "      if ele[0] == i[0]:\n",
        "        num_c = ele[1]\n",
        "    class_acc = num_c/i[1]\n",
        "    data.append(class_acc*100)\n",
        "    labels.append(i[0])\n",
        "    print(f'{i[0]} | {class_acc*100:.2f}% of {i[1]}')"
      ]
    },
    {
      "cell_type": "code",
      "execution_count": null,
      "metadata": {
        "id": "IFOEUvfxYBRy"
      },
      "outputs": [],
      "source": [
        "plot_list = ['N', 'VB', 'PRO', 'P', 'ADV', 'CONJ', 'C', 'D', 'ADJ', 'Q', 'PART', 'NEG', 'NUM', 'WH', 'INTJ']"
      ]
    },
    {
      "cell_type": "code",
      "execution_count": null,
      "metadata": {
        "colab": {
          "base_uri": "https://localhost:8080/"
        },
        "id": "AsBve-JD96rr",
        "outputId": "d7b979c9-dd6c-40f1-8370-6322c1310b85"
      },
      "outputs": [
        {
          "name": "stdout",
          "output_type": "stream",
          "text": [
            "['VB', 'N', 'PRO', 'PUNCT', 'P', 'start', 'stop', 'ADV', 'CONJ', 'C', 'D', 'ADJ', 'Q', 'XX', 'PART', 'NEG', 'NUM', 'WH', 'INTJ']\n"
          ]
        }
      ],
      "source": [
        "print(labels)"
      ]
    },
    {
      "cell_type": "code",
      "execution_count": null,
      "metadata": {
        "colab": {
          "base_uri": "https://localhost:8080/",
          "height": 607
        },
        "id": "ujL1i8OuqXXl",
        "outputId": "8420ca1a-5944-410f-9960-49463dd029ce"
      },
      "outputs": [
        {
          "data": {
            "image/png": "[encoded data removed]",
            "text/plain": [
              "<Figure size 1000x600 with 1 Axes>"
            ]
          },
          "metadata": {},
          "output_type": "display_data"
        }
      ],
      "source": [
        "plot_data = []\n",
        "plot_labels = []\n",
        "for label, value in zip(labels, data):\n",
        "    if label in plot_list:\n",
        "        plot_data.append(value)\n",
        "        plot_labels.append(label)\n",
        "\n",
        "plt.figure(figsize=(10, 6))\n",
        "plt.bar(plot_labels, plot_data)\n",
        "plt.xlabel(\"POS Tags\")\n",
        "plt.ylabel(\"Accuracy (%)\")\n",
        "plt.title(\"Accuracy per POS Tag\")\n",
        "plt.xticks(rotation=45, ha='right')\n",
        "for i, v in enumerate(plot_data):\n",
        "    plt.text(i, v + 1, f\"{v:.2f}%\", ha='center', va='bottom')\n",
        "\n",
        "plt.tight_layout()\n",
        "plt.show()\n"
      ]
    },
    {
      "cell_type": "code",
      "execution_count": null,
      "metadata": {
        "colab": {
          "base_uri": "https://localhost:8080/"
        },
        "id": "8OjoLXmm8Jzk",
        "outputId": "07c6b194-5c3a-47b1-d3c8-a830ca3cae59"
      },
      "outputs": [
        {
          "name": "stdout",
          "output_type": "stream",
          "text": [
            "\\begin{tabular}{lr}\n",
            "\\toprule\n",
            "Labels & Data \\\\\n",
            "\\midrule\n",
            "VB & 85.952023 \\\\\n",
            "N & 90.145856 \\\\\n",
            "PRO & 97.014218 \\\\\n",
            "PUNCT & 0.000000 \\\\\n",
            "P & 88.143736 \\\\\n",
            "start & 0.000000 \\\\\n",
            "stop & 0.000000 \\\\\n",
            "ADV & 93.411645 \\\\\n",
            "CONJ & 99.132948 \\\\\n",
            "C & 97.806143 \\\\\n",
            "D & 82.209656 \\\\\n",
            "ADJ & 64.166217 \\\\\n",
            "Q & 92.327812 \\\\\n",
            "XX & 0.000000 \\\\\n",
            "PART & 48.250000 \\\\\n",
            "NEG & 97.970480 \\\\\n",
            "NUM & 85.531915 \\\\\n",
            "WH & 76.760563 \\\\\n",
            "INTJ & 0.000000 \\\\\n",
            "\\bottomrule\n",
            "\\end{tabular}\n",
            "\n"
          ]
        }
      ],
      "source": [
        "df = pd.DataFrame({'Labels': labels, 'Data': data})\n",
        "print(df.to_latex(index=False))"
      ]
    }
  ],
  "metadata": {
    "accelerator": "GPU",
    "colab": {
      "gpuType": "T4",
      "provenance": []
    },
    "kernelspec": {
      "display_name": "Python 3",
      "name": "python3"
    },
    "language_info": {
      "name": "python"
    }
  },
  "nbformat": 4,
  "nbformat_minor": 0
}
